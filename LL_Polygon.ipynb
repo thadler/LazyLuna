{
 "cells": [
  {
   "cell_type": "code",
   "execution_count": null,
   "id": "00512560",
   "metadata": {},
   "outputs": [],
   "source": [
    "import os\n",
    "from pathlib import Path\n",
    "from operator import itemgetter\n",
    "import pickle\n",
    "import pydicom\n",
    "from time import time\n",
    "\n",
    "import matplotlib.pyplot as plt\n",
    "import numpy as np\n",
    "from shapely.geometry import Polygon, MultiPolygon, LineString, GeometryCollection, Point, MultiPoint\n",
    "from shapely.affinity import translate\n",
    "\n",
    "from catch_converter.parse_contours import parse_cvi42ws\n",
    "import CATCH_utils\n",
    "from Mini_LL import *"
   ]
  },
  {
   "cell_type": "markdown",
   "id": "45fa35e7",
   "metadata": {},
   "source": [
    "# Convert Workspaces and Make Cases"
   ]
  },
  {
   "cell_type": "code",
   "execution_count": null,
   "id": "21eeac0d",
   "metadata": {
    "tags": []
   },
   "outputs": [],
   "source": [
    "# after the dicoms receiving LL-tags \n",
    "\n",
    "bp       = '/media/omega/Daten1/CATCH/CS'\n",
    "bp_ws    = '/media/omega/Daten1/CATCH/CS/Workspaces'\n",
    "bp_annos = '/media/omega/Daten1/CATCH/CS/Annos'\n",
    "bp_imgs  = '/media/omega/Daten1/CATCH/CS/Imgs'\n",
    "\n",
    "\"\"\"\n",
    "# basepaths\n",
    "bp       = '/Users/dietrichhadler/Desktop/Daten/CS_SAXCINE_Test/data'\n",
    "bp_ws    = '/Users/dietrichhadler/Desktop/Daten/CS_SAXCINE_Test/data/JGold_workspaces'\n",
    "bp_annos = '/Users/dietrichhadler/Desktop/Daten/CS_SAXCINE_Test/data/JGold'\n",
    "bp_imgs  = '/Users/dietrichhadler/Desktop/Daten/CS_SAXCINE_Test/data/Imgs'\n",
    "\"\"\"\n",
    "# unpack the workspaces from ws_path to case_storage_path\n",
    "#cvi42ws_paths     = [f for f in os.listdir(bp_ws) if f.endswith('cvi42ws')]\n",
    "#for p in cvi42ws_paths: parse_cvi42ws(bp_ws, bp_annos, process=True, debug=True)\n",
    "\n",
    "parse_cvi42ws(bp_ws, bp_annos, process=True, debug=False)\n",
    "\n",
    "\n",
    "# get the paths of imgs and annotations via SeriesInstanceUIDs\n",
    "imgsanno_paths = get_imgs_and_annotation_paths(bp_imgs, bp_annos)\n",
    "\n",
    "completed = [a.split('_')[1] for a in os.listdir(bp) if a.endswith('.pickle')]\n",
    "\n",
    "cases = []\n",
    "#sax_cine_view = SAX_CINE_View()\n",
    "sax_cs_view   = SAX_CS_View()\n",
    "for imgp, annop in imgsanno_paths:\n",
    "    if os.path.basename(imgp) in completed:\n",
    "        print('Skipped', os.path.basename(imgp))\n",
    "        continue\n",
    "    print(imgp, annop)\n",
    "    st = time()\n",
    "    case = Case(imgp, annop, os.path.basename(imgp), os.path.basename(bp_annos))\n",
    "    #case = sax_cine_view.customize_case(case)\n",
    "    case = sax_cs_view.customize_case(case)\n",
    "    case.store(bp)\n",
    "    cases.append(case)\n",
    "    print('Case customization took: ', time()-st, 'Case: ', case.reader_name, case.case_name)"
   ]
  },
  {
   "cell_type": "markdown",
   "id": "9e390014",
   "metadata": {},
   "source": [
    "# Load Cases and print Clinical Results"
   ]
  },
  {
   "cell_type": "code",
   "execution_count": null,
   "id": "acd847f8-81a5-4493-8648-3fa125965338",
   "metadata": {},
   "outputs": [],
   "source": [
    "case = pickle.load(open(os.path.join(bp, 'Annos_ECSPRESS132_LL_case.pickle'), 'rb'))\n",
    "print('CS data:')\n",
    "case = sax_cs_view.customize_case(case)\n",
    "cat = [cat for cat in case.categories][0]\n",
    "print('LV endo volume curve: ', cat.get_volume_curve('lv_endo'))\n",
    "print([cat.phase for cat in case.categories])\n",
    "for cr in case.crs: print(cr.name, cr.get_cr())\n",
    "print([cr.get_cr(string=True) for cr in case.crs])"
   ]
  },
  {
   "cell_type": "code",
   "execution_count": null,
   "id": "686c3cdb",
   "metadata": {},
   "outputs": [],
   "source": [
    "# load a case\n",
    "bp = '/media/omega/Daten1/CATCH/CS'\n",
    "case_paths = [os.path.join(bp,p) for p in os.listdir(bp) if p.endswith('.pickle')]\n",
    "cases = [pickle.load(open(p, 'rb')) for p in case_paths]\n",
    "\n",
    "case  = cases[0]\n",
    "print(case.case_name)\n",
    "\n",
    "sax_cine_view = SAX_CINE_View()\n",
    "sax_cs_view   = SAX_CS_View()\n",
    "\n",
    "print('CS data:')\n",
    "case = sax_cs_view.customize_case(case)\n",
    "cat = [cat for cat in case.categories][0]\n",
    "print('LV endo volume curve: ', cat.get_volume_curve('lv_endo'))\n",
    "print([cat.phase for cat in case.categories])\n",
    "for cr in case.crs: print(cr.name, cr.get_cr())\n",
    "print([cr.get_cr(string=True) for cr in case.crs])"
   ]
  },
  {
   "cell_type": "markdown",
   "id": "306a6cd0",
   "metadata": {},
   "source": [
    "# Checking Contours on Imgs"
   ]
  },
  {
   "cell_type": "code",
   "execution_count": null,
   "id": "601197ac",
   "metadata": {},
   "outputs": [],
   "source": [
    "cat = case.categories[0]\n",
    "fig, ax = plt.subplots(1,5,figsize=(25,25))\n",
    "print('Nr slices: ', cat.nr_slices)\n",
    "for i in range(5):\n",
    "    img  = cat.get_img (2+i, 24)\n",
    "    anno = cat.get_anno(2+i, 24)\n",
    "    ax[i].imshow(img, interpolation='none', cmap='gray')\n",
    "    if anno is not None: anno.plot_all_contour_outlines(ax[i])\n",
    "plt.show()\n",
    "\n",
    "fig, ax = plt.subplots(1,5,figsize=(25,25))\n",
    "for i in range(5):\n",
    "    img  = cat.get_img (2+i, 24)\n",
    "    anno = cat.get_anno(2+i, 24)\n",
    "    ax[i].imshow(img, interpolation='none', cmap='gray')\n",
    "    anno.plot_contour_face(ax[i], 'lv_myo', c='r', alpha=0.4)\n",
    "    anno.plot_all_contour_outlines(ax[i])\n",
    "plt.show()"
   ]
  },
  {
   "cell_type": "markdown",
   "id": "17e3284f",
   "metadata": {},
   "source": [
    "# Load Trainee Cases for Comparisons"
   ]
  },
  {
   "cell_type": "code",
   "execution_count": null,
   "id": "a1fdb741",
   "metadata": {},
   "outputs": [],
   "source": [
    "case1 = pickle.load(open('/Users/dietrichhadler/Desktop/Daten/test/data/segm1/segm1_178-lvma_LL_case.pickle', 'rb'))\n",
    "case2 = pickle.load(open('/Users/dietrichhadler/Desktop/Daten/test/data/segm2/segm2_178-lvma_LL_case.pickle', 'rb'))\n",
    "case_comp = Case_Comparison(case1, case2)\n",
    "print(case_comp)"
   ]
  },
  {
   "cell_type": "code",
   "execution_count": null,
   "id": "a7e88c73",
   "metadata": {},
   "outputs": [],
   "source": [
    "case1 = sax_cine_view.customize_case(case1)\n",
    "case2 = sax_cine_view.customize_case(case2)\n",
    "cr_pairs = zip(case1.crs, case2.crs)\n",
    "for cr1, cr2 in cr_pairs:\n",
    "    print(cr1.name, cr2.name, cr1.get_cr(), cr2.get_cr(), cr1.get_cr_diff(cr2))\n"
   ]
  },
  {
   "cell_type": "markdown",
   "id": "9a9743d0",
   "metadata": {},
   "source": [
    "## Fast metric calculations"
   ]
  },
  {
   "cell_type": "code",
   "execution_count": null,
   "id": "d23146b7",
   "metadata": {},
   "outputs": [],
   "source": [
    "metric = HausdorffMetric()\n",
    "metric.set_case_comparison(case_comp)\n",
    "hausdorff_dict = metric.calculate_all_vals(True)\n",
    "\n",
    "metric = DiceMetric()\n",
    "metric.set_case_comparison(case_comp)\n",
    "dice_dict = metric.calculate_all_vals(True)\n",
    "\n",
    "metric = mlDiffMetric()\n",
    "metric.set_case_comparison(case_comp)\n",
    "mldiff_dict = metric.calculate_all_vals(True)"
   ]
  },
  {
   "cell_type": "markdown",
   "id": "e7238172",
   "metadata": {},
   "source": [
    "## Get Contour Comparison Visualizations for large ml Diffs"
   ]
  },
  {
   "cell_type": "code",
   "execution_count": null,
   "id": "31c23e8f",
   "metadata": {},
   "outputs": [],
   "source": [
    "for sop, c in mldiff_dict.keys():\n",
    "    if np.abs(mldiff_dict[(sop,c)]) > 2:\n",
    "        print(c, 'mldiff: ', mldiff_dict[(sop,c)])\n",
    "        img   = case1.get_img(sop)\n",
    "        anno1 = case1.load_anno(sop)\n",
    "        anno2 = case2.load_anno(sop)\n",
    "        if not anno1.has_contour(c) or not anno2.has_contour(c): continue\n",
    "        fig, ax = plt.subplots(1,1,figsize=(10,10))\n",
    "        ax.imshow(img, interpolation='none', cmap='gray')\n",
    "        anno1.plot_cont_comparison(ax, anno2, c)\n",
    "        plt.show()"
   ]
  },
  {
   "cell_type": "code",
   "execution_count": null,
   "id": "2a99b347",
   "metadata": {
    "scrolled": true
   },
   "outputs": [],
   "source": [
    "cat = case1.categories[0]; print(cat.phase)\n",
    "fig, ax = plt.subplots(1,4,figsize=(20,20))\n",
    "for i in range(4):\n",
    "    img, anno = cat.get_img (1+i, cat.phase), cat.get_anno(1+i, cat.phase)\n",
    "    ax[i].imshow(img, cmap='gray')\n",
    "    anno.plot_contour_face(ax[i], 'lv_endo', c='r', alpha=0.4); anno.plot_all_contour_outlines(ax[i])\n",
    "plt.show()\n",
    "cat = case2.categories[0]; print(cat.phase)\n",
    "fig, ax = plt.subplots(1,4,figsize=(20,20))\n",
    "for i in range(4):\n",
    "    img, anno = cat.get_img (1+i, cat.phase), cat.get_anno(1+i, cat.phase)\n",
    "    ax[i].imshow(img, cmap='gray')\n",
    "    anno.plot_contour_face(ax[i], 'lv_endo', c='r', alpha=0.4); anno.plot_all_contour_outlines(ax[i])\n",
    "plt.show()"
   ]
  },
  {
   "cell_type": "markdown",
   "id": "74061a42",
   "metadata": {},
   "source": [
    "## Testing to_mask and to_poly function"
   ]
  },
  {
   "cell_type": "code",
   "execution_count": null,
   "id": "07b1a569",
   "metadata": {},
   "outputs": [],
   "source": [
    "cat = case1.categories[0]\n",
    "print(cat.phase)\n",
    "fig, ax = plt.subplots(1,4,figsize=(20,20))\n",
    "for i in range(4):\n",
    "    img, anno = cat.get_img (1+i, 10), cat.get_anno(1+i, 10)\n",
    "    mask = CATCH_utils.to_mask(anno.get_contour('lv_endo'), 200, 200)\n",
    "    poly = CATCH_utils.to_polygon(mask)\n",
    "    ax[i].imshow(img, cmap='gray')\n",
    "    if not poly.is_empty: CATCH_utils.plot_outlines(ax[i], poly)\n",
    "plt.show()"
   ]
  },
  {
   "cell_type": "markdown",
   "id": "31c26997",
   "metadata": {},
   "source": [
    "## Get a Datafram of comparisons"
   ]
  },
  {
   "cell_type": "code",
   "execution_count": null,
   "id": "e639f7f8",
   "metadata": {
    "scrolled": true
   },
   "outputs": [],
   "source": [
    "analyzer = SAX_CINE_analyzer(case_comp)\n",
    "# Reduce to first reader with argument! Get 'cross phase' with False (typically for reader comparison)\n",
    "#metric = DiceMetric()\n",
    "#analyzer.get_metric_values_depth_time(metric, cont_name='lv_myo', fixed_phase_first_reader=False)\n",
    "table = analyzer.get_case_contour_comparison_pandas_dataframe(fixed_phase_first_reader=True, debug=True)\n",
    "print(len(table))\n",
    "table.iloc[40:100,:]"
   ]
  },
  {
   "cell_type": "code",
   "execution_count": null,
   "id": "a5c9a8f4",
   "metadata": {},
   "outputs": [],
   "source": []
  }
 ],
 "metadata": {
  "kernelspec": {
   "display_name": "Python 3 (ipykernel)",
   "language": "python",
   "name": "python3"
  },
  "language_info": {
   "codemirror_mode": {
    "name": "ipython",
    "version": 3
   },
   "file_extension": ".py",
   "mimetype": "text/x-python",
   "name": "python",
   "nbconvert_exporter": "python",
   "pygments_lexer": "ipython3",
   "version": "3.8.10"
  }
 },
 "nbformat": 4,
 "nbformat_minor": 5
}
