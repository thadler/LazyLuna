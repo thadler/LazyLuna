{
 "cells": [
  {
   "cell_type": "code",
   "execution_count": 1,
   "id": "0c620e0c",
   "metadata": {},
   "outputs": [],
   "source": [
    "import os\n",
    "import json\n",
    "import nibabel as nib\n",
    "from nibabel.testing import data_path\n",
    "import matplotlib.pyplot as plt\n",
    "import numpy as np\n",
    "from LazyLuna.utils import *\n",
    "from LazyLuna.Mini_LL import *\n",
    "from LazyLuna.Views import *\n",
    "\n",
    "import pydicom\n",
    "from pydicom.dataset import Dataset\n",
    "import pydicom._storage_sopclass_uids"
   ]
  },
  {
   "cell_type": "code",
   "execution_count": 9,
   "id": "5286b0ca",
   "metadata": {},
   "outputs": [],
   "source": [
    "# from nifti path\n",
    "basepath = '/Users/dietrichhadler/Desktop/Thomas/LL_Test'\n",
    "base_nii = os.path.join(basepath, 'emidec-dataset-1.0.1')\n",
    "\n",
    "# to dicoms and annotation paths\n",
    "imgs_path = os.path.join(basepath, 'Imgs')\n",
    "gold_path = os.path.join(basepath, 'Gold')\n",
    "ai_path   = os.path.join(basepath, 'Emidec_AI')\n",
    "# to cases\n",
    "cases_path = os.path.join(basepath, 'Cases')\n",
    "for p in [imgs_path, gold_path, cases_path]: os.mkdir(p) if not os.path.exists(p) else pass\n",
    "\n",
    "# load dictionary of case name --> studyuid and sopinstanceuids of slices\n",
    "with open(os.path.join(basepath, 'case_slice_to_sops.json'), 'r') as fp:\n",
    "    sort_dict = json.load(fp)"
   ]
  },
  {
   "cell_type": "code",
   "execution_count": 3,
   "id": "75a0c0ed",
   "metadata": {},
   "outputs": [],
   "source": [
    "###################\n",
    "# Transform Annos #\n",
    "###################\n",
    "def emidec_to_anno_dict(mask, img_size, pixel_size):\n",
    "    # 1: endo # 2: healthy myo # 3: scar # 4: no reflow\n",
    "    endo_cont     = to_polygon((mask==1).astype(np.int16))\n",
    "    myo_cont      = to_polygon((mask>=2).astype(np.int16))\n",
    "    scar_cont     = to_polygon((mask==3).astype(np.int16))\n",
    "    noreflow_cont = to_polygon((mask==4).astype(np.int16))\n",
    "    anno_dict = dict()\n",
    "    if not endo_cont.is_empty:     anno_dict['lv_endo']  = {'cont': endo_cont}\n",
    "    if not myo_cont.is_empty :     anno_dict['lv_myo']   = {'cont': myo_cont}\n",
    "    if not scar_cont.is_empty:     anno_dict['scar']  = {'cont': scar_cont}\n",
    "    if not noreflow_cont.is_empty: anno_dict['noreflow'] = {'cont': noreflow_cont}\n",
    "    anno_dict['info'] = {'imageSize': img_size, 'pixelSize': pixel_size}\n",
    "    return anno_dict\n",
    "\n",
    "def emidec_transform_to_ll_annos(nii_annos, bpath, studyiuid, sops):\n",
    "    contdir = os.path.join(bpath, studyiuid) \n",
    "    if not os.path.exists(contdir): os.mkdir(contdir)\n",
    "    h , w, nr_slices = nii_annos.shape\n",
    "    ph, pw, slice_th = nii_annos.header['pixdim'][1:4]\n",
    "    mask_data = nii_annos.get_fdata().astype(np.int32)\n",
    "    ll_annos = []\n",
    "    for d in range(nr_slices):\n",
    "        ll_annos.append(emidec_to_anno_dict(mask_data[:,:,d], [h,w], [ph,pw]))\n",
    "        with open(os.path.join(contdir, sops[d]+'.pickle'), 'wb') as f:\n",
    "            pickle.dump(ll_annos[-1], f, pickle.HIGHEST_PROTOCOL)\n",
    "    return ll_annos        "
   ]
  },
  {
   "cell_type": "code",
   "execution_count": 4,
   "id": "f88c4c84",
   "metadata": {},
   "outputs": [],
   "source": [
    "def nifti_to_dcm(nii_imgs, bpath, casename, studyuid, sops):\n",
    "    if not os.path.exists(os.path.join(bpath, casename)):\n",
    "        os.mkdir(os.path.join(bpath, casename))\n",
    "    h, w, nr_slices  = nii_imgs.header['dim'][1:4]\n",
    "    ph, pw, pdepth = nii_imgs.header['pixdim'][1:4]\n",
    "    imgs = nii_imgs.get_fdata()\n",
    "    for d in range(nr_slices):\n",
    "        img = imgs[:,:,d]\n",
    "        img = img.astype(np.uint16)\n",
    "        meta = pydicom.Dataset()\n",
    "        meta.MediaStorageSOPClassUID = pydicom._storage_sopclass_uids.MRImageStorage\n",
    "        meta.MediaStorageSOPInstanceUID = pydicom.uid.generate_uid()\n",
    "        meta.TransferSyntaxUID = pydicom.uid.ExplicitVRLittleEndian\n",
    "        ds = Dataset()\n",
    "        ds.file_meta = meta\n",
    "        ds.SOPInstanceUID = sops[d]\n",
    "        ds.is_little_endian = True\n",
    "        ds.is_implicit_VR = False\n",
    "        ds.SOPClassUID = pydicom._storage_sopclass_uids.MRImageStorage\n",
    "        ds.PatientName = 'PatientX'\n",
    "        ds.PatientID = \"123456\"\n",
    "        ds.Modality = \"MR\"\n",
    "        ds.SeriesInstanceUID = pydicom.uid.generate_uid()\n",
    "        ds.StudyInstanceUID  = studyuid\n",
    "        ds.FrameOfReferenceUID = pydicom.uid.generate_uid()\n",
    "        ds.SeriesDescription = \"sax lge\"\n",
    "        ds.SliceLocation  = d*pdepth\n",
    "        ds.SliceThickness = str(pdepth)\n",
    "        ds.SpacingBetweenSlices = str(pdepth)\n",
    "        ds.PixelSpacing = str(ph)+'\\\\'+str(pw)\n",
    "        ds.SeriesNumber = 0\n",
    "        ds.BitsStored = 16\n",
    "        ds.BitsAllocated = 16\n",
    "        ds.SamplesPerPixel = 1\n",
    "        ds.HighBit = 15\n",
    "        ds.ImagesInAcquisition = \"1\"\n",
    "        ds.Rows    = h\n",
    "        ds.Columns = w\n",
    "        ds.InstanceNumber = 0\n",
    "        ds.ImagePositionPatient = r\"0\\0\\1\"\n",
    "        ds.ImageOrientationPatient = r\"1\\0\\0\\0\\-1\\0\"\n",
    "        ds.ImageType = r\"ORIGINAL\\PRIMARY\\AXIAL\"\n",
    "        ds.RescaleIntercept = \"0\"\n",
    "        ds.RescaleSlope     = \"1\"\n",
    "        ds.PhotometricInterpretation = \"MONOCHROME2\"\n",
    "        ds.PixelRepresentation = 1\n",
    "        pydicom.dataset.validate_file_meta(ds.file_meta, enforce_standard=True)\n",
    "        ds.PixelData = img.tobytes()\n",
    "        ds.private_block(0x000b, 'Lazy Luna: SAX LGE', create=True)\n",
    "        filename = os.path.join(bpath, casename, str(d)+'.dcm')\n",
    "        ds.save_as(filename=filename, write_like_original=False)"
   ]
  },
  {
   "cell_type": "code",
   "execution_count": 5,
   "id": "0b05b5e0",
   "metadata": {
    "scrolled": true
   },
   "outputs": [],
   "source": [
    "folders = [f for f in os.listdir(base_nii) if os.path.isdir(os.path.join(base_nii, f))]\n",
    "for f in folders:\n",
    "    img_path  = os.path.join(base_nii, f, 'Images')\n",
    "    anno_path = os.path.join(base_nii, f, 'Contours')\n",
    "    nii_imgs  = nib.load(os.path.join(img_path,  f+'.nii.gz'))\n",
    "    nii_annos = nib.load(os.path.join(anno_path, f+'.nii.gz'))\n",
    "    studyiuid, sops = sort_dict[f]['study_uid'], sort_dict[f]['sopinstanceuids']\n",
    "    nifti_to_dcm(nii_imgs, imgs_path, f, studyiuid, sops)\n",
    "    annos = emidec_transform_to_ll_annos(nii_annos, gold_path, studyiuid, sops)"
   ]
  },
  {
   "cell_type": "code",
   "execution_count": 8,
   "id": "fcb9a270",
   "metadata": {},
   "outputs": [
    {
     "name": "stdout",
     "output_type": "stream",
     "text": [
      "...................................................................................................."
     ]
    }
   ],
   "source": [
    "# transform cases to LL # can take a minute\n",
    "paths = get_imgs_and_annotation_paths(imgs_path, gold_path)\n",
    "view = SAX_LGE_View()\n",
    "for imgp, annop in paths:\n",
    "    print('.', end='')\n",
    "    case = Case(imgp, annop, os.path.basename(imgp), os.path.basename(gold_path))\n",
    "    view.initialize_case(case, cvi_preprocess=False, debug=False)\n",
    "    case.store(cases_path)"
   ]
  },
  {
   "cell_type": "code",
   "execution_count": 7,
   "id": "67183481",
   "metadata": {},
   "outputs": [
    {
     "name": "stdout",
     "output_type": "stream",
     "text": [
      "...................................................................................................."
     ]
    }
   ],
   "source": [
    "# transform AI cases to LL # can take a minute\n",
    "paths = get_imgs_and_annotation_paths(imgs_path, ai_path)\n",
    "view = SAX_LGE_View()\n",
    "for imgp, annop in paths:\n",
    "    print('.', end='')\n",
    "    case = Case(imgp, annop, os.path.basename(imgp), os.path.basename(ai_path))\n",
    "    view.initialize_case(case, cvi_preprocess=False, debug=False)\n",
    "    case.store(cases_path)"
   ]
  },
  {
   "cell_type": "code",
   "execution_count": null,
   "id": "f1fb37ff",
   "metadata": {},
   "outputs": [],
   "source": []
  },
  {
   "cell_type": "code",
   "execution_count": null,
   "id": "2d2323c3",
   "metadata": {},
   "outputs": [],
   "source": [
    "cases = [pickle.load(open(os.path.join(cases_path, p), 'rb')) for p in os.listdir(cases_path)]\n",
    "v     = SAX_LGE_View()\n",
    "cases = [v.customize_case(c) for c in cases]\n",
    "for i in range(50, 100):\n",
    "    case  = cases[i] # 50th is the first patient -with- scars\n",
    "    cat   = case.categories[0]\n",
    "    for d in range(cat.nr_slices):\n",
    "        img, anno = cat.get_img(d,0), cat.get_anno(d,0)\n",
    "        fig, ax = plt.subplots(1,1,figsize=(7,7))\n",
    "        b   = 35\n",
    "        bb1 = anno.get_contour('lv_myo').envelope\n",
    "        bb2 = anno.get_contour('lv_myo').envelope\n",
    "        bb  = bb1 if hasattr(bb1, 'exterior') else bb2\n",
    "        if hasattr(bb, 'exterior'):\n",
    "            x, y = np.array(bb.exterior.xy)\n",
    "            lx, ly, ux, uy = x.min()-b-10, y.min()-b, x.max()+b, y.max()+b\n",
    "            ax.set_xlim([lx, ux]); ax.set_ylim([ly, uy]); ax.invert_yaxis()\n",
    "        ax.axis('off')\n",
    "        ax.imshow(img, cmap='gray')\n",
    "        #anno.plot_all_contour_outlines(ax)\n",
    "        anno.plot_contour_outlines(ax, 'lv_myo')\n",
    "        anno.plot_contour_face    (ax, 'lv_myo'  , 'w')\n",
    "        anno.plot_contour_face    (ax, 'scar'    , 'r')\n",
    "        anno.plot_contour_face    (ax, 'noreflow', 'b')\n",
    "        plt.show()"
   ]
  },
  {
   "cell_type": "code",
   "execution_count": null,
   "id": "c0caeed7",
   "metadata": {},
   "outputs": [],
   "source": []
  }
 ],
 "metadata": {
  "kernelspec": {
   "display_name": "Python 3",
   "language": "python",
   "name": "python3"
  },
  "language_info": {
   "codemirror_mode": {
    "name": "ipython",
    "version": 3
   },
   "file_extension": ".py",
   "mimetype": "text/x-python",
   "name": "python",
   "nbconvert_exporter": "python",
   "pygments_lexer": "ipython3",
   "version": "3.8.8"
  }
 },
 "nbformat": 4,
 "nbformat_minor": 5
}
