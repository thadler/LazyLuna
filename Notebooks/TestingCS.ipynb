{
 "cells": [
  {
   "cell_type": "code",
   "execution_count": 1,
   "id": "3fd81e89",
   "metadata": {},
   "outputs": [],
   "source": [
    "import os\n",
    "from pathlib import Path\n",
    "from operator import itemgetter\n",
    "import pickle\n",
    "import pydicom\n",
    "from time import time\n",
    "import pandas\n",
    "\n",
    "import matplotlib.pyplot as plt\n",
    "import numpy as np\n",
    "\n",
    "from catch_converter.parse_contours import parse_cvi42ws\n",
    "from LazyLuna.Mini_LL import *\n",
    "from LazyLuna.CATCH_utils import *\n",
    "from LazyLuna.Tables  import *\n",
    "from LazyLuna.Figures import *"
   ]
  },
  {
   "cell_type": "code",
   "execution_count": 2,
   "id": "48aa3bf1",
   "metadata": {},
   "outputs": [],
   "source": [
    "# basepaths\n",
    "bp        = '/Users/dietrichhadler/Desktop/Daten/CS_ESED_Cases'\n",
    "bp_annos1 = '/Users/dietrichhadler/Desktop/Daten/CS_ESED_Cases/JGold'\n",
    "bp_annos2 = '/Users/dietrichhadler/Desktop/Daten/CS_ESED_Cases/FCN'\n",
    "bp_cases  = '/Users/dietrichhadler/Desktop/Daten/CS_ESED_Cases/Cases'\n",
    "bp_imgs   = '/Users/dietrichhadler/Desktop/Daten/CS_ESED_Cases/Imgs'"
   ]
  },
  {
   "cell_type": "code",
   "execution_count": null,
   "id": "243a92ef",
   "metadata": {},
   "outputs": [],
   "source": [
    "# get the paths of imgs and annotations via SeriesInstanceUIDs\n",
    "imgsanno_paths = get_imgs_and_annotation_paths(bp_imgs, bp_annos)\n",
    "\n",
    "print('Nr of path tuples: ', len(imgsanno_paths))\n",
    "case_names = sorted([c[0] for c in imgsanno_paths])\n",
    "from pprint import pprint\n",
    "print('Existing Annotations: ', len(sorted([c[0] for c in imgsanno_paths if os.path.exists(c[1])])))\n",
    "pprint(sorted([c[0] for c in imgsanno_paths if os.path.exists(c[1])]))\n",
    "\n",
    "cases = []\n",
    "sax_cine_view = SAX_CINE_View()\n",
    "sax_cs_view   = SAX_CS_View()\n",
    "for count, (imgp,annop) in enumerate(imgsanno_paths):\n",
    "    print(count)\n",
    "    print(os.path.basename(imgp), os.path.basename(annop))\n",
    "    st = time()\n",
    "    case = Case(imgp, annop, os.path.basename(imgp), os.path.basename(bp_annos))\n",
    "    case = sax_cine_view.initialize_case(case)\n",
    "    case = sax_cs_view  .initialize_case(case)\n",
    "    case.store(bp_cases)\n",
    "    cases.append(case)\n",
    "    print('Case customization took: ', time()-st, 'Case: ', case.reader_name, case.case_name)\n",
    "    print()"
   ]
  },
  {
   "cell_type": "code",
   "execution_count": null,
   "id": "a1e32c48",
   "metadata": {},
   "outputs": [],
   "source": []
  },
  {
   "cell_type": "code",
   "execution_count": 3,
   "id": "94d37363",
   "metadata": {
    "scrolled": true
   },
   "outputs": [
    {
     "data": {
      "text/html": [
       "<div>\n",
       "<style scoped>\n",
       "    .dataframe tbody tr th:only-of-type {\n",
       "        vertical-align: middle;\n",
       "    }\n",
       "\n",
       "    .dataframe tbody tr th {\n",
       "        vertical-align: top;\n",
       "    }\n",
       "\n",
       "    .dataframe thead th {\n",
       "        text-align: right;\n",
       "    }\n",
       "</style>\n",
       "<table border=\"1\" class=\"dataframe\">\n",
       "  <thead>\n",
       "    <tr style=\"text-align: right;\">\n",
       "      <th></th>\n",
       "      <th>case</th>\n",
       "      <th>reader1</th>\n",
       "      <th>reader2</th>\n",
       "      <th>LVESV Gold</th>\n",
       "      <th>LVESV FCN</th>\n",
       "      <th>LVESV difference</th>\n",
       "      <th>LVEDV Gold</th>\n",
       "      <th>LVEDV FCN</th>\n",
       "      <th>LVEDV difference</th>\n",
       "      <th>RVESV Gold</th>\n",
       "      <th>...</th>\n",
       "      <th>LVSV avg</th>\n",
       "      <th>LVEF avg</th>\n",
       "      <th>RVSV avg</th>\n",
       "      <th>RVEF avg</th>\n",
       "      <th>LVM avg</th>\n",
       "      <th>RVM avg</th>\n",
       "      <th>LVESP avg</th>\n",
       "      <th>RVESP avg</th>\n",
       "      <th>LVEDP avg</th>\n",
       "      <th>RVEDP avg</th>\n",
       "    </tr>\n",
       "  </thead>\n",
       "  <tbody>\n",
       "    <tr>\n",
       "      <th>0</th>\n",
       "      <td>ECSPRESS-003</td>\n",
       "      <td>Gold</td>\n",
       "      <td>FCN</td>\n",
       "      <td>44.669443</td>\n",
       "      <td>47.482644</td>\n",
       "      <td>-2.813201</td>\n",
       "      <td>142.076853</td>\n",
       "      <td>143.149878</td>\n",
       "      <td>-1.073025</td>\n",
       "      <td>78.063904</td>\n",
       "      <td>...</td>\n",
       "      <td>96.537321</td>\n",
       "      <td>67.694890</td>\n",
       "      <td>83.269657</td>\n",
       "      <td>56.782826</td>\n",
       "      <td>89.674892</td>\n",
       "      <td>0.0</td>\n",
       "      <td>10.0</td>\n",
       "      <td>11.0</td>\n",
       "      <td>20.0</td>\n",
       "      <td>12.0</td>\n",
       "    </tr>\n",
       "    <tr>\n",
       "      <th>1</th>\n",
       "      <td>ECSPRESS-012</td>\n",
       "      <td>Gold</td>\n",
       "      <td>FCN</td>\n",
       "      <td>78.548260</td>\n",
       "      <td>79.056786</td>\n",
       "      <td>-0.508526</td>\n",
       "      <td>157.611798</td>\n",
       "      <td>157.845671</td>\n",
       "      <td>-0.233873</td>\n",
       "      <td>76.381420</td>\n",
       "      <td>...</td>\n",
       "      <td>78.926212</td>\n",
       "      <td>50.039301</td>\n",
       "      <td>73.594788</td>\n",
       "      <td>50.989103</td>\n",
       "      <td>114.650046</td>\n",
       "      <td>0.0</td>\n",
       "      <td>7.5</td>\n",
       "      <td>8.0</td>\n",
       "      <td>20.0</td>\n",
       "      <td>24.0</td>\n",
       "    </tr>\n",
       "    <tr>\n",
       "      <th>2</th>\n",
       "      <td>ECSPRESS-056</td>\n",
       "      <td>Gold</td>\n",
       "      <td>FCN</td>\n",
       "      <td>135.394122</td>\n",
       "      <td>128.986198</td>\n",
       "      <td>6.407924</td>\n",
       "      <td>244.766395</td>\n",
       "      <td>237.912382</td>\n",
       "      <td>6.854013</td>\n",
       "      <td>86.953921</td>\n",
       "      <td>...</td>\n",
       "      <td>109.149229</td>\n",
       "      <td>45.234255</td>\n",
       "      <td>93.177158</td>\n",
       "      <td>52.021954</td>\n",
       "      <td>106.906640</td>\n",
       "      <td>0.0</td>\n",
       "      <td>9.0</td>\n",
       "      <td>9.5</td>\n",
       "      <td>20.5</td>\n",
       "      <td>12.0</td>\n",
       "    </tr>\n",
       "  </tbody>\n",
       "</table>\n",
       "<p>3 rows × 71 columns</p>\n",
       "</div>"
      ],
      "text/plain": [
       "           case reader1 reader2  LVESV Gold   LVESV FCN  LVESV difference  \\\n",
       "0  ECSPRESS-003    Gold     FCN   44.669443   47.482644         -2.813201   \n",
       "1  ECSPRESS-012    Gold     FCN   78.548260   79.056786         -0.508526   \n",
       "2  ECSPRESS-056    Gold     FCN  135.394122  128.986198          6.407924   \n",
       "\n",
       "   LVEDV Gold   LVEDV FCN  LVEDV difference  RVESV Gold  ...    LVSV avg  \\\n",
       "0  142.076853  143.149878         -1.073025   78.063904  ...   96.537321   \n",
       "1  157.611798  157.845671         -0.233873   76.381420  ...   78.926212   \n",
       "2  244.766395  237.912382          6.854013   86.953921  ...  109.149229   \n",
       "\n",
       "    LVEF avg   RVSV avg   RVEF avg     LVM avg  RVM avg  LVESP avg  RVESP avg  \\\n",
       "0  67.694890  83.269657  56.782826   89.674892      0.0       10.0       11.0   \n",
       "1  50.039301  73.594788  50.989103  114.650046      0.0        7.5        8.0   \n",
       "2  45.234255  93.177158  52.021954  106.906640      0.0        9.0        9.5   \n",
       "\n",
       "   LVEDP avg  RVEDP avg  \n",
       "0       20.0       12.0  \n",
       "1       20.0       24.0  \n",
       "2       20.5       12.0  \n",
       "\n",
       "[3 rows x 71 columns]"
      ]
     },
     "metadata": {},
     "output_type": "display_data"
    },
    {
     "ename": "ValueError",
     "evalue": "Could not interpret input 'LVMYOMASS difference'",
     "output_type": "error",
     "traceback": [
      "\u001b[0;31m---------------------------------------------------------------------------\u001b[0m",
      "\u001b[0;31mValueError\u001b[0m                                Traceback (most recent call last)",
      "\u001b[0;32m<ipython-input-3-352b96463dd9>\u001b[0m in \u001b[0;36m<module>\u001b[0;34m\u001b[0m\n\u001b[1;32m     17\u001b[0m \u001b[0mplot\u001b[0m\u001b[0;34m.\u001b[0m\u001b[0mstore\u001b[0m\u001b[0;34m(\u001b[0m\u001b[0;34m'/Users/dietrichhadler/Desktop'\u001b[0m\u001b[0;34m)\u001b[0m\u001b[0;34m\u001b[0m\u001b[0;34m\u001b[0m\u001b[0m\n\u001b[1;32m     18\u001b[0m \u001b[0mplot\u001b[0m \u001b[0;34m=\u001b[0m \u001b[0mSAX_Candlelight\u001b[0m\u001b[0;34m(\u001b[0m\u001b[0;34m)\u001b[0m\u001b[0;34m\u001b[0m\u001b[0;34m\u001b[0m\u001b[0m\n\u001b[0;32m---> 19\u001b[0;31m \u001b[0mplot\u001b[0m\u001b[0;34m.\u001b[0m\u001b[0mvisualize\u001b[0m\u001b[0;34m(\u001b[0m\u001b[0mccs\u001b[0m\u001b[0;34m)\u001b[0m\u001b[0;34m\u001b[0m\u001b[0;34m\u001b[0m\u001b[0m\n\u001b[0m\u001b[1;32m     20\u001b[0m \u001b[0mplot\u001b[0m\u001b[0;34m.\u001b[0m\u001b[0mstore\u001b[0m\u001b[0;34m(\u001b[0m\u001b[0;34m'/Users/dietrichhadler/Desktop'\u001b[0m\u001b[0;34m)\u001b[0m\u001b[0;34m\u001b[0m\u001b[0;34m\u001b[0m\u001b[0m\n",
      "\u001b[0;32m~/Documents/GitHub/LazyLuna/src/LazyLuna/Figures.py\u001b[0m in \u001b[0;36mvisualize\u001b[0;34m(self, case_comparisons)\u001b[0m\n\u001b[1;32m    123\u001b[0m                 \u001b[0;32mif\u001b[0m \u001b[0mn\u001b[0m\u001b[0;34m==\u001b[0m\u001b[0;36m7\u001b[0m\u001b[0;34m:\u001b[0m \u001b[0;32mbreak\u001b[0m\u001b[0;34m\u001b[0m\u001b[0;34m\u001b[0m\u001b[0m\n\u001b[1;32m    124\u001b[0m                 \u001b[0maxes\u001b[0m\u001b[0;34m[\u001b[0m\u001b[0mi\u001b[0m\u001b[0;34m]\u001b[0m\u001b[0;34m[\u001b[0m\u001b[0mj\u001b[0m\u001b[0;34m]\u001b[0m\u001b[0;34m.\u001b[0m\u001b[0mset_title\u001b[0m\u001b[0;34m(\u001b[0m\u001b[0mcrvs\u001b[0m\u001b[0;34m[\u001b[0m\u001b[0mn\u001b[0m\u001b[0;34m]\u001b[0m\u001b[0;34m.\u001b[0m\u001b[0mreplace\u001b[0m\u001b[0;34m(\u001b[0m\u001b[0;34m' difference'\u001b[0m\u001b[0;34m,\u001b[0m\u001b[0;34m''\u001b[0m\u001b[0;34m)\u001b[0m\u001b[0;34m.\u001b[0m\u001b[0mreplace\u001b[0m\u001b[0;34m(\u001b[0m\u001b[0;34m'YOMASS'\u001b[0m\u001b[0;34m,\u001b[0m\u001b[0;34m''\u001b[0m\u001b[0;34m)\u001b[0m \u001b[0;34m+\u001b[0m \u001b[0;34m\" Error\"\u001b[0m\u001b[0;34m)\u001b[0m\u001b[0;34m\u001b[0m\u001b[0;34m\u001b[0m\u001b[0m\n\u001b[0;32m--> 125\u001b[0;31m                 \u001b[0msns\u001b[0m\u001b[0;34m.\u001b[0m\u001b[0mboxplot\u001b[0m\u001b[0;34m(\u001b[0m\u001b[0max\u001b[0m\u001b[0;34m=\u001b[0m\u001b[0maxes\u001b[0m\u001b[0;34m[\u001b[0m\u001b[0mi\u001b[0m\u001b[0;34m]\u001b[0m\u001b[0;34m[\u001b[0m\u001b[0mj\u001b[0m\u001b[0;34m]\u001b[0m\u001b[0;34m,\u001b[0m \u001b[0mdata\u001b[0m\u001b[0;34m=\u001b[0m\u001b[0mtable\u001b[0m\u001b[0;34m,\u001b[0m \u001b[0mx\u001b[0m\u001b[0;34m=\u001b[0m\u001b[0;34m'reader2'\u001b[0m\u001b[0;34m,\u001b[0m \u001b[0my\u001b[0m\u001b[0;34m=\u001b[0m\u001b[0mcrvs\u001b[0m\u001b[0;34m[\u001b[0m\u001b[0mn\u001b[0m\u001b[0;34m]\u001b[0m\u001b[0;34m,\u001b[0m \u001b[0mpalette\u001b[0m\u001b[0;34m=\u001b[0m\u001b[0mboxplot_palette\u001b[0m\u001b[0;34m,\u001b[0m \u001b[0msaturation\u001b[0m\u001b[0;34m=\u001b[0m\u001b[0;36m1\u001b[0m\u001b[0;34m,\u001b[0m \u001b[0mwidth\u001b[0m\u001b[0;34m=\u001b[0m\u001b[0;36m0.3\u001b[0m\u001b[0;34m)\u001b[0m\u001b[0;34m\u001b[0m\u001b[0;34m\u001b[0m\u001b[0m\n\u001b[0m\u001b[1;32m    126\u001b[0m                 \u001b[0msns\u001b[0m\u001b[0;34m.\u001b[0m\u001b[0mswarmplot\u001b[0m\u001b[0;34m(\u001b[0m\u001b[0max\u001b[0m\u001b[0;34m=\u001b[0m\u001b[0maxes\u001b[0m\u001b[0;34m[\u001b[0m\u001b[0mi\u001b[0m\u001b[0;34m]\u001b[0m\u001b[0;34m[\u001b[0m\u001b[0mj\u001b[0m\u001b[0;34m]\u001b[0m\u001b[0;34m,\u001b[0m \u001b[0mdata\u001b[0m\u001b[0;34m=\u001b[0m\u001b[0mtable\u001b[0m\u001b[0;34m,\u001b[0m \u001b[0mx\u001b[0m\u001b[0;34m=\u001b[0m\u001b[0;34m'reader2'\u001b[0m\u001b[0;34m,\u001b[0m \u001b[0my\u001b[0m\u001b[0;34m=\u001b[0m\u001b[0mcrvs\u001b[0m\u001b[0;34m[\u001b[0m\u001b[0mn\u001b[0m\u001b[0;34m]\u001b[0m\u001b[0;34m,\u001b[0m \u001b[0mcolor\u001b[0m\u001b[0;34m=\u001b[0m\u001b[0;34m\"#061C36\"\u001b[0m\u001b[0;34m,\u001b[0m \u001b[0malpha\u001b[0m\u001b[0;34m=\u001b[0m\u001b[0;36m1\u001b[0m\u001b[0;34m)\u001b[0m\u001b[0;34m\u001b[0m\u001b[0;34m\u001b[0m\u001b[0m\n\u001b[1;32m    127\u001b[0m                 \u001b[0maxes\u001b[0m\u001b[0;34m[\u001b[0m\u001b[0mi\u001b[0m\u001b[0;34m]\u001b[0m\u001b[0;34m[\u001b[0m\u001b[0mj\u001b[0m\u001b[0;34m]\u001b[0m\u001b[0;34m.\u001b[0m\u001b[0mset_xlabel\u001b[0m\u001b[0;34m(\u001b[0m\u001b[0;34m\"\"\u001b[0m\u001b[0;34m)\u001b[0m\u001b[0;34m\u001b[0m\u001b[0;34m\u001b[0m\u001b[0m\n",
      "\u001b[0;32m~/opt/anaconda3/lib/python3.8/site-packages/seaborn/_decorators.py\u001b[0m in \u001b[0;36minner_f\u001b[0;34m(*args, **kwargs)\u001b[0m\n\u001b[1;32m     44\u001b[0m             )\n\u001b[1;32m     45\u001b[0m         \u001b[0mkwargs\u001b[0m\u001b[0;34m.\u001b[0m\u001b[0mupdate\u001b[0m\u001b[0;34m(\u001b[0m\u001b[0;34m{\u001b[0m\u001b[0mk\u001b[0m\u001b[0;34m:\u001b[0m \u001b[0marg\u001b[0m \u001b[0;32mfor\u001b[0m \u001b[0mk\u001b[0m\u001b[0;34m,\u001b[0m \u001b[0marg\u001b[0m \u001b[0;32min\u001b[0m \u001b[0mzip\u001b[0m\u001b[0;34m(\u001b[0m\u001b[0msig\u001b[0m\u001b[0;34m.\u001b[0m\u001b[0mparameters\u001b[0m\u001b[0;34m,\u001b[0m \u001b[0margs\u001b[0m\u001b[0;34m)\u001b[0m\u001b[0;34m}\u001b[0m\u001b[0;34m)\u001b[0m\u001b[0;34m\u001b[0m\u001b[0;34m\u001b[0m\u001b[0m\n\u001b[0;32m---> 46\u001b[0;31m         \u001b[0;32mreturn\u001b[0m \u001b[0mf\u001b[0m\u001b[0;34m(\u001b[0m\u001b[0;34m**\u001b[0m\u001b[0mkwargs\u001b[0m\u001b[0;34m)\u001b[0m\u001b[0;34m\u001b[0m\u001b[0;34m\u001b[0m\u001b[0m\n\u001b[0m\u001b[1;32m     47\u001b[0m     \u001b[0;32mreturn\u001b[0m \u001b[0minner_f\u001b[0m\u001b[0;34m\u001b[0m\u001b[0;34m\u001b[0m\u001b[0m\n\u001b[1;32m     48\u001b[0m \u001b[0;34m\u001b[0m\u001b[0m\n",
      "\u001b[0;32m~/opt/anaconda3/lib/python3.8/site-packages/seaborn/categorical.py\u001b[0m in \u001b[0;36mboxplot\u001b[0;34m(x, y, hue, data, order, hue_order, orient, color, palette, saturation, width, dodge, fliersize, linewidth, whis, ax, **kwargs)\u001b[0m\n\u001b[1;32m   2238\u001b[0m ):\n\u001b[1;32m   2239\u001b[0m \u001b[0;34m\u001b[0m\u001b[0m\n\u001b[0;32m-> 2240\u001b[0;31m     plotter = _BoxPlotter(x, y, hue, data, order, hue_order,\n\u001b[0m\u001b[1;32m   2241\u001b[0m                           \u001b[0morient\u001b[0m\u001b[0;34m,\u001b[0m \u001b[0mcolor\u001b[0m\u001b[0;34m,\u001b[0m \u001b[0mpalette\u001b[0m\u001b[0;34m,\u001b[0m \u001b[0msaturation\u001b[0m\u001b[0;34m,\u001b[0m\u001b[0;34m\u001b[0m\u001b[0;34m\u001b[0m\u001b[0m\n\u001b[1;32m   2242\u001b[0m                           width, dodge, fliersize, linewidth)\n",
      "\u001b[0;32m~/opt/anaconda3/lib/python3.8/site-packages/seaborn/categorical.py\u001b[0m in \u001b[0;36m__init__\u001b[0;34m(self, x, y, hue, data, order, hue_order, orient, color, palette, saturation, width, dodge, fliersize, linewidth)\u001b[0m\n\u001b[1;32m    404\u001b[0m                  width, dodge, fliersize, linewidth):\n\u001b[1;32m    405\u001b[0m \u001b[0;34m\u001b[0m\u001b[0m\n\u001b[0;32m--> 406\u001b[0;31m         \u001b[0mself\u001b[0m\u001b[0;34m.\u001b[0m\u001b[0mestablish_variables\u001b[0m\u001b[0;34m(\u001b[0m\u001b[0mx\u001b[0m\u001b[0;34m,\u001b[0m \u001b[0my\u001b[0m\u001b[0;34m,\u001b[0m \u001b[0mhue\u001b[0m\u001b[0;34m,\u001b[0m \u001b[0mdata\u001b[0m\u001b[0;34m,\u001b[0m \u001b[0morient\u001b[0m\u001b[0;34m,\u001b[0m \u001b[0morder\u001b[0m\u001b[0;34m,\u001b[0m \u001b[0mhue_order\u001b[0m\u001b[0;34m)\u001b[0m\u001b[0;34m\u001b[0m\u001b[0;34m\u001b[0m\u001b[0m\n\u001b[0m\u001b[1;32m    407\u001b[0m         \u001b[0mself\u001b[0m\u001b[0;34m.\u001b[0m\u001b[0mestablish_colors\u001b[0m\u001b[0;34m(\u001b[0m\u001b[0mcolor\u001b[0m\u001b[0;34m,\u001b[0m \u001b[0mpalette\u001b[0m\u001b[0;34m,\u001b[0m \u001b[0msaturation\u001b[0m\u001b[0;34m)\u001b[0m\u001b[0;34m\u001b[0m\u001b[0;34m\u001b[0m\u001b[0m\n\u001b[1;32m    408\u001b[0m \u001b[0;34m\u001b[0m\u001b[0m\n",
      "\u001b[0;32m~/opt/anaconda3/lib/python3.8/site-packages/seaborn/categorical.py\u001b[0m in \u001b[0;36mestablish_variables\u001b[0;34m(self, x, y, hue, data, orient, order, hue_order, units)\u001b[0m\n\u001b[1;32m    151\u001b[0m                 \u001b[0;32mif\u001b[0m \u001b[0misinstance\u001b[0m\u001b[0;34m(\u001b[0m\u001b[0mvar\u001b[0m\u001b[0;34m,\u001b[0m \u001b[0mstr\u001b[0m\u001b[0;34m)\u001b[0m\u001b[0;34m:\u001b[0m\u001b[0;34m\u001b[0m\u001b[0;34m\u001b[0m\u001b[0m\n\u001b[1;32m    152\u001b[0m                     \u001b[0merr\u001b[0m \u001b[0;34m=\u001b[0m \u001b[0;34m\"Could not interpret input '{}'\"\u001b[0m\u001b[0;34m.\u001b[0m\u001b[0mformat\u001b[0m\u001b[0;34m(\u001b[0m\u001b[0mvar\u001b[0m\u001b[0;34m)\u001b[0m\u001b[0;34m\u001b[0m\u001b[0;34m\u001b[0m\u001b[0m\n\u001b[0;32m--> 153\u001b[0;31m                     \u001b[0;32mraise\u001b[0m \u001b[0mValueError\u001b[0m\u001b[0;34m(\u001b[0m\u001b[0merr\u001b[0m\u001b[0;34m)\u001b[0m\u001b[0;34m\u001b[0m\u001b[0;34m\u001b[0m\u001b[0m\n\u001b[0m\u001b[1;32m    154\u001b[0m \u001b[0;34m\u001b[0m\u001b[0m\n\u001b[1;32m    155\u001b[0m             \u001b[0;31m# Figure out the plotting orientation\u001b[0m\u001b[0;34m\u001b[0m\u001b[0;34m\u001b[0m\u001b[0;34m\u001b[0m\u001b[0m\n",
      "\u001b[0;31mValueError\u001b[0m: Could not interpret input 'LVMYOMASS difference'"
     ]
    },
    {
     "data": {
      "text/plain": [
       "<Figure size 432x288 with 0 Axes>"
      ]
     },
     "metadata": {},
     "output_type": "display_data"
    }
   ],
   "source": [
    "cases  = [pickle.load(open(os.path.join(bp_cases, p), 'rb')) for p in os.listdir(bp_cases)]\n",
    "cases1 = sorted([c for c in cases if c.reader_name=='Gold'], key=lambda c: c.case_name)\n",
    "cases2 = sorted([c for c in cases if c.reader_name=='FCN'],  key=lambda c: c.case_name)\n",
    "\n",
    "sax_cine_view = SAX_CINE_View()\n",
    "sax_cs_view   = SAX_CS_View()\n",
    "\n",
    "ccs = [Case_Comparison(sax_cs_view.customize_case(c1), sax_cs_view.customize_case(c2)) for c1,c2 in zip(cases1,cases2)]\n",
    "\n",
    "table = CC_ClinicalResultsTable()\n",
    "table.calculate(ccs, True)\n",
    "table.add_bland_altman_dataframe(ccs)\n",
    "display(table.df)\n",
    "\n",
    "plot = SAX_BlandAltman()\n",
    "plot.visualize(ccs)\n",
    "plot.store('/Users/dietrichhadler/Desktop')\n",
    "plot = SAX_Candlelight()\n",
    "plot.visualize(ccs)\n",
    "plot.store('/Users/dietrichhadler/Desktop')"
   ]
  },
  {
   "cell_type": "code",
   "execution_count": null,
   "id": "d0bcfecb",
   "metadata": {},
   "outputs": [],
   "source": [
    "view = SAX_CINE_View()\n",
    "case = view.customize_case(case)\n",
    "print(case.case_name)\n",
    "\n",
    "print(case.type)\n",
    "print(case.categories)\n",
    "print(case.other_categories)\n",
    "print(case.all_imgs_sop2filepath.keys())\n",
    "for k in case.all_imgs_sop2filepath.keys():\n",
    "    print(k, len(case.all_imgs_sop2filepath[k]), end=', ')\n",
    "for cr in case.crs:\n",
    "    print(cr.name, cr.get_cr(), end=', ')"
   ]
  },
  {
   "cell_type": "code",
   "execution_count": null,
   "id": "24f3452e",
   "metadata": {
    "scrolled": true
   },
   "outputs": [],
   "source": [
    "vis = SAX_BlandAltman()\n",
    "vis.calculate(ccs)\n",
    "vis.fig"
   ]
  },
  {
   "cell_type": "code",
   "execution_count": null,
   "id": "8cf669b1",
   "metadata": {},
   "outputs": [],
   "source": [
    "vis = SAX_Candlelight()\n",
    "vis.calculate(ccs)\n",
    "vis.fig"
   ]
  },
  {
   "cell_type": "code",
   "execution_count": 35,
   "id": "b03f9edc",
   "metadata": {
    "scrolled": false
   },
   "outputs": [
    {
     "data": {
      "image/png": "[encoded data removed]",
      "text/plain": [
       "<BlandAltman size 1080x540 with 1 Axes>"
      ]
     },
     "execution_count": 35,
     "metadata": {},
     "output_type": "execute_result"
    },
    {
     "data": {
      "text/plain": [
       "<Figure size 432x288 with 0 Axes>"
      ]
     },
     "metadata": {},
     "output_type": "display_data"
    }
   ],
   "source": [
    "class BlandAltman(Visualization):\n",
    "    def visualize(self, case_comparisons, cr_name):\n",
    "        self.cr_name = cr_name\n",
    "        cr = [cr for cr in case_comparisons[0].case1.crs if cr.name==cr_name][0]\n",
    "        ax = self.add_subplot(111)\n",
    "        self.set_size_inches(w=15, h=7.5)\n",
    "        \n",
    "        custom_palette  = sns.color_palette(\"Blues\")\n",
    "        custom_palette2 = sns.color_palette(\"Purples\")\n",
    "        swarm_palette   = sns.color_palette([\"#061C36\", \"#061C36\"])\n",
    "        \n",
    "        rows = []\n",
    "        for cc in case_comparisons:\n",
    "            cr1 = [cr.get_cr() for cr in cc.case1.crs if cr.name==cr_name][0]\n",
    "            cr2 = [cr.get_cr() for cr in cc.case2.crs if cr.name==cr_name][0]\n",
    "            rows.append([(cr1+cr2)/2.0, cr1-cr2])\n",
    "        df = DataFrame(rows, columns=[cr_name, cr_name+' difference'])\n",
    "        \n",
    "        sns.scatterplot(ax=ax, x=cr_name, y=cr_name+' difference', data=df, markers='o', palette=swarm_palette, legend=False)\n",
    "        ax.axhline(df[cr_name+' difference'].mean(), ls=\"-\", c=\".2\")\n",
    "        ax.axhline(df[cr_name+' difference'].mean()+1.96*df[cr_name+' difference'].std(), ls=\":\", c=\".2\")\n",
    "        ax.axhline(df[cr_name+' difference'].mean()-1.96*df[cr_name+' difference'].std(), ls=\":\", c=\".2\")\n",
    "\n",
    "        ax.set_title(cr_name+' Bland Altman', fontsize=16)\n",
    "        ax.set_ylabel(cr.unit, fontsize=14)\n",
    "        ax.set_xlabel(cr.unit, fontsize=14)\n",
    "        sns.despine()\n",
    "    \n",
    "    def store(self, storepath, figurename='_bland_altman.png'):\n",
    "        self.savefig(os.path.join(storepath, self.cr_name+figurename), dpi=100, facecolor=\"#FFFFFF\")\n",
    "\n",
    "ba = BlandAltman()\n",
    "ba.visualize(ccs, 'LVESV')\n",
    "ba"
   ]
  },
  {
   "cell_type": "code",
   "execution_count": null,
   "id": "6c1b031f",
   "metadata": {},
   "outputs": [],
   "source": []
  }
 ],
 "metadata": {
  "kernelspec": {
   "display_name": "Python 3",
   "language": "python",
   "name": "python3"
  },
  "language_info": {
   "codemirror_mode": {
    "name": "ipython",
    "version": 3
   },
   "file_extension": ".py",
   "mimetype": "text/x-python",
   "name": "python",
   "nbconvert_exporter": "python",
   "pygments_lexer": "ipython3",
   "version": "3.8.8"
  }
 },
 "nbformat": 4,
 "nbformat_minor": 5
}
