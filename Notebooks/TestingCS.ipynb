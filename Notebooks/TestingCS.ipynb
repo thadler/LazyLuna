{
 "cells": [
  {
   "cell_type": "code",
   "execution_count": 4,
   "id": "3fd81e89",
   "metadata": {},
   "outputs": [],
   "source": [
    "import os\n",
    "from pathlib import Path\n",
    "from operator import itemgetter\n",
    "import pickle\n",
    "import pydicom\n",
    "from time import time\n",
    "import pandas\n",
    "\n",
    "import matplotlib.pyplot as plt\n",
    "import numpy as np\n",
    "\n",
    "from catch_converter.parse_contours import parse_cvi42ws\n",
    "from LazyLuna.Mini_LL import *\n",
    "from LazyLuna.CATCH_utils import *\n",
    "from LazyLuna.Tables  import *\n",
    "from LazyLuna.Figures import *"
   ]
  },
  {
   "cell_type": "code",
   "execution_count": 5,
   "id": "48aa3bf1",
   "metadata": {},
   "outputs": [],
   "source": [
    "# basepaths\n",
    "bp        = '/Users/dietrichhadler/Desktop/Daten/CS_ESED_Cases'\n",
    "bp_annos1 = '/Users/dietrichhadler/Desktop/Daten/CS_ESED_Cases/JGold'\n",
    "bp_annos2 = '/Users/dietrichhadler/Desktop/Daten/CS_ESED_Cases/FCN'\n",
    "bp_cases  = '/Users/dietrichhadler/Desktop/Daten/CS_ESED_Cases/Cases'\n",
    "bp_imgs   = '/Users/dietrichhadler/Desktop/Daten/CS_ESED_Cases/Imgs'"
   ]
  },
  {
   "cell_type": "code",
   "execution_count": null,
   "id": "243a92ef",
   "metadata": {},
   "outputs": [],
   "source": [
    "# get the paths of imgs and annotations via SeriesInstanceUIDs\n",
    "imgsanno_paths = get_imgs_and_annotation_paths(bp_imgs, bp_annos)\n",
    "\n",
    "print('Nr of path tuples: ', len(imgsanno_paths))\n",
    "case_names = sorted([c[0] for c in imgsanno_paths])\n",
    "from pprint import pprint\n",
    "print('Existing Annotations: ', len(sorted([c[0] for c in imgsanno_paths if os.path.exists(c[1])])))\n",
    "pprint(sorted([c[0] for c in imgsanno_paths if os.path.exists(c[1])]))\n",
    "\n",
    "cases = []\n",
    "sax_cine_view = SAX_CINE_View()\n",
    "sax_cs_view   = SAX_CS_View()\n",
    "for count, (imgp,annop) in enumerate(imgsanno_paths):\n",
    "    print(count)\n",
    "    print(os.path.basename(imgp), os.path.basename(annop))\n",
    "    st = time()\n",
    "    case = Case(imgp, annop, os.path.basename(imgp), os.path.basename(bp_annos))\n",
    "    case = sax_cine_view.initialize_case(case)\n",
    "    case = sax_cs_view  .initialize_case(case)\n",
    "    case.store(bp_cases)\n",
    "    cases.append(case)\n",
    "    print('Case customization took: ', time()-st, 'Case: ', case.reader_name, case.case_name)\n",
    "    print()"
   ]
  },
  {
   "cell_type": "code",
   "execution_count": null,
   "id": "a1e32c48",
   "metadata": {},
   "outputs": [],
   "source": []
  },
  {
   "cell_type": "code",
   "execution_count": 6,
   "id": "94d37363",
   "metadata": {
    "scrolled": true
   },
   "outputs": [],
   "source": [
    "cases  = [pickle.load(open(os.path.join(bp_cases, p), 'rb')) for p in os.listdir(bp_cases)]\n",
    "cases1 = sorted([c for c in cases if c.reader_name=='Gold'], key=lambda c: c.case_name)\n",
    "cases2 = sorted([c for c in cases if c.reader_name=='FCN'],  key=lambda c: c.case_name)\n",
    "\n",
    "sax_cine_view = SAX_CINE_View()\n",
    "sax_cs_view   = SAX_CS_View()\n",
    "ccs = [Case_Comparison(sax_cs_view.customize_case(c1), sax_cs_view.customize_case(c2)) for c1,c2 in zip(cases1,cases2)]"
   ]
  },
  {
   "cell_type": "code",
   "execution_count": null,
   "id": "41057530",
   "metadata": {},
   "outputs": [],
   "source": [
    "table = CC_ClinicalResultsTable()\n",
    "table.calculate(ccs, True)\n",
    "table.add_bland_altman_dataframe(ccs)\n",
    "display(table.df)"
   ]
  },
  {
   "cell_type": "code",
   "execution_count": 4,
   "id": "b1c1b0b4",
   "metadata": {
    "scrolled": true
   },
   "outputs": [
    {
     "data": {
      "text/html": [
       "<div>\n",
       "<style scoped>\n",
       "    .dataframe tbody tr th:only-of-type {\n",
       "        vertical-align: middle;\n",
       "    }\n",
       "\n",
       "    .dataframe tbody tr th {\n",
       "        vertical-align: top;\n",
       "    }\n",
       "\n",
       "    .dataframe thead th {\n",
       "        text-align: right;\n",
       "    }\n",
       "</style>\n",
       "<table border=\"1\" class=\"dataframe\">\n",
       "  <thead>\n",
       "    <tr style=\"text-align: right;\">\n",
       "      <th></th>\n",
       "      <th>Clinical Result</th>\n",
       "      <th>Gold</th>\n",
       "      <th>FCN</th>\n",
       "      <th>Diff(Gold, FCN)</th>\n",
       "    </tr>\n",
       "  </thead>\n",
       "  <tbody>\n",
       "    <tr>\n",
       "      <th>0</th>\n",
       "      <td>LVESV</td>\n",
       "      <td>86.2</td>\n",
       "      <td>85.2</td>\n",
       "      <td>1.0</td>\n",
       "    </tr>\n",
       "    <tr>\n",
       "      <th>1</th>\n",
       "      <td>LVEDV</td>\n",
       "      <td>181.5</td>\n",
       "      <td>179.6</td>\n",
       "      <td>1.8</td>\n",
       "    </tr>\n",
       "    <tr>\n",
       "      <th>2</th>\n",
       "      <td>RVESV</td>\n",
       "      <td>80.5</td>\n",
       "      <td>67.0</td>\n",
       "      <td>13.5</td>\n",
       "    </tr>\n",
       "    <tr>\n",
       "      <th>3</th>\n",
       "      <td>RVEDV</td>\n",
       "      <td>164.0</td>\n",
       "      <td>150.2</td>\n",
       "      <td>13.8</td>\n",
       "    </tr>\n",
       "    <tr>\n",
       "      <th>4</th>\n",
       "      <td>LVSV</td>\n",
       "      <td>95.3</td>\n",
       "      <td>94.5</td>\n",
       "      <td>0.8</td>\n",
       "    </tr>\n",
       "    <tr>\n",
       "      <th>5</th>\n",
       "      <td>LVEF</td>\n",
       "      <td>54.5</td>\n",
       "      <td>54.2</td>\n",
       "      <td>0.3</td>\n",
       "    </tr>\n",
       "    <tr>\n",
       "      <th>6</th>\n",
       "      <td>RVSV</td>\n",
       "      <td>83.5</td>\n",
       "      <td>83.2</td>\n",
       "      <td>0.3</td>\n",
       "    </tr>\n",
       "    <tr>\n",
       "      <th>7</th>\n",
       "      <td>RVEF</td>\n",
       "      <td>50.8</td>\n",
       "      <td>55.8</td>\n",
       "      <td>-5.0</td>\n",
       "    </tr>\n",
       "    <tr>\n",
       "      <th>8</th>\n",
       "      <td>LVM</td>\n",
       "      <td>106.5</td>\n",
       "      <td>100.9</td>\n",
       "      <td>5.6</td>\n",
       "    </tr>\n",
       "    <tr>\n",
       "      <th>9</th>\n",
       "      <td>RVM</td>\n",
       "      <td>0.0</td>\n",
       "      <td>0.0</td>\n",
       "      <td>0.0</td>\n",
       "    </tr>\n",
       "    <tr>\n",
       "      <th>10</th>\n",
       "      <td>LVESP</td>\n",
       "      <td>9.0</td>\n",
       "      <td>8.7</td>\n",
       "      <td>0.3</td>\n",
       "    </tr>\n",
       "    <tr>\n",
       "      <th>11</th>\n",
       "      <td>RVESP</td>\n",
       "      <td>9.0</td>\n",
       "      <td>10.0</td>\n",
       "      <td>1.0</td>\n",
       "    </tr>\n",
       "    <tr>\n",
       "      <th>12</th>\n",
       "      <td>LVEDP</td>\n",
       "      <td>20.2</td>\n",
       "      <td>20.2</td>\n",
       "      <td>0.0</td>\n",
       "    </tr>\n",
       "    <tr>\n",
       "      <th>13</th>\n",
       "      <td>RVEDP</td>\n",
       "      <td>24.0</td>\n",
       "      <td>8.0</td>\n",
       "      <td>0.7</td>\n",
       "    </tr>\n",
       "  </tbody>\n",
       "</table>\n",
       "</div>"
      ],
      "text/plain": [
       "   Clinical Result   Gold    FCN Diff(Gold, FCN)\n",
       "0            LVESV   86.2   85.2             1.0\n",
       "1            LVEDV  181.5  179.6             1.8\n",
       "2            RVESV   80.5   67.0            13.5\n",
       "3            RVEDV  164.0  150.2            13.8\n",
       "4             LVSV   95.3   94.5             0.8\n",
       "5             LVEF   54.5   54.2             0.3\n",
       "6             RVSV   83.5   83.2             0.3\n",
       "7             RVEF   50.8   55.8            -5.0\n",
       "8              LVM  106.5  100.9             5.6\n",
       "9              RVM    0.0    0.0             0.0\n",
       "10           LVESP    9.0    8.7             0.3\n",
       "11           RVESP    9.0   10.0             1.0\n",
       "12           LVEDP   20.2   20.2             0.0\n",
       "13           RVEDP   24.0    8.0             0.7"
      ]
     },
     "metadata": {},
     "output_type": "display_data"
    }
   ],
   "source": [
    "table = CC_ClinicalResultsAveragesTable()\n",
    "table.calculate(ccs)\n",
    "display(table.df)"
   ]
  },
  {
   "cell_type": "code",
   "execution_count": null,
   "id": "f35ea975",
   "metadata": {},
   "outputs": [],
   "source": [
    "plot = SAX_BlandAltman()\n",
    "plot.visualize(ccs)\n",
    "plot.store('/Users/dietrichhadler/Desktop')\n",
    "plot = SAX_Candlelight()\n",
    "plot.visualize(ccs)\n",
    "plot.store('/Users/dietrichhadler/Desktop')"
   ]
  },
  {
   "cell_type": "code",
   "execution_count": null,
   "id": "d0bcfecb",
   "metadata": {},
   "outputs": [],
   "source": [
    "view = SAX_CINE_View()\n",
    "case = view.customize_case(case)\n",
    "print(case.case_name)\n",
    "\n",
    "print(case.type)\n",
    "print(case.categories)\n",
    "print(case.other_categories)\n",
    "print(case.all_imgs_sop2filepath.keys())\n",
    "for k in case.all_imgs_sop2filepath.keys():\n",
    "    print(k, len(case.all_imgs_sop2filepath[k]), end=', ')\n",
    "for cr in case.crs:\n",
    "    print(cr.name, cr.get_cr(), end=', ')"
   ]
  },
  {
   "cell_type": "code",
   "execution_count": null,
   "id": "24f3452e",
   "metadata": {
    "scrolled": true
   },
   "outputs": [],
   "source": [
    "vis = SAX_BlandAltman()\n",
    "vis.calculate(ccs)\n",
    "vis.fig"
   ]
  },
  {
   "cell_type": "code",
   "execution_count": null,
   "id": "8cf669b1",
   "metadata": {},
   "outputs": [],
   "source": [
    "vis = SAX_Candlelight()\n",
    "vis.calculate(ccs)\n",
    "vis.fig"
   ]
  },
  {
   "cell_type": "code",
   "execution_count": 130,
   "id": "b03f9edc",
   "metadata": {
    "scrolled": false
   },
   "outputs": [
    {
     "name": "stdout",
     "output_type": "stream",
     "text": [
      "0  of  3, took:  1.314499855041504\n",
      "1  of  3, took:  1.452059030532837\n",
      "2  of  3, took:  1.83620023727417\n"
     ]
    }
   ],
   "source": [
    "cplot = Qualitative_Correlationplot()\n",
    "cplot.visualize(ccs, metric='ml diff')\n",
    "cplot\n",
    "#cplot.store('/Users/dietrichhadler/Desktop')"
   ]
  },
  {
   "cell_type": "code",
   "execution_count": 131,
   "id": "c05b720e",
   "metadata": {},
   "outputs": [
    {
     "data": {
      "image/png": "[encoded data removed]",
      "text/plain": [
       "<Qualitative_Correlationplot size 1440x648 with 13 Axes>"
      ]
     },
     "execution_count": 131,
     "metadata": {},
     "output_type": "execute_result"
    }
   ],
   "source": [
    "cplot"
   ]
  },
  {
   "cell_type": "code",
   "execution_count": null,
   "id": "dab417e6",
   "metadata": {},
   "outputs": [],
   "source": []
  }
 ],
 "metadata": {
  "kernelspec": {
   "display_name": "Python 3",
   "language": "python",
   "name": "python3"
  },
  "language_info": {
   "codemirror_mode": {
    "name": "ipython",
    "version": 3
   },
   "file_extension": ".py",
   "mimetype": "text/x-python",
   "name": "python",
   "nbconvert_exporter": "python",
   "pygments_lexer": "ipython3",
   "version": "3.8.8"
  }
 },
 "nbformat": 4,
 "nbformat_minor": 5
}
