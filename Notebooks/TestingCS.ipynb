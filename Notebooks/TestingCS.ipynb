{
 "cells": [
  {
   "cell_type": "code",
   "execution_count": 1,
   "id": "3fd81e89",
   "metadata": {},
   "outputs": [],
   "source": [
    "import os\n",
    "from pathlib import Path\n",
    "from operator import itemgetter\n",
    "import pickle\n",
    "import pydicom\n",
    "from time import time\n",
    "import pandas\n",
    "\n",
    "import matplotlib.pyplot as plt\n",
    "import numpy as np\n",
    "\n",
    "from catch_converter.parse_contours import parse_cvi42ws\n",
    "from LazyLuna.Mini_LL import *\n",
    "from LazyLuna.CATCH_utils import *\n",
    "from LazyLuna.Tables  import *\n",
    "from LazyLuna.Figures import *"
   ]
  },
  {
   "cell_type": "code",
   "execution_count": 2,
   "id": "48aa3bf1",
   "metadata": {},
   "outputs": [],
   "source": [
    "# basepaths\n",
    "bp        = '/Users/dietrichhadler/Desktop/Daten/CS_ESED_Cases'\n",
    "bp_annos1 = '/Users/dietrichhadler/Desktop/Daten/CS_ESED_Cases/JGold'\n",
    "bp_annos2 = '/Users/dietrichhadler/Desktop/Daten/CS_ESED_Cases/FCN'\n",
    "bp_cases  = '/Users/dietrichhadler/Desktop/Daten/CS_ESED_Cases/Cases'\n",
    "bp_imgs   = '/Users/dietrichhadler/Desktop/Daten/CS_ESED_Cases/Imgs'"
   ]
  },
  {
   "cell_type": "code",
   "execution_count": null,
   "id": "243a92ef",
   "metadata": {},
   "outputs": [],
   "source": [
    "# get the paths of imgs and annotations via SeriesInstanceUIDs\n",
    "imgsanno_paths = get_imgs_and_annotation_paths(bp_imgs, bp_annos)\n",
    "\n",
    "print('Nr of path tuples: ', len(imgsanno_paths))\n",
    "case_names = sorted([c[0] for c in imgsanno_paths])\n",
    "from pprint import pprint\n",
    "print('Existing Annotations: ', len(sorted([c[0] for c in imgsanno_paths if os.path.exists(c[1])])))\n",
    "pprint(sorted([c[0] for c in imgsanno_paths if os.path.exists(c[1])]))\n",
    "\n",
    "cases = []\n",
    "sax_cine_view = SAX_CINE_View()\n",
    "sax_cs_view   = SAX_CS_View()\n",
    "for count, (imgp,annop) in enumerate(imgsanno_paths):\n",
    "    print(count)\n",
    "    print(os.path.basename(imgp), os.path.basename(annop))\n",
    "    st = time()\n",
    "    case = Case(imgp, annop, os.path.basename(imgp), os.path.basename(bp_annos))\n",
    "    case = sax_cine_view.initialize_case(case)\n",
    "    case = sax_cs_view  .initialize_case(case)\n",
    "    case.store(bp_cases)\n",
    "    cases.append(case)\n",
    "    print('Case customization took: ', time()-st, 'Case: ', case.reader_name, case.case_name)\n",
    "    print()"
   ]
  },
  {
   "cell_type": "code",
   "execution_count": null,
   "id": "a1e32c48",
   "metadata": {},
   "outputs": [],
   "source": []
  },
  {
   "cell_type": "code",
   "execution_count": 3,
   "id": "94d37363",
   "metadata": {
    "scrolled": true
   },
   "outputs": [],
   "source": [
    "cases  = [pickle.load(open(os.path.join(bp_cases, p), 'rb')) for p in os.listdir(bp_cases)]\n",
    "cases1 = sorted([c for c in cases if c.reader_name=='Gold'], key=lambda c: c.case_name)\n",
    "cases2 = sorted([c for c in cases if c.reader_name=='FCN'],  key=lambda c: c.case_name)\n",
    "\n",
    "sax_cine_view = SAX_CINE_View()\n",
    "sax_cs_view   = SAX_CS_View()\n",
    "ccs = [Case_Comparison(sax_cs_view.customize_case(c1), sax_cs_view.customize_case(c2)) for c1,c2 in zip(cases1,cases2)]"
   ]
  },
  {
   "cell_type": "code",
   "execution_count": null,
   "id": "41057530",
   "metadata": {},
   "outputs": [],
   "source": [
    "table = CC_ClinicalResultsTable()\n",
    "table.calculate(ccs, True)\n",
    "table.add_bland_altman_dataframe(ccs)\n",
    "display(table.df)\n",
    "\n",
    "plot = SAX_BlandAltman()\n",
    "plot.visualize(ccs)\n",
    "plot.store('/Users/dietrichhadler/Desktop')\n",
    "plot = SAX_Candlelight()\n",
    "plot.visualize(ccs)\n",
    "plot.store('/Users/dietrichhadler/Desktop')"
   ]
  },
  {
   "cell_type": "code",
   "execution_count": null,
   "id": "d0bcfecb",
   "metadata": {},
   "outputs": [],
   "source": [
    "view = SAX_CINE_View()\n",
    "case = view.customize_case(case)\n",
    "print(case.case_name)\n",
    "\n",
    "print(case.type)\n",
    "print(case.categories)\n",
    "print(case.other_categories)\n",
    "print(case.all_imgs_sop2filepath.keys())\n",
    "for k in case.all_imgs_sop2filepath.keys():\n",
    "    print(k, len(case.all_imgs_sop2filepath[k]), end=', ')\n",
    "for cr in case.crs:\n",
    "    print(cr.name, cr.get_cr(), end=', ')"
   ]
  },
  {
   "cell_type": "code",
   "execution_count": null,
   "id": "24f3452e",
   "metadata": {
    "scrolled": true
   },
   "outputs": [],
   "source": [
    "vis = SAX_BlandAltman()\n",
    "vis.calculate(ccs)\n",
    "vis.fig"
   ]
  },
  {
   "cell_type": "code",
   "execution_count": null,
   "id": "8cf669b1",
   "metadata": {},
   "outputs": [],
   "source": [
    "vis = SAX_Candlelight()\n",
    "vis.calculate(ccs)\n",
    "vis.fig"
   ]
  },
  {
   "cell_type": "code",
   "execution_count": 26,
   "id": "b03f9edc",
   "metadata": {
    "scrolled": false
   },
   "outputs": [
    {
     "data": {
      "image/png": "[encoded data removed]",
      "text/plain": [
       "<Boxplot size 1080x540 with 1 Axes>"
      ]
     },
     "execution_count": 26,
     "metadata": {},
     "output_type": "execute_result"
    }
   ],
   "source": [
    "class Boxplot(Visualization):\n",
    "    def set_values(self, view, canvas):\n",
    "        self.view   = view\n",
    "        self.canvas = canvas\n",
    "        \n",
    "    def visualize(self, case_comparisons, cr_name):\n",
    "        self.cr_name = cr_name\n",
    "        cr = [cr for cr in case_comparisons[0].case1.crs if cr.name==cr_name][0]\n",
    "        ax = self.add_subplot(111)\n",
    "        self.set_size_inches(w=15, h=7.5)\n",
    "        custom_palette  = sns.color_palette([sns.color_palette(\"Blues\")[1], sns.color_palette(\"Purples\")[1]])\n",
    "        swarm_palette   = sns.color_palette([\"#061C36\", \"#061C36\"])\n",
    "        \n",
    "        rows = []\n",
    "        for cc in case_comparisons:\n",
    "            cr1 = [cr for cr in cc.case1.crs if cr.name==cr_name][0]\n",
    "            cr2 = [cr for cr in cc.case2.crs if cr.name==cr_name][0]\n",
    "            rows.append([cc.case1.reader_name+'-'+cc.case2.reader_name, cr1.get_cr_diff(cr2)])\n",
    "        df = DataFrame(rows, columns=['Reader', cr_name+' difference'])\n",
    "\n",
    "        # Plot\n",
    "        sns.boxplot  (ax=ax, data=df, y='Reader', x=cr_name+' difference', orient='h', width=0.3, palette=custom_palette)\n",
    "        sns.swarmplot(ax=ax, data=df, y='Reader', x=cr_name+' difference', orient='h', palette=swarm_palette)\n",
    "        ax.set_ylabel('')\n",
    "        #ax.get_yticklabels()\n",
    "        #ax.set_yticklabels([case_comparisons[0].case1.reader_name+'-'+case_comparisons[0].case2.reader_name], rotation=90)\n",
    "        texts = [str(i) for i in range(len(df))]\n",
    "        \n",
    "        annot = ax.annotate(\"\", xy=(0,0), xytext=(20,20), textcoords=\"offset points\", \n",
    "                            bbox=dict(boxstyle=\"round\", fc=\"w\"), arrowprops=dict(arrowstyle=\"->\"))\n",
    "        annot.set_visible(False)\n",
    "        \n",
    "        \n",
    "        def update_annot(ind):\n",
    "            pos = ax.collections[0].get_offsets()[ind[\"ind\"][0]]\n",
    "            print(pos)\n",
    "            annot.xy = pos\n",
    "            annot.set_text(texts[ind['ind'][0]])\n",
    "            #annot.get_bbox_patch().set_facecolor(cmap(norm(c[ind[\"ind\"][0]])))\n",
    "            #annot.get_bbox_patch().set_alpha(0.3)\n",
    "        \n",
    "        def hover(event):\n",
    "            vis = annot.get_visible()\n",
    "            if event.inaxes==ax:\n",
    "                cont, ind = ax.collections[0].contains(event)\n",
    "                if cont:\n",
    "                    update_annot(ind)\n",
    "                    annot.set_visible(True)\n",
    "                    self.canvas.draw_idle()\n",
    "                else:\n",
    "                    if vis:\n",
    "                        annot.set_visible(False)\n",
    "                        self.canvas.draw_idle()\n",
    "        \n",
    "        self.canvas.mpl_connect(\"motion_notify_event\", hover)\n",
    "        \n",
    "    \n",
    "    def store(self, storepath, figurename='_bland_altman.png'):\n",
    "        self.savefig(os.path.join(storepath, self.cr_name+figurename), dpi=100, facecolor=\"#FFFFFF\")\n",
    "\n",
    "\n",
    "ba = Boxplot()\n",
    "ba.visualize(ccs, 'LVESV')\n",
    "ba"
   ]
  },
  {
   "cell_type": "code",
   "execution_count": null,
   "id": "6c1b031f",
   "metadata": {},
   "outputs": [],
   "source": []
  }
 ],
 "metadata": {
  "kernelspec": {
   "display_name": "Python 3",
   "language": "python",
   "name": "python3"
  },
  "language_info": {
   "codemirror_mode": {
    "name": "ipython",
    "version": 3
   },
   "file_extension": ".py",
   "mimetype": "text/x-python",
   "name": "python",
   "nbconvert_exporter": "python",
   "pygments_lexer": "ipython3",
   "version": "3.8.8"
  }
 },
 "nbformat": 4,
 "nbformat_minor": 5
}
