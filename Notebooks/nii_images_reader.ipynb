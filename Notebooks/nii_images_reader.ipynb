{
 "cells": [
  {
   "cell_type": "code",
   "execution_count": 1,
   "metadata": {},
   "outputs": [],
   "source": [
    "import os\n",
    "from glob import glob\n",
    "import pickle\n",
    "\n",
    "import nibabel as nib\n",
    "import pandas as pd\n",
    "import numpy as np\n",
    "import matplotlib.pyplot as plt\n",
    "from   skimage.measure import find_contours\n",
    "from   scipy.ndimage import gaussian_filter\n",
    "\n",
    "import pydicom\n",
    "from   pydicom.dataset import FileDataset, Dataset\n",
    "from   pydicom.uid import ExplicitVRLittleEndian\n",
    "import pydicom._storage_sopclass_uids"
   ]
  },
  {
   "cell_type": "code",
   "execution_count": 2,
   "metadata": {},
   "outputs": [],
   "source": [
    "# Utils function to load and save nifti files with the nibabel package\n",
    "def load_nii(img_path):\n",
    "    nimg = nib.load(img_path)\n",
    "    return nimg.get_data(), nimg.affine, nimg.header\n",
    "\n",
    "def save_nii(img_path, data, affine, header):\n",
    "    nimg = nib.Nifti1Image(data, affine=affine, header=header)\n",
    "    nimg.to_filename(img_path)"
   ]
  },
  {
   "cell_type": "code",
   "execution_count": 3,
   "metadata": {},
   "outputs": [],
   "source": [
    "basepath = 'original_data'\n",
    "patients = [f for f in os.listdir(basepath)]\n",
    "folders  = [os.path.join(basepath, f) for f in patients]\n",
    "folders  = [f for f in folders if os.path.isdir(f)]"
   ]
  },
  {
   "cell_type": "code",
   "execution_count": 4,
   "metadata": {},
   "outputs": [
    {
     "name": "stdout",
     "output_type": "stream",
     "text": [
      "['original_data/patient001', 'original_data/patient003', 'original_data/patient002']\n"
     ]
    }
   ],
   "source": [
    "print(folders)"
   ]
  },
  {
   "cell_type": "code",
   "execution_count": 5,
   "metadata": {
    "scrolled": true
   },
   "outputs": [
    {
     "name": "stderr",
     "output_type": "stream",
     "text": [
      "<ipython-input-2-4cc24b554201>:4: DeprecationWarning: get_data() is deprecated in favor of get_fdata(), which has a more predictable return type. To obtain get_data() behavior going forward, use numpy.asanyarray(img.dataobj).\n",
      "\n",
      "* deprecated from version: 3.0\n",
      "* Will raise <class 'nibabel.deprecator.ExpiredDeprecationError'> as of version: 5.0\n",
      "  return nimg.get_data(), nimg.affine, nimg.header\n"
     ]
    },
    {
     "name": "stdout",
     "output_type": "stream",
     "text": [
      "(216, 256, 10, 30)\n",
      "(216, 256, 10)\n",
      "12\n",
      "(216, 256, 10)\n",
      "1\n",
      "<class 'nibabel.nifti1.Nifti1Header'> object, endian='<'\n",
      "sizeof_hdr      : 348\n",
      "data_type       : b''\n",
      "db_name         : b''\n",
      "extents         : 16384\n",
      "session_error   : 0\n",
      "regular         : b'r'\n",
      "dim_info        : 0\n",
      "dim             : [  4 216 256  10  30   1   1   1]\n",
      "intent_p1       : 0.0\n",
      "intent_p2       : 0.0\n",
      "intent_p3       : 0.0\n",
      "intent_code     : none\n",
      "datatype        : int16\n",
      "bitpix          : 16\n",
      "slice_start     : 0\n",
      "pixdim          : [ 1.      1.5625  1.5625 10.      1.      1.      1.      1.    ]\n",
      "vox_offset      : 0.0\n",
      "scl_slope       : nan\n",
      "scl_inter       : nan\n",
      "slice_end       : 0\n",
      "slice_code      : unknown\n",
      "xyzt_units      : 2\n",
      "cal_max         : 614.0\n",
      "cal_min         : 0.0\n",
      "slice_duration  : 0.0\n",
      "toffset         : 0.0\n",
      "glmax           : 1071\n",
      "glmin           : 0\n",
      "descrip         : b''\n",
      "aux_file        : b''\n",
      "qform_code      : unknown\n",
      "sform_code      : unknown\n",
      "quatern_b       : 0.0\n",
      "quatern_c       : 0.0\n",
      "quatern_d       : 0.0\n",
      "qoffset_x       : 0.0\n",
      "qoffset_y       : 0.0\n",
      "qoffset_z       : 0.0\n",
      "srow_x          : [1. 0. 0. 0.]\n",
      "srow_y          : [0. 1. 0. 0.]\n",
      "srow_z          : [0. 0. 1. 0.]\n",
      "intent_name     : b''\n",
      "magic           : b'n+1'\n"
     ]
    }
   ],
   "source": [
    "def get_img_conts_paths(folder):\n",
    "    subfolders = os.listdir(folder)\n",
    "    img_path   = [f for f in subfolders if '_4d' in f][0]\n",
    "    img_path   = os.path.join(folder, img_path)\n",
    "    imgs, _, header = load_nii(img_path)\n",
    "    segs = [f for f in subfolders if '_gt' in f]\n",
    "    segs1,_,_ = load_nii(os.path.join(folder, segs[0]))\n",
    "    phase1    = int(segs[0].split('frame')[1].split('_')[0])\n",
    "    segs2,_,_ = load_nii(os.path.join(folder, segs[1]))\n",
    "    phase2    = int(segs[1].split('frame')[1].split('_')[0])\n",
    "    return imgs, header, segs1, phase1, segs2, phase2\n",
    "\n",
    "imgs, header, segs1, phase1, segs2, phase2 = get_img_conts_paths(folders[0])\n",
    "print(imgs.shape)\n",
    "print(segs1.shape)\n",
    "print(phase1)\n",
    "print(segs2.shape)\n",
    "print(phase2)\n",
    "print(header)\n",
    "#plt.imshow(segs1[:, :, 0])"
   ]
  },
  {
   "cell_type": "code",
   "execution_count": 6,
   "metadata": {},
   "outputs": [],
   "source": [
    "def store_anno(segm, sop):\n",
    "    pass\n",
    "\n",
    "def store_img(img, header, sl_n, ph_n, img_nr, case):\n",
    "    img = img.astype(np.uint16)\n",
    "    meta = pydicom.Dataset()\n",
    "    meta.MediaStorageSOPClassUID = pydicom._storage_sopclass_uids.MRImageStorage\n",
    "    meta.MediaStorageSOPInstanceUID = pydicom.uid.generate_uid()\n",
    "    meta.TransferSyntaxUID = pydicom.uid.ExplicitVRLittleEndian  \n",
    "    ds = Dataset()\n",
    "    ds.file_meta = meta\n",
    "    ds.SOPInstanceUID = pydicom.uid.generate_uid()\n",
    "    ds.is_little_endian = True\n",
    "    ds.is_implicit_VR = False\n",
    "    ds.SOPClassUID = pydicom._storage_sopclass_uids.MRImageStorage\n",
    "    ds.PatientName = case\n",
    "    ds.PatientID = \"123456\"\n",
    "    ds.Modality = \"MR\"\n",
    "    ds.SeriesInstanceUID = pydicom.uid.generate_uid()\n",
    "    ds.StudyInstanceUID = pydicom.uid.generate_uid()\n",
    "    ds.FrameOfReferenceUID = pydicom.uid.generate_uid()\n",
    "    ds.SeriesDescription = \"cine ssfp sax multislice\"\n",
    "    ds.SliceLocation = sl_n\n",
    "    ds.SliceThickness = str(header['pixdim'][3])\n",
    "    ds.SpacingBetweenSlices = str(header['pixdim'][3])\n",
    "    res = header['pixdim'][1]\n",
    "    ds.PixelSpacing = str(res)+'\\\\'+str(res)\n",
    "    ds.SeriesNumber = ph_n\n",
    "    ds.BitsStored = 16\n",
    "    ds.BitsAllocated = 16\n",
    "    ds.SamplesPerPixel = 1\n",
    "    ds.HighBit = 15\n",
    "    ds.ImagesInAcquisition = \"1\"\n",
    "    ds.Rows = img.shape[0]\n",
    "    ds.Columns = img.shape[1]\n",
    "    ds.InstanceNumber = ph_n\n",
    "    ds.ImagePositionPatient = r\"0\\0\\1\"\n",
    "    ds.ImageOrientationPatient = r\"1\\0\\0\\0\\-1\\0\"\n",
    "    ds.ImageType = r\"ORIGINAL\\PRIMARY\\AXIAL\"\n",
    "    ds.RescaleIntercept = \"0\"\n",
    "    ds.RescaleSlope     = \"1\"\n",
    "    ds.PhotometricInterpretation = \"MONOCHROME2\"\n",
    "    ds.PixelRepresentation = 1\n",
    "    pydicom.dataset.validate_file_meta(ds.file_meta, enforce_standard=True)\n",
    "    ds.PixelData = img.tobytes()\n",
    "    filename = os.path.join('Imgs', case, 'img_'+str(img_nr)+'.dcm')\n",
    "    ds.save_as(filename=filename, write_like_original=False)\n",
    "    return ds.SOPInstanceUID\n",
    "\n",
    "\n",
    "def store_contour(sop, res, mask, case, i, smooth=False):\n",
    "    h, w = mask.shape[0], mask.shape[1]\n",
    "    mask1 = gaussian_filter(mask==1, sigma=0.2) if smooth else mask==1\n",
    "    mask2 = gaussian_filter(np.logical_or(mask==2, mask==3), sigma=0.2) if smooth else np.logical_or(mask==2, mask==3)\n",
    "    mask3 = gaussian_filter(mask==3, sigma=0.2) if smooth else mask==3\n",
    "    conts_rv   = [c.tolist() for c in find_contours(mask1, 0.5)]\n",
    "    conts_epi  = [c.tolist() for c in find_contours(mask2, 0.5)]\n",
    "    conts_endo = [c.tolist() for c in find_contours(mask3, 0.5)]\n",
    "    if len(conts_rv)  !=0: conts_rv  =[[[b,a] for c in conts_rv   for [a,b] in c]]\n",
    "    if len(conts_endo)!=0: conts_endo=[[[b,a] for c in conts_endo for [a,b] in c]]\n",
    "    if len(conts_epi) !=0: conts_epi =[[[b,a] for c in conts_epi  for [a,b] in c]]\n",
    "    d = {'lv endocardium':      {'contour': conts_endo, \n",
    "                                 'type': ['type', '  FREE'], \n",
    "                                 'subpixel resolution': 1, \n",
    "                                 'width':  w, \n",
    "                                 'height': h, \n",
    "                                 'pixel size': [res, res]}, \n",
    "         'lv epicardium':       {'contour': conts_epi, \n",
    "                                 'type': ['type', '  FREE'], \n",
    "                                 'subpixel resolution': 1, \n",
    "                                 'width':  w, \n",
    "                                 'height': h, \n",
    "                                 'pixel size': [res, res]}, \n",
    "         'lv papillary muscle': {'contour': []}, \n",
    "         'rv endocardium':      {'contour': conts_rv, \n",
    "                                 'type': ['type', '  FREE'], \n",
    "                                 'subpixel resolution': 1, \n",
    "                                 'width':  w, \n",
    "                                 'height': h, \n",
    "                                 'pixel size': [res, res]},  \n",
    "         'rv epicardium': {'contour': []}, \n",
    "         'rv papillary muscle': {'contour': []}, \n",
    "         None: {'contour': []}, \n",
    "         'left atrium': {'contour': []}, \n",
    "         'viewer': {'hotspot': [93.8, 102.1], 'zoom':  4.0},   # ?\n",
    "         'window': {'center':  372.0,         'width': 890.0}} # ?\n",
    "    segm = 'Smooth' if smooth else 'Gold'\n",
    "    filepath = os.path.join(segm, case, 'sub_annotations', sop+'.pickle')\n",
    "    pickle.dump(d, open(filepath, 'wb'))"
   ]
  },
  {
   "cell_type": "code",
   "execution_count": 7,
   "metadata": {},
   "outputs": [],
   "source": [
    "def create_folder(case):\n",
    "    if not os.path.exists('Imgs'):   os.mkdir('Imgs')\n",
    "    if not os.path.exists('Gold'):   os.mkdir('Gold')\n",
    "    if not os.path.exists('Smooth'): os.mkdir('Smooth')\n",
    "    if not os.path.exists(os.path.join('Imgs',   case)): os.mkdir(os.path.join('Imgs',   case))\n",
    "    if not os.path.exists(os.path.join('Gold',   case)): os.mkdir(os.path.join('Gold',   case))\n",
    "    if not os.path.exists(os.path.join('Smooth', case)): os.mkdir(os.path.join('Smooth', case))\n",
    "    if not os.path.exists(os.path.join('Gold', case, 'sub_annotations')):\n",
    "        os.mkdir(os.path.join('Gold', case, 'sub_annotations'))\n",
    "    if not os.path.exists(os.path.join('Smooth', case, 'sub_annotations')):\n",
    "        os.mkdir(os.path.join('Smooth', case, 'sub_annotations'))\n",
    "    #contour_file = open(os.path.join('Gold',   case, 'contours.txt'),\"w\")\n",
    "    #contour_file.close()\n",
    "    return"
   ]
  },
  {
   "cell_type": "code",
   "execution_count": 8,
   "metadata": {
    "scrolled": false
   },
   "outputs": [
    {
     "name": "stdout",
     "output_type": "stream",
     "text": [
      "0\n"
     ]
    },
    {
     "name": "stderr",
     "output_type": "stream",
     "text": [
      "<ipython-input-2-4cc24b554201>:4: DeprecationWarning: get_data() is deprecated in favor of get_fdata(), which has a more predictable return type. To obtain get_data() behavior going forward, use numpy.asanyarray(img.dataobj).\n",
      "\n",
      "* deprecated from version: 3.0\n",
      "* Will raise <class 'nibabel.deprecator.ExpiredDeprecationError'> as of version: 5.0\n",
      "  return nimg.get_data(), nimg.affine, nimg.header\n"
     ]
    },
    {
     "name": "stdout",
     "output_type": "stream",
     "text": [
      "1\n",
      "2\n"
     ]
    }
   ],
   "source": [
    "for i in range(len(folders)):\n",
    "    f = folders[i]\n",
    "    p = patients[i]\n",
    "    create_folder(p)\n",
    "    print(i)\n",
    "    imgs, header, segs1, phase1, segs2, phase2 = get_img_conts_paths(f)\n",
    "    nr_slices, nr_phases = imgs.shape[2], imgs.shape[3]\n",
    "    for sl_n in range(nr_slices):\n",
    "        for ph_n in range(nr_phases):\n",
    "            img_nr = sl_n * nr_phases + ph_n\n",
    "            img = imgs[:,:,sl_n,ph_n]\n",
    "            sop = store_img(img, header, sl_n, ph_n, img_nr, p)\n",
    "            res = header['pixdim'][1]\n",
    "            if ph_n == phase1:\n",
    "                mask = segs1[:,:,sl_n]\n",
    "                store_contour(sop, res, mask, p, img_nr)\n",
    "                store_contour(sop, res, mask, p, img_nr, True)\n",
    "            elif ph_n == phase2:\n",
    "                mask = segs2[:,:,sl_n]\n",
    "                store_contour(sop, res, mask, p, img_nr)\n",
    "                store_contour(sop, res, mask, p, img_nr, True)\n",
    "            else: \n",
    "                mask = np.zeros_like(img)\n",
    "                store_contour(sop, res, mask, p, img_nr)\n",
    "                store_contour(sop, res, mask, p, img_nr, True)"
   ]
  },
  {
   "cell_type": "code",
   "execution_count": null,
   "metadata": {},
   "outputs": [],
   "source": []
  }
 ],
 "metadata": {
  "kernelspec": {
   "display_name": "Python 3",
   "language": "python",
   "name": "python3"
  },
  "language_info": {
   "codemirror_mode": {
    "name": "ipython",
    "version": 3
   },
   "file_extension": ".py",
   "mimetype": "text/x-python",
   "name": "python",
   "nbconvert_exporter": "python",
   "pygments_lexer": "ipython3",
   "version": "3.8.8"
  }
 },
 "nbformat": 4,
 "nbformat_minor": 4
}
