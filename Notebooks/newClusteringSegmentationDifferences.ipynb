{
 "cells": [
  {
   "cell_type": "code",
   "execution_count": 1,
   "id": "5d3981ea",
   "metadata": {},
   "outputs": [],
   "source": [
    "import os\n",
    "from pathlib import Path\n",
    "import pickle\n",
    "from time import time\n",
    "import pandas as pd\n",
    "\n",
    "import matplotlib.pyplot as plt\n",
    "import numpy as np\n",
    "from sklearn.decomposition import PCA\n",
    "from sklearn.cluster import KMeans\n",
    "import seaborn as sns\n",
    "\n",
    "from catch_converter.parse_contours import parse_cvi42ws\n",
    "import CATCH_utils\n",
    "from Mini_LL import *"
   ]
  },
  {
   "cell_type": "code",
   "execution_count": 2,
   "id": "21096f21",
   "metadata": {},
   "outputs": [
    {
     "name": "stdout",
     "output_type": "stream",
     "text": [
      "[('LVESV', 103.49857177734376), ('LVEDV', 184.06505126953124), ('RVESV', 0.0), ('RVEDV', 0.0), ('LVSV', 80.56647949218748), ('LVEF', 0.4377065550307765), ('RVSV', 0.0), ('RVEF', 1.0), ('LVMYOMASS', 118.54371505737305), ('RVMYOMASS', 0.0), ('LVESP', 10), ('RVESP', nan), ('LVEDP', 29), ('RVEDP', nan), ('LVEDP', 17), ('LVESV', 85.64158879876815), ('LVEDV', 151.91115689103995), ('RVESV', 0.0), ('RVEDV', 0.0), ('LVSV', 66.2695680922718), ('LVEF', 0.4362389797371379), ('RVSV', 0.0), ('RVEF', 1.0), ('LVMYOMASS', 151.92081805228665), ('RVMYOMASS', 0.0), ('LVESP', 12), ('RVESP', nan), ('LVEDP', 0), ('RVEDP', nan), ('LVEDP', 17), ('LVESV', 64.91293540545468), ('LVEDV', 167.98959989979244), ('RVESV', 0.0), ('RVEDV', 0.0), ('LVSV', 103.07666449433776), ('LVEF', 0.6135895588548963), ('RVSV', 0.0), ('RVEF', 1.0), ('LVMYOMASS', 128.26746766337652), ('RVMYOMASS', 0.0), ('LVESP', 10), ('RVESP', nan), ('LVEDP', 29), ('RVEDP', nan), ('LVEDP', 18)]\n",
      "[('LVESV', 103.24478759765626), ('LVEDV', 179.65843505859374), ('RVESV', 0.0), ('RVEDV', 0.0), ('LVSV', 76.41364746093748), ('LVEF', 0.42532735764168617), ('RVSV', 0.0), ('RVEF', 1.0), ('LVMYOMASS', 121.87766052246094), ('RVMYOMASS', 0.0), ('LVESP', 9), ('RVESP', nan), ('LVEDP', 29), ('RVEDP', nan), ('LVEDP', 17), ('LVESV', 92.4678097364143), ('LVEDV', 157.89122290796485), ('RVESV', 0.0), ('RVEDV', 0.0), ('LVSV', 65.42341317155055), ('LVEF', 0.41435750491508727), ('RVSV', 0.0), ('RVEF', 1.0), ('LVMYOMASS', 157.8503504120475), ('RVMYOMASS', 0.0), ('LVESP', 12), ('RVESP', nan), ('LVEDP', 29), ('RVEDP', nan), ('LVEDP', 17), ('LVESV', 78.00391600297218), ('LVEDV', 183.68545235451745), ('RVESV', 0.0), ('RVEDV', 0.0), ('LVSV', 105.68153635154528), ('LVEF', 0.5753397179652636), ('RVSV', 0.0), ('RVEF', 1.0), ('LVMYOMASS', 118.31533623215059), ('RVMYOMASS', 0.0), ('LVESP', 10), ('RVESP', nan), ('LVEDP', 28), ('RVEDP', nan), ('LVEDP', 18)]\n"
     ]
    }
   ],
   "source": [
    "# load cases\n",
    "bp = '/Users/dietrichhadler/Desktop/Daten/test/data/segm1'\n",
    "case_paths = [os.path.join(bp,p) for p in os.listdir(bp) if p.endswith('.pickle')]\n",
    "cases1 = [pickle.load(open(p, 'rb')) for p in case_paths]\n",
    "bp = '/Users/dietrichhadler/Desktop/Daten/test/data/segm2'\n",
    "case_paths = [os.path.join(bp,p) for p in os.listdir(bp) if p.endswith('.pickle')]\n",
    "cases2 = [pickle.load(open(p, 'rb')) for p in case_paths]\n",
    "cases1 = sorted(cases1, key=lambda c: c.studyinstanceuid)\n",
    "cases2 = sorted(cases2, key=lambda c: c.studyinstanceuid)\n",
    "\n",
    "crs1 = [(cr.name, cr.get_cr()) for c in cases1 for cr in c.crs]\n",
    "crs2 = [(cr.name, cr.get_cr()) for c in cases2 for cr in c.crs]\n",
    "print(crs1)\n",
    "print(crs2)"
   ]
  },
  {
   "cell_type": "markdown",
   "id": "a7702180",
   "metadata": {},
   "source": [
    "## Thoughts on Clustering\n",
    "Preprocessing is essential: GIGO principle<br/>\n",
    "\n",
    "\n",
    "### We are looking for qualitatively different clusters\n",
    "* Cluster different contours independently <br/>\n",
    "* Maybe cluster apical / midv / basal independently? <br/>\n",
    "* Maybe remove data that wasn't segmented by at least one segmenter? <br/>\n",
    "\n",
    "### Only cluster a subset of problematic segmentation comparisons\n",
    "* Problematic can be defined as DSC < value (like 80%)<br/>\n",
    "* Or HD > 2mm<br/>\n",
    "* Remove \n",
    "* Etc. ...\n",
    "\n",
    "### Normalize data\n",
    "* Clustering assumes the existence and comparability of distances. Values must be normalized, we can't have dice in [0, 100] and slice depth percentage in [0, 1] and ml diff in [-14.7, 6.5].<br/>\n",
    "* Subtract mean, Divide by std dev <br/>\n",
    "* Possibly PCA whitening to remove collinearity of metrics"
   ]
  },
  {
   "cell_type": "markdown",
   "id": "086beac6",
   "metadata": {},
   "source": [
    "# Preprocessing functions"
   ]
  },
  {
   "cell_type": "code",
   "execution_count": 3,
   "id": "5c283475",
   "metadata": {},
   "outputs": [],
   "source": [
    "def contour_subset(table, cont_name):\n",
    "    ret_table = table.copy()\n",
    "    return ret_table[ret_table['contour name']==cont_name]\n",
    "\n",
    "def dice_subset_segmentation_failures(table, value=80.0):\n",
    "    ret_table = table.copy()\n",
    "    return ret_table[ret_table['DSC']<value]\n",
    "\n",
    "def hd_subset_segmentation_failures(table, value=2.0):\n",
    "    ret_table = table.copy()\n",
    "    return ret_table[ret_table['HD']>value]\n",
    "\n",
    "def absmldiff_subset_segmentation_failures(table, value=2.0):\n",
    "    ret_table = table.copy()\n",
    "    return ret_table[ret_table['abs ml diff']>value]\n",
    "\n",
    "def add_normalized_values(table):\n",
    "    ret_table = table.copy()\n",
    "    names = ['DSC', 'HD', 'ml diff', 'abs ml diff']\n",
    "    data = ret_table[names].values.astype(np.float64)\n",
    "    data = (data - np.mean(data, axis=0)) / np.std(data, axis=0)\n",
    "    for n_i, n in enumerate(names): ret_table[[n+' normalized']] = data[:,n_i]\n",
    "    return ret_table\n",
    "\n",
    "def add_pca_whitened_values(table):\n",
    "    ret_table = table.copy()\n",
    "    names = ['DSC', 'HD', 'ml diff', 'abs ml diff']\n",
    "    data = ret_table[names].values.astype(np.float64)\n",
    "    pca = PCA(whiten=True)\n",
    "    whitened = pca.fit_transform(data)\n",
    "    for n_i, n in enumerate(names): ret_table[['pca_whitened_'+str(n_i)]] = whitened[:,n_i]\n",
    "    return ret_table"
   ]
  },
  {
   "cell_type": "code",
   "execution_count": 4,
   "id": "c0ea8663",
   "metadata": {},
   "outputs": [
    {
     "name": "stdout",
     "output_type": "stream",
     "text": [
      "len(master_table):  416\n"
     ]
    }
   ],
   "source": [
    "case_comps = [Case_Comparison(cases1[i], cases2[i]) for i in range(len(cases1))]\n",
    "tables = [SAX_CINE_analyzer(cc).get_case_contour_comparison_pandas_dataframe(fixed_phase_first_reader=False) for cc in case_comps]\n",
    "master_table = pd.concat([t for t in tables])\n",
    "print('len(master_table): ', len(master_table))"
   ]
  },
  {
   "cell_type": "markdown",
   "id": "9c9ae82e",
   "metadata": {},
   "source": [
    "# Myocardial Clustering"
   ]
  },
  {
   "cell_type": "code",
   "execution_count": 5,
   "id": "2ae4978f",
   "metadata": {
    "scrolled": false
   },
   "outputs": [
    {
     "name": "stdout",
     "output_type": "stream",
     "text": [
      "All myos:  104\n",
      "Poor myos:  41\n",
      "New table columns:  Index(['case', 'reader1', 'reader2', 'sop1', 'sop2', 'category', 'slice',\n",
      "       'max_slices', 'depth_perc', 'phase1', 'phase2', 'contour name', 'DSC',\n",
      "       'HD', 'ml diff', 'abs ml diff', 'position1', 'position2',\n",
      "       'has_contour1', 'has_contour2', 'DSC normalized', 'HD normalized',\n",
      "       'ml diff normalized', 'abs ml diff normalized', 'pca_whitened_0',\n",
      "       'pca_whitened_1', 'pca_whitened_2', 'pca_whitened_3'],\n",
      "      dtype='object')\n"
     ]
    }
   ],
   "source": [
    "# Get myocardium subset\n",
    "table = contour_subset(master_table, 'lv_myo')\n",
    "\n",
    "# Get segmentation failures\n",
    "print('All myos: ', len(table))\n",
    "table = dice_subset_segmentation_failures(table, value=90.0)\n",
    "print('Poor myos: ', len(table))\n",
    "\n",
    "# Normalize this data\n",
    "table = add_normalized_values(table)\n",
    "table = add_pca_whitened_values(table)\n",
    "print('New table columns: ', table.columns)\n",
    "#display(table)"
   ]
  },
  {
   "cell_type": "markdown",
   "id": "900d87cc",
   "metadata": {},
   "source": [
    "## Scatter plot of metric values and normalized metric values"
   ]
  },
  {
   "cell_type": "markdown",
   "id": "7df26bf2",
   "metadata": {},
   "source": [
    "### Add visualization techniques here\n",
    "* PCA direction arrows\n",
    "* Show comparison for point in axis"
   ]
  },
  {
   "cell_type": "code",
   "execution_count": 6,
   "id": "8972acec",
   "metadata": {},
   "outputs": [
    {
     "data": {
      "text/plain": [
       "<AxesSubplot:title={'center':'Dice vs HD'}, xlabel='DSC', ylabel='HD'>"
      ]
     },
     "execution_count": 6,
     "metadata": {},
     "output_type": "execute_result"
    },
    {
     "data": {
      "image/png": "[encoded data removed]",
      "text/plain": [
       "<Figure size 1152x504 with 1 Axes>"
      ]
     },
     "metadata": {
      "needs_background": "light"
     },
     "output_type": "display_data"
    }
   ],
   "source": [
    "fig, axes = plt.subplots(1,1,figsize=(16,7))\n",
    "axes.set_title('Dice vs HD')\n",
    "sns.scatterplot(ax=axes, data=table, x='DSC', y='HD', hue='abs ml diff', \n",
    "                size='abs ml diff')"
   ]
  },
  {
   "cell_type": "code",
   "execution_count": 9,
   "id": "8dcba6b8",
   "metadata": {},
   "outputs": [
    {
     "name": "stdout",
     "output_type": "stream",
     "text": [
      "Using matplotlib backend: MacOSX\n",
      "onpick:  [35]\n"
     ]
    },
    {
     "name": "stderr",
     "output_type": "stream",
     "text": [
      "/Users/dietrichhadler/opt/anaconda3/lib/python3.8/site-packages/descartes/patch.py:63: ShapelyDeprecationWarning: The array interface is deprecated and will no longer work in Shapely 2.0. Convert the '.coords' to a numpy array instead.\n",
      "  concatenate([asarray(t.exterior)[:, :2]] +\n",
      "/Users/dietrichhadler/opt/anaconda3/lib/python3.8/site-packages/descartes/patch.py:64: ShapelyDeprecationWarning: The array interface is deprecated and will no longer work in Shapely 2.0. Convert the '.coords' to a numpy array instead.\n",
      "  [asarray(r)[:, :2] for r in t.interiors])\n",
      "/Users/dietrichhadler/opt/anaconda3/lib/python3.8/site-packages/descartes/patch.py:46: ShapelyDeprecationWarning: Iteration over multi-part geometries is deprecated and will be removed in Shapely 2.0. Use the `geoms` property to access the constituent parts of a multi-part geometry.\n",
      "  polygon = [Polygon(p) for p in polygon]\n"
     ]
    },
    {
     "name": "stdout",
     "output_type": "stream",
     "text": [
      "onpick:  [35]\n",
      "onpick:  [2]\n"
     ]
    },
    {
     "name": "stderr",
     "output_type": "stream",
     "text": [
      "/Users/dietrichhadler/opt/anaconda3/lib/python3.8/site-packages/descartes/patch.py:63: ShapelyDeprecationWarning: The array interface is deprecated and will no longer work in Shapely 2.0. Convert the '.coords' to a numpy array instead.\n",
      "  concatenate([asarray(t.exterior)[:, :2]] +\n",
      "/Users/dietrichhadler/opt/anaconda3/lib/python3.8/site-packages/descartes/patch.py:64: ShapelyDeprecationWarning: The array interface is deprecated and will no longer work in Shapely 2.0. Convert the '.coords' to a numpy array instead.\n",
      "  [asarray(r)[:, :2] for r in t.interiors])\n",
      "/Users/dietrichhadler/opt/anaconda3/lib/python3.8/site-packages/descartes/patch.py:46: ShapelyDeprecationWarning: Iteration over multi-part geometries is deprecated and will be removed in Shapely 2.0. Use the `geoms` property to access the constituent parts of a multi-part geometry.\n",
      "  polygon = [Polygon(p) for p in polygon]\n"
     ]
    },
    {
     "name": "stdout",
     "output_type": "stream",
     "text": [
      "onpick:  [2]\n",
      "onpick:  [35]\n",
      "onpick:  [35]\n",
      "onpick:  [13]\n"
     ]
    },
    {
     "name": "stderr",
     "output_type": "stream",
     "text": [
      "/Users/dietrichhadler/opt/anaconda3/lib/python3.8/site-packages/descartes/patch.py:63: ShapelyDeprecationWarning: The array interface is deprecated and will no longer work in Shapely 2.0. Convert the '.coords' to a numpy array instead.\n",
      "  concatenate([asarray(t.exterior)[:, :2]] +\n",
      "/Users/dietrichhadler/opt/anaconda3/lib/python3.8/site-packages/descartes/patch.py:64: ShapelyDeprecationWarning: The array interface is deprecated and will no longer work in Shapely 2.0. Convert the '.coords' to a numpy array instead.\n",
      "  [asarray(r)[:, :2] for r in t.interiors])\n",
      "/Users/dietrichhadler/opt/anaconda3/lib/python3.8/site-packages/descartes/patch.py:46: ShapelyDeprecationWarning: Iteration over multi-part geometries is deprecated and will be removed in Shapely 2.0. Use the `geoms` property to access the constituent parts of a multi-part geometry.\n",
      "  polygon = [Polygon(p) for p in polygon]\n"
     ]
    },
    {
     "name": "stdout",
     "output_type": "stream",
     "text": [
      "onpick:  [13]\n"
     ]
    }
   ],
   "source": [
    "%matplotlib\n",
    "fig, axes = plt.subplots(1,1,figsize=(16,7))\n",
    "axes.set_title('PCA c1 vs PCA c2')\n",
    "sns.scatterplot(ax=axes, data=table, x='pca_whitened_1', y='pca_whitened_2', \n",
    "                size='abs ml diff', hue='abs ml diff', picker=4)\n",
    "\n",
    "def onpick(event):\n",
    "    ind = event.ind\n",
    "    print('onpick: ', ind)\n",
    "    case_name  = table.iloc[ind]['case'].values[0]\n",
    "    phase      = table.iloc[ind]['category'].values[0]\n",
    "    reader1    = table.iloc[ind]['reader1'].values[0]\n",
    "    reader2    = table.iloc[ind]['reader2'].values[0]\n",
    "    slice_nr   = table.iloc[ind]['slice'].values[0]\n",
    "    cont_name  = table.iloc[ind]['contour name'].values[0]\n",
    "    sop1, sop2 = table.iloc[ind]['sop1'].values[0], table.iloc[ind]['sop2'].values[0]\n",
    "    \n",
    "    cc     = [cc for cc in case_comps if cc.case1.case_name==case_name][0]\n",
    "    c1, c2 = cc.case1, cc.case2\n",
    "    img    = c1.load_dcm(sop1).pixel_array\n",
    "    cont1, cont2 = c1.load_anno(sop1).get_contour(cont_name), c2.load_anno(sop2).get_contour(cont_name)\n",
    "    \n",
    "    fig, ax = plt.subplots(1,3, sharex=True, sharey=True)\n",
    "    fig.suptitle(case_name + ', Phase: ' + str(phase) + ', Slice: ' + str(slice_nr))\n",
    "    for i in range(3): ax[i].imshow(img); ax[i].axis('off')\n",
    "    ax[0].set_title(reader1); ax[2].set_title(reader2)\n",
    "    CATCH_utils.plot_outlines(ax[0], cont1); CATCH_utils.plot_outlines(ax[2], cont2)\n",
    "    CATCH_utils.plot_geo_face_comparison(ax[1], cont1, cont2)\n",
    "    fig.tight_layout()\n",
    "    plt.show()\n",
    "    \n",
    "fig.canvas.mpl_connect('pick_event', onpick)\n",
    "plt.show()"
   ]
  },
  {
   "cell_type": "code",
   "execution_count": null,
   "id": "38235e74",
   "metadata": {},
   "outputs": [],
   "source": []
  }
 ],
 "metadata": {
  "kernelspec": {
   "display_name": "Python 3",
   "language": "python",
   "name": "python3"
  },
  "language_info": {
   "codemirror_mode": {
    "name": "ipython",
    "version": 3
   },
   "file_extension": ".py",
   "mimetype": "text/x-python",
   "name": "python",
   "nbconvert_exporter": "python",
   "pygments_lexer": "ipython3",
   "version": "3.8.8"
  }
 },
 "nbformat": 4,
 "nbformat_minor": 5
}
