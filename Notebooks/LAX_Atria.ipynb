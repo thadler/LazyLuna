{
 "cells": [
  {
   "cell_type": "code",
   "execution_count": 1,
   "id": "8817c9ab",
   "metadata": {},
   "outputs": [],
   "source": [
    "import os\n",
    "from pathlib import Path\n",
    "from operator import itemgetter\n",
    "import pickle\n",
    "import pydicom\n",
    "from time import time\n",
    "import pandas\n",
    "import traceback\n",
    "\n",
    "import matplotlib.pyplot as plt\n",
    "import numpy as np\n",
    "import cv2\n",
    "from shapely.geometry import Polygon, MultiPolygon, LineString, GeometryCollection, Point, MultiPoint\n",
    "from shapely.affinity import translate\n",
    "\n",
    "from catch_converter.parse_contours import parse_cvi42ws\n",
    "from LazyLuna.Mini_LL import *\n",
    "from LazyLuna.utils import *\n",
    "from LazyLuna.Figures import *\n",
    "from LazyLuna.Views import *"
   ]
  },
  {
   "cell_type": "code",
   "execution_count": 2,
   "id": "d3647b0d",
   "metadata": {},
   "outputs": [],
   "source": [
    "# basepaths\n",
    "bp        = '/Users/dietrichhadler/Desktop/Daten/Atria_Hadil'\n",
    "bp_annos  = '/Users/dietrichhadler/Desktop/Daten/Atria_Hadil/AI'\n",
    "bp_cases  = '/Users/dietrichhadler/Desktop/Daten/Atria_Hadil/Cases'\n",
    "bp_imgs   = '/Users/dietrichhadler/Desktop/Daten/Atria_Hadil/Imgs'\n",
    "\n",
    "bp        = '/Users/dietrichhadler/Desktop/Daten/Atria_Intra'\n",
    "bp_annos  = '/Users/dietrichhadler/Desktop/Daten/Atria_Intra/HaTwo'\n",
    "bp_cases  = '/Users/dietrichhadler/Desktop/Daten/Atria_Intra/Cases'\n",
    "bp_imgs   = '/Users/dietrichhadler/Desktop/Daten/Atria_Intra/Imgs'"
   ]
  },
  {
   "cell_type": "code",
   "execution_count": null,
   "id": "963dcb58",
   "metadata": {
    "scrolled": true
   },
   "outputs": [],
   "source": [
    "parse_cvi42ws(bp_annos, bp_annos, process=True, debug=False)"
   ]
  },
  {
   "cell_type": "code",
   "execution_count": null,
   "id": "4e20ee10",
   "metadata": {
    "scrolled": true
   },
   "outputs": [],
   "source": [
    "lax_cine_view = LAX_CINE_View()\n",
    "cases = []\n",
    "\n",
    "# get the paths of imgs and annotations via SeriesInstanceUIDs\n",
    "paths = get_imgs_and_annotation_paths(bp_imgs, bp_annos)\n",
    "print(paths)\n",
    "print(len(paths))\n",
    "for imgp, annop in paths:\n",
    "    #if not '1.3.12.2.1107.5.2.43.167071.30000021082405410237400000007' in annop: continue\n",
    "    try:\n",
    "        print(imgp, annop)\n",
    "        st = time()\n",
    "        case = Case(imgp, annop, os.path.basename(imgp), os.path.basename(bp_annos))\n",
    "        case = lax_cine_view.initialize_case(case)\n",
    "        case.store(bp_cases)\n",
    "        cases.append(case)\n",
    "        print('Case customization took: ', time()-st, 'Case: ', case.reader_name, case.case_name)\n",
    "    except Exception as e:\n",
    "        print('Failed at: ', imgp, annop, ' , Exception: ', e)\n",
    "        print(traceback.format_exc())\n",
    "    print()"
   ]
  },
  {
   "cell_type": "code",
   "execution_count": 3,
   "id": "f6094aaf",
   "metadata": {
    "scrolled": true
   },
   "outputs": [
    {
     "name": "stdout",
     "output_type": "stream",
     "text": [
      "Nr Cases:  58\n"
     ]
    }
   ],
   "source": [
    "cases = [pickle.load(open(os.path.join(bp_cases, p), 'rb')) for p in os.listdir(bp_cases)]\n",
    "view  = LAX_CINE_View()\n",
    "#cases = [view.customize_case(c) for c in cases if c.reader_name=='AI']\n",
    "cases_tmp = []\n",
    "for c in cases:\n",
    "    try:\n",
    "        cases_tmp.append(view.customize_case(c))\n",
    "    except Exception as e: \n",
    "        print('Error in : ', c.case_name)\n",
    "        print(traceback.print_exc())\n",
    "        continue\n",
    "cases = cases_tmp\n",
    "print('Nr Cases: ', len(cases))"
   ]
  },
  {
   "cell_type": "code",
   "execution_count": 4,
   "id": "c717872d",
   "metadata": {
    "scrolled": false
   },
   "outputs": [
    {
     "name": "stdout",
     "output_type": "stream",
     "text": [
      "Atria_COV_30_ Atria_COV_30_\n",
      "29\n",
      "29\n",
      "29\n"
     ]
    }
   ],
   "source": [
    "cases1 = sorted([c for c in cases if c.reader_name=='HaOne'], key=lambda c:c.case_name)\n",
    "cases2 = sorted([c for c in cases if c.reader_name=='HaTwo'], key=lambda c:c.case_name)\n",
    "#cases1 = [cases1[0]]+cases1[2:]\n",
    "for i in range(1):\n",
    "    print(cases1[i].case_name, cases2[i].case_name)\n",
    "print(len(cases1))\n",
    "print(len(cases2))\n",
    "ccs = [Case_Comparison(c1,c2) for c1,c2 in zip(cases1,cases2)]\n",
    "print(len(ccs))"
   ]
  },
  {
   "cell_type": "code",
   "execution_count": null,
   "id": "55e290b8",
   "metadata": {},
   "outputs": [],
   "source": [
    "for cc in ccs:\n",
    "    c1, c2 = cc.case1, cc.case2\n",
    "    for cr1, cr2 in zip(c1.crs, c2.crs):\n",
    "        print(cr1.name, cr1.get_val(string=True), cr2.get_val(string=True), cr1.get_val_diff(cr2, string=True))"
   ]
  },
  {
   "cell_type": "code",
   "execution_count": 6,
   "id": "6482cd06",
   "metadata": {},
   "outputs": [
    {
     "name": "stdout",
     "output_type": "stream",
     "text": [
      "Atria_COV_30_ 2CV_LAESV 0.5541941835727169\n",
      "Atria_COV_31_ 2CV_LAESV 0.7371022810221195\n",
      "Atria_COV_32_ 2CV_LAESV 0.0\n",
      "Atria_COV_33_ 2CV_LAESV -2.940195988727279\n",
      "Atria_COV_34_ 2CV_LAESV 0.8496823794455892\n",
      "Atria_HCM_24_ 2CV_LAESV 4.011901725983634\n",
      "Atria_HCM_25_ 2CV_LAESV 0.9139229533762574\n",
      "Atria_HCM_26_ 2CV_LAESV -3.196250026592388\n",
      "Atria_HCM_28_ 2CV_LAESV 3.2947142458261567\n",
      "Atria_MD_11_ 2CV_LAESV 14.374053102186657\n",
      "Atria_MD_12_ 2CV_LAESV 12.285108177888361\n",
      "Atria_MD_13_ 2CV_LAESV 1.6078849549996796\n",
      "Atria_MD_14_ 2CV_LAESV 2.8617400362867684\n",
      "Atria_MD_3_ 2CV_LAESV 4.879579205063237\n",
      "Atria_MD_4_ 2CV_LAESV 0.17226948326719338\n",
      "Atria_MD_9_ 2CV_LAESV -3.7435252990698586\n",
      "Atria_PSORCOR_36_(1) 2CV_LAESV 0.41222107070236547\n",
      "Atria_PSORCOR_37_ 2CV_LAESV 2.540845238701536\n",
      "Atria_PSORCOR_38_ 2CV_LAESV 3.6365769353171586\n",
      "Atria_PSORCOR_40_ 2CV_LAESV -5.0313465336626635\n",
      "Atria_PSORCOR_42_ 2CV_LAESV -0.4424755732592214\n",
      "Atria_TIPS_1_ 2CV_LAESV 1.2350876369506842\n",
      "Atria_TIPS_4_ 2CV_LAESV 1.2233871576362922\n",
      "Atria_VOL_15_ 2CV_LAESV 5.871302673856576\n",
      "Atria_VOL_16_ 2CV_LAESV -0.920972135149654\n",
      "Atria_VOL_17_ 2CV_LAESV 4.594885397888767\n",
      "Atria_VOL_18_ 2CV_LAESV -5.164244994880491\n",
      "Atria_VOL_21_ 2CV_LAESV 0.6775041439154954\n",
      "Atria_VOL_22_ 2CV_LAESV -2.1528664164609985\n",
      "(1.487658138485679, -0.1622299455985574, 3.1375462225699158)\n",
      "(1.487658138485679, -0.06356506616763791, 3.0388813431389963)\n",
      "1.487658138485679 4.262037045770126\n"
     ]
    },
    {
     "name": "stderr",
     "output_type": "stream",
     "text": [
      "/Users/dietrichhadler/Documents/GitHub/LazyLuna/src/LazyLuna/Mini_LL.py:109: ShapelyDeprecationWarning: Iteration over multi-part geometries is deprecated and will be removed in Shapely 2.0. Use the `geoms` property to access the constituent parts of a multi-part geometry.\n",
      "  la_ext1, la_ext2, ceil = scale(extent, xfact=pw, yfact=ph)\n"
     ]
    }
   ],
   "source": [
    "cr_diffs = []\n",
    "for cc in ccs:\n",
    "    c1,  c2  = cc.case1, cc.case2\n",
    "    cr1, cr2 = c1.crs[10], c2.crs[10]\n",
    "    print(c1.case_name, cr1.name, cr1.get_val_diff(cr2))\n",
    "    cr_diffs.append(cr1.get_val_diff(cr2))\n",
    "#print(cr_diffs)\n",
    "\n",
    "import scipy.stats\n",
    "def mean_confidence_interval(data, confidence=0.95):\n",
    "    a = 1.0 * np.array(data)\n",
    "    n = len(a)\n",
    "    m, se = np.mean(a), scipy.stats.sem(a)\n",
    "    h = se * scipy.stats.t.ppf((1+confidence)/2.0, n-1)\n",
    "    return m, m-h, m+h\n",
    "\n",
    "def confidence_interval(data):\n",
    "    ci = 1.96*np.std(data)/np.sqrt(len(data))\n",
    "    mean = np.mean(data)\n",
    "    return mean, mean-ci, mean+ci\n",
    "\n",
    "\n",
    "print(mean_confidence_interval(cr_diffs, 0.95))\n",
    "print(confidence_interval(cr_diffs))\n",
    "print(np.mean(cr_diffs), np.std(cr_diffs))"
   ]
  },
  {
   "cell_type": "code",
   "execution_count": null,
   "id": "7e3e17df",
   "metadata": {
    "scrolled": true
   },
   "outputs": [],
   "source": [
    "ccs = ccs[3:5]\n",
    "for cc in ccs:\n",
    "    cc_table = LAX_CC_Metrics_Table()\n",
    "    cc_table.calculate(cc)\n",
    "    print(cc.case1.case_name)\n",
    "    for cname in ['la', 'ra']: \n",
    "        cc_table.present_contour_df(cname, pretty=False)\n",
    "        display(cc_table.df)"
   ]
  },
  {
   "cell_type": "code",
   "execution_count": null,
   "id": "db152540",
   "metadata": {},
   "outputs": [],
   "source": [
    "for cc in ccs:\n",
    "    print(cc.case1.case_name)\n",
    "    for cat in cc.case1.categories: print(cat.name, cat.phase, end=', ')\n",
    "    print()\n",
    "    for cat in cc.case2.categories: print(cat.name, cat.phase, end=', ')\n",
    "    print()\n",
    "    for p in range(cc.case1.categories[0].nr_phases):\n",
    "        anno = cc.case1.categories[0].get_anno(0,p)\n",
    "        if len(anno.available_contour_names())==0: continue\n",
    "        print(p, anno.available_contour_names())\n",
    "    #break"
   ]
  },
  {
   "cell_type": "code",
   "execution_count": null,
   "id": "3ec84ef2",
   "metadata": {
    "scrolled": true
   },
   "outputs": [],
   "source": [
    "#ccs = [ccs[3]]\n",
    "#print(ccs[0].case1.case_name)\n",
    "def visualize(ccs):\n",
    "    cases1   = [cc.case1 for cc in ccs]\n",
    "    cases2   = [cc.case2 for cc in ccs]\n",
    "    rows, columns   = 4, 2\n",
    "    fig, axes = plt.subplots(rows, columns, figsize=(columns*11.0,rows*5.0))\n",
    "    #self.set_size_inches(w=columns*11.0, h=(rows*6.0))\n",
    "    #axes = self.subplots(rows, columns)\n",
    "    custom_palette  = sns.color_palette(\"Blues\")\n",
    "    custom_palette2 = sns.color_palette(\"Purples\")\n",
    "    swarm_palette   = sns.color_palette([\"#061C36\", \"#061C36\"])\n",
    "    \n",
    "    cr_cols = ['case_name']+[cr.name+'_avg' for cr in ccs[0].case1.\n",
    "                             crs]+[cr.name+'_diff' for cr in ccs[0].case1.crs]\n",
    "    cr_rows = []\n",
    "    for cc in ccs:\n",
    "        row = [cc.case1.case_name]\n",
    "        for cr1, cr2 in zip(cc.case1.crs, cc.case2.crs):\n",
    "            row.append((cr1.get_val() + cr2.get_val())/ 2.0)\n",
    "        for cr1, cr2 in zip(cc.case1.crs, cc.case2.crs):\n",
    "            row.append(cr1.get_val_diff(cr2))\n",
    "        cr_rows.append(row)\n",
    "    cr_table = DataFrame(cr_rows, columns=cr_cols)\n",
    "    \n",
    "    display(cr_table)\n",
    "    x_name, y_name = '4CV_RAESAREA_avg', '4CV_RAESAREA_diff'\n",
    "    sns.scatterplot(ax=axes[0][0], x=x_name, y=y_name,\n",
    "                    data=cr_table, markers='o', palette=swarm_palette, \n",
    "                    size=np.abs(cr_table[y_name]), s=10, legend=False)\n",
    "    mean = cr_table[y_name].mean()\n",
    "    std = cr_table[y_name].std()\n",
    "    axes[0][0].axhline(mean, ls=\"-\", c=\".2\")\n",
    "    axes[0][0].axhline(mean+1.96*std, ls=\":\", c=\".2\")\n",
    "    axes[0][0].axhline(mean-1.96*std, ls=\":\", c=\".2\")\n",
    "    \n",
    "    x_name, y_name = '4CV_RAEDAREA_avg', '4CV_RAEDAREA_diff'\n",
    "    sns.scatterplot(ax=axes[0][1], x=x_name, y=y_name,\n",
    "                    data=cr_table, markers='o', palette=swarm_palette, \n",
    "                    size=np.abs(cr_table[y_name]), s=10, legend=False)\n",
    "    mean = cr_table[y_name].mean()\n",
    "    std = cr_table[y_name].std()\n",
    "    axes[0][1].axhline(mean, ls=\"-\", c=\".2\")\n",
    "    axes[0][1].axhline(mean+1.96*std, ls=\":\", c=\".2\")\n",
    "    axes[0][1].axhline(mean-1.96*std, ls=\":\", c=\".2\")\n",
    "    \n",
    "    x_name, y_name = '4CV_LAESAREA_avg', '4CV_LAESAREA_diff'\n",
    "    sns.scatterplot(ax=axes[1][0], x=x_name, y=y_name,\n",
    "                    data=cr_table, markers='o', palette=swarm_palette, \n",
    "                    size=np.abs(cr_table[y_name]), s=10, legend=False)\n",
    "    mean = cr_table[y_name].mean()\n",
    "    std = cr_table[y_name].std()\n",
    "    axes[1][0].axhline(mean, ls=\"-\", c=\".2\")\n",
    "    axes[1][0].axhline(mean+1.96*std, ls=\":\", c=\".2\")\n",
    "    axes[1][0].axhline(mean-1.96*std, ls=\":\", c=\".2\")\n",
    "    \n",
    "    x_name, y_name = '4CV_LAEDAREA_avg', '4CV_LAEDAREA_diff'\n",
    "    sns.scatterplot(ax=axes[1][1], x=x_name, y=y_name,\n",
    "                    data=cr_table, markers='o', palette=swarm_palette, \n",
    "                    size=np.abs(cr_table[y_name]), s=10, legend=False)\n",
    "    mean = cr_table[y_name].mean()\n",
    "    std = cr_table[y_name].std()\n",
    "    axes[1][1].axhline(mean, ls=\"-\", c=\".2\")\n",
    "    axes[1][1].axhline(mean+1.96*std, ls=\":\", c=\".2\")\n",
    "    axes[1][1].axhline(mean-1.96*std, ls=\":\", c=\".2\")\n",
    "    \n",
    "    x_name, y_name = '2CV_LAESAREA_avg', '2CV_LAESAREA_diff'\n",
    "    sns.scatterplot(ax=axes[2][0], x=x_name, y=y_name,\n",
    "                    data=cr_table, markers='o', palette=swarm_palette, \n",
    "                    size=np.abs(cr_table[y_name]), s=10, legend=False)\n",
    "    mean = cr_table[y_name].mean()\n",
    "    std = cr_table[y_name].std()\n",
    "    axes[2][0].axhline(mean, ls=\"-\", c=\".2\")\n",
    "    axes[2][0].axhline(mean+1.96*std, ls=\":\", c=\".2\")\n",
    "    axes[2][0].axhline(mean-1.96*std, ls=\":\", c=\".2\")\n",
    "    \n",
    "    x_name, y_name = '2CV_LAEDAREA_avg', '2CV_LAEDAREA_diff'\n",
    "    sns.scatterplot(ax=axes[2][1], x=x_name, y=y_name,\n",
    "                    data=cr_table, markers='o', palette=swarm_palette, \n",
    "                    size=np.abs(cr_table[y_name]), s=10, legend=False)\n",
    "    mean = cr_table[y_name].mean()\n",
    "    std = cr_table[y_name].std()\n",
    "    axes[2][1].axhline(mean, ls=\"-\", c=\".2\")\n",
    "    axes[2][1].axhline(mean+1.96*std, ls=\":\", c=\".2\")\n",
    "    axes[2][1].axhline(mean-1.96*std, ls=\":\", c=\".2\")\n",
    "    \n",
    "    m_table = LAX_CCs_MetricsTable()\n",
    "    m_table.calculate(ccs, LAX_CINE_View())\n",
    "    display(m_table.df)\n",
    "    \n",
    "    ra_vals = m_table.df['ra LAX 4CV RAES DSC'].to_list() + m_table.df['ra LAX 4CV RAED DSC'].to_list()\n",
    "    la4vals = m_table.df['la LAX 4CV LAES DSC'].to_list() + m_table.df['la LAX 4CV LAED DSC'].to_list()\n",
    "    la2vals = m_table.df['la LAX 2CV LAES DSC'].to_list() + m_table.df['la LAX 2CV LAED DSC'].to_list()\n",
    "    \n",
    "    dicebp = sns.boxplot(ax=axes[3][0], data=[ra_vals,la4vals,la2vals], width=0.4)\n",
    "    sns.swarmplot(ax=axes[3][0], data=[ra_vals,la4vals,la2vals], \n",
    "                  palette=swarm_palette, dodge=True)\n",
    "    axes[3][0].set_xticklabels(['RA 4CV', 'LA 4CV', 'LA 2CV'])\n",
    "    axes[3][0].set_ylabel('DSC [%]')\n",
    "    \n",
    "    for i, boxplot in enumerate(dicebp.artists):\n",
    "        if i==0: boxplot.set_facecolor(custom_palette [i])\n",
    "        else:    boxplot.set_facecolor(custom_palette2[i])\n",
    "    \n",
    "    ra_vals = m_table.df['ra LAX 4CV RAES HD'].to_list() + m_table.df['ra LAX 4CV RAED HD'].to_list()\n",
    "    la4vals = m_table.df['la LAX 4CV LAES HD'].to_list() + m_table.df['la LAX 4CV LAED HD'].to_list()\n",
    "    la2vals = m_table.df['la LAX 2CV LAES HD'].to_list() + m_table.df['la LAX 2CV LAED HD'].to_list()\n",
    "    \n",
    "    hd_bp = sns.boxplot(ax=axes[3][1], data=[ra_vals,la4vals,la2vals], width=0.4)\n",
    "    sns.swarmplot(ax=axes[3][1], data=[ra_vals,la4vals,la2vals], \n",
    "                  palette=swarm_palette, dodge=True)\n",
    "    axes[3][1].set_xticklabels(['RA 4CV', 'LA 4CV', 'LA 2CV'])\n",
    "    axes[3][1].set_ylabel('Hausdorff Distance [mm]')\n",
    "    \n",
    "    for i, boxplot in enumerate(hd_bp.artists):\n",
    "        if i==0: boxplot.set_facecolor(custom_palette [i])\n",
    "        else:    boxplot.set_facecolor(custom_palette2[i])\n",
    "    \n",
    "    sns.despine()\n",
    "    #self.subplots_adjust(left=0.075, bottom=0.05, right=0.95, top=0.95, wspace=0.15, hspace=0.25)\n",
    "    fig.subplots_adjust(left=0.075, bottom=0.05, right=0.95, top=0.95, wspace=0.15, hspace=0.25)\n",
    "    \n",
    "visualize(ccs)"
   ]
  },
  {
   "cell_type": "code",
   "execution_count": null,
   "id": "164a08d3",
   "metadata": {},
   "outputs": [],
   "source": [
    "print(ccs[0].case1.case_name)\n",
    "\n",
    "for cat in ccs[0].case1.categories:\n",
    "    print(cat.phase)\n",
    "\n",
    "\n",
    "print(ccs[0].case1.categories)\n",
    "print(ccs[0].case2.categories)"
   ]
  },
  {
   "cell_type": "code",
   "execution_count": null,
   "id": "81d071b9",
   "metadata": {},
   "outputs": [],
   "source": [
    "case = [c for c in cases if '444' in c.case_name][0]\n",
    "print('Case: ', case.case_name)\n",
    "\n",
    "for cr in case.crs:\n",
    "    print(cr.name, cr.get_val(string=True))\n",
    "\n",
    "\"\"\"\n",
    "cat = case.categories[0]\n",
    "anno = cat.get_anno(0, 0)\n",
    "\n",
    "print(anno.anno)\n",
    "\n",
    "for p in range(cat.nr_phases):\n",
    "    anno = cat.get_anno(0, p)\n",
    "    print(p, anno.available_contour_names())\n",
    "    print(p, anno.available_point_names())\n",
    "    print(anno.length_LA())\n",
    "    print(anno.length_RA())\n",
    "#print(case.categories)\n",
    "#for cr in c.crs:\n",
    "#    print(cr.name, cr.get_val())\n",
    "\"\"\""
   ]
  },
  {
   "cell_type": "code",
   "execution_count": null,
   "id": "2193d56e",
   "metadata": {
    "scrolled": true
   },
   "outputs": [],
   "source": [
    "case = cases[0]\n",
    "cats = case.categories\n",
    "#print([c.name for c in cats if 'LAX 4CV' in c.name])\n",
    "cat = [c for c in cats if 'LAX 4CV LAES' in c.name][0]\n",
    "print(cat)\n",
    "print(cat.phase)\n",
    "for p in range(cat.nr_phases):\n",
    "    print(cat.get_anno(0,p).anno.keys())\n",
    "    if len(cat.get_anno(0,p).anno.keys())==0: continue\n",
    "    img  = cat.get_img(0,p)\n",
    "    anno = cat.get_anno(0,p)\n",
    "    fig, ax = plt.subplots(1,1,figsize=(5,5))\n",
    "    ax.imshow(img, cmap='gray')\n",
    "    anno.plot_all_contour_outlines(ax)\n",
    "    plt.show()\n",
    "    print()\n",
    "    #break"
   ]
  }
 ],
 "metadata": {
  "kernelspec": {
   "display_name": "Python 3",
   "language": "python",
   "name": "python3"
  },
  "language_info": {
   "codemirror_mode": {
    "name": "ipython",
    "version": 3
   },
   "file_extension": ".py",
   "mimetype": "text/x-python",
   "name": "python",
   "nbconvert_exporter": "python",
   "pygments_lexer": "ipython3",
   "version": "3.8.8"
  }
 },
 "nbformat": 4,
 "nbformat_minor": 5
}
