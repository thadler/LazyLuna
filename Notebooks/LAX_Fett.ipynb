{
 "cells": [
  {
   "cell_type": "code",
   "execution_count": 2,
   "id": "8817c9ab",
   "metadata": {},
   "outputs": [],
   "source": [
    "import os\n",
    "from pathlib import Path\n",
    "from operator import itemgetter\n",
    "import pickle\n",
    "import pydicom\n",
    "from time import time\n",
    "import pandas\n",
    "\n",
    "import matplotlib.pyplot as plt\n",
    "import numpy as np\n",
    "from shapely.geometry import Polygon, MultiPolygon, LineString, GeometryCollection, Point, MultiPoint\n",
    "from shapely.affinity import translate\n",
    "\n",
    "from catch_converter.parse_contours import parse_cvi42ws\n",
    "from LazyLuna.Mini_LL import *\n",
    "from LazyLuna.CATCH_utils import *\n",
    "from LazyLuna.Figures import *"
   ]
  },
  {
   "cell_type": "code",
   "execution_count": 7,
   "id": "d3647b0d",
   "metadata": {},
   "outputs": [],
   "source": [
    "# basepaths\n",
    "bp        = '/Users/dietrichhadler/Desktop/Daten/LAX_Fett'\n",
    "bp_annos1 = '/Users/dietrichhadler/Desktop/Daten/LAX_Fett/Edyta'\n",
    "bp_cases  = '/Users/dietrichhadler/Desktop/Daten/LAX_Fett/Cases'\n",
    "bp_imgs   = '/Users/dietrichhadler/Desktop/Daten/LAX_Fett/Imgs'"
   ]
  },
  {
   "cell_type": "code",
   "execution_count": 13,
   "id": "4e20ee10",
   "metadata": {},
   "outputs": [
    {
     "name": "stdout",
     "output_type": "stream",
     "text": [
      "/Users/dietrichhadler/Desktop/Daten/LAX_Fett/Imgs/BLV-MRT-2436573_V3_062Y /Users/dietrichhadler/Desktop/Daten/LAX_Fett/Edyta/1.3.12.2.1107.5.2.43.167071.30000021082405410237400000013\n",
      "Starting with:  None\n",
      "Calculating RVED phase:  [False, False, False, False, False, False, False, True, False, False, False, False, False, False, False, False, False, False, False, False, False, False, False, False, True]\n",
      "False\n",
      "Case customization took:  4.194289207458496 Case:  Edyta BLV-MRT-2436573_V3_062Y\n"
     ]
    }
   ],
   "source": [
    "case_name = 'BLV-MRT-2436573_V3_062Y'\n",
    "# get the paths of imgs and annotations via SeriesInstanceUIDs\n",
    "imgp, annop = [(p1,p2) for p1,p2 in get_imgs_and_annotation_paths(bp_imgs, bp_annos1) if case_name in p1][0]\n",
    "\n",
    "print(imgp, annop)\n",
    "cases = []\n",
    "st = time()\n",
    "case = Case(imgp, annop, os.path.basename(imgp), os.path.basename(bp_annos1))\n",
    "\n",
    "lax_cine_view = LAX_CINE_View()\n",
    "case = lax_cine_view.initialize_case(case)\n",
    "case.store(bp_cases)\n",
    "cases.append(case)\n",
    "print('Case customization took: ', time()-st, 'Case: ', case.reader_name, case.case_name)"
   ]
  },
  {
   "cell_type": "code",
   "execution_count": 22,
   "id": "c6780084",
   "metadata": {},
   "outputs": [
    {
     "name": "stdout",
     "output_type": "stream",
     "text": [
      "dict_keys(['info', 'lv_lax_myo', 'lv_lax_epi', 'laxLaExtentPoints', 'freeDrawRoiContour', 'laxRvExtentPoints', 'laxRaExtentPoints', 'la', 'rv_lax_endo', 'ra', 'lv_lax_extent', 'lv_lax_endo'])\n",
      "LAX 4CV LVED\n"
     ]
    }
   ],
   "source": [
    "case = lax_cine_view.customize_case(case)\n",
    "#for cr in case.crs:\n",
    "#    print(cr.name, cr.get_cr())\n",
    "    \n",
    "for cat in case.categories:\n",
    "    if cat.name=='LAX 4CV LVED':\n",
    "        anno = cat.get_anno(0, cat.phase)\n",
    "        print(anno.anno.keys())\n",
    "        print(cat.name)"
   ]
  },
  {
   "cell_type": "code",
   "execution_count": null,
   "id": "e6a4de43",
   "metadata": {},
   "outputs": [],
   "source": []
  }
 ],
 "metadata": {
  "kernelspec": {
   "display_name": "Python 3",
   "language": "python",
   "name": "python3"
  },
  "language_info": {
   "codemirror_mode": {
    "name": "ipython",
    "version": 3
   },
   "file_extension": ".py",
   "mimetype": "text/x-python",
   "name": "python",
   "nbconvert_exporter": "python",
   "pygments_lexer": "ipython3",
   "version": "3.8.8"
  }
 },
 "nbformat": 4,
 "nbformat_minor": 5
}
