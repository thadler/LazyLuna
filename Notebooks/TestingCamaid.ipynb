{
 "cells": [
  {
   "cell_type": "code",
   "execution_count": 1,
   "id": "3fd81e89",
   "metadata": {},
   "outputs": [],
   "source": [
    "import os\n",
    "from pathlib import Path\n",
    "from operator import itemgetter\n",
    "import pickle\n",
    "import pydicom\n",
    "from time import time\n",
    "import pandas\n",
    "\n",
    "import matplotlib.pyplot as plt\n",
    "import numpy as np\n",
    "from shapely.geometry import Polygon, MultiPolygon, LineString, GeometryCollection, Point, MultiPoint\n",
    "from shapely.affinity import translate\n",
    "\n",
    "from catch_converter.parse_contours import parse_cvi42ws\n",
    "from LazyLuna.Mini_LL import *\n",
    "from LazyLuna.CATCH_utils import *"
   ]
  },
  {
   "cell_type": "code",
   "execution_count": 2,
   "id": "48aa3bf1",
   "metadata": {},
   "outputs": [],
   "source": [
    "# basepaths\n",
    "bp       = '/Users/dietrichhadler/Desktop/Daten/CAMAID'\n",
    "bp_ws    = '/Users/dietrichhadler/Desktop/Daten/CAMAID/Workspaces'\n",
    "bp_annos = '/Users/dietrichhadler/Desktop/Daten/CAMAID/Gold'\n",
    "bp_cases = '/Users/dietrichhadler/Desktop/Daten/CAMAID/Cases'\n",
    "bp_imgs  = '/Users/dietrichhadler/Desktop/Daten/CAMAID/Imgs'"
   ]
  },
  {
   "cell_type": "code",
   "execution_count": null,
   "id": "243a92ef",
   "metadata": {
    "scrolled": true
   },
   "outputs": [],
   "source": [
    "# unpack the workspaces from ws_path to case_storage_path\n",
    "#cvi42ws_paths     = [f for f in os.listdir(bp_ws) if f.endswith('cvi42ws')]\n",
    "#parse_cvi42ws(bp_ws, bp_annos, process=True, debug=True)\n",
    "#parse_cvi42ws(bp_ws, bp_annos, process=True, debug=False)\n",
    "\n",
    "# get the paths of imgs and annotations via SeriesInstanceUIDs\n",
    "imgsanno_paths = get_imgs_and_annotation_paths(bp_imgs, bp_annos)\n",
    "\n",
    "print('Nr of path tuples: ', len(imgsanno_paths))\n",
    "case_names = sorted([c[0] for c in imgsanno_paths])\n",
    "from pprint import pprint\n",
    "print('Existing Annotations: ', len(sorted([c[0] for c in imgsanno_paths if os.path.exists(c[1])])))\n",
    "pprint(sorted([c[0] for c in imgsanno_paths if os.path.exists(c[1])]))\n",
    "\n",
    "cases = []\n",
    "sax_cine_view = SAX_CINE_View()\n",
    "#sax_cs_view   = SAX_CS_View()\n",
    "for count, (imgp,annop) in enumerate(imgsanno_paths):\n",
    "    #if '008' not in imgp: continue\n",
    "    print(count)\n",
    "    print(os.path.basename(imgp), os.path.basename(annop))\n",
    "    if not os.path.exists(imgp) or not os.path.exists(annop):\n",
    "        print(os.path.exists(imgp), os.path.exists(annop))\n",
    "        print('Not converting.'); print()\n",
    "        continue\n",
    "    st = time()\n",
    "    try:\n",
    "        case = Case(imgp, annop, os.path.basename(imgp), os.path.basename(bp_annos))\n",
    "        case = sax_cine_view.customize_case(case)\n",
    "        #case = sax_cs_view.customize_case(case)\n",
    "        case.store(bp_cases)\n",
    "        cases.append(case)\n",
    "        print('Case customization took: ', time()-st, 'Case: ', case.reader_name, case.case_name)\n",
    "    except Exception as e:\n",
    "        print('Case customization failed: ', e)\n",
    "    print()\n"
   ]
  },
  {
   "cell_type": "code",
   "execution_count": null,
   "id": "655dc1de",
   "metadata": {
    "scrolled": true
   },
   "outputs": [],
   "source": [
    "display(df['annotated'])\n",
    "display(df.loc[df['annotated'].isin([0])])"
   ]
  },
  {
   "cell_type": "code",
   "execution_count": null,
   "id": "59cf766e",
   "metadata": {},
   "outputs": [],
   "source": []
  },
  {
   "cell_type": "code",
   "execution_count": null,
   "id": "c180693a",
   "metadata": {
    "scrolled": false
   },
   "outputs": [],
   "source": [
    "for k, v in df[['case','series_descr', 'annotated']].value_counts().iteritems():\n",
    "    if k[-1]>0:\n",
    "        print(k[-1], l)"
   ]
  },
  {
   "cell_type": "code",
   "execution_count": null,
   "id": "33827be4",
   "metadata": {},
   "outputs": [],
   "source": [
    "print('Cine SAX images:')\n",
    "curr = None\n",
    "for k,v in sorted(df[['case','series_descr']].value_counts().iteritems()):\n",
    "    if curr is None or curr!=k[0]: print(k[0])\n",
    "    curr = k[0]\n",
    "    if 'RV 7 0' in k[1] or k[1]=='SAX CINE':\n",
    "        print('\\t', k[1], v)\n",
    "print('Camaid_005_1 und Camaid_015_1 nicht segmentiert, da Vorhofflimmern')"
   ]
  },
  {
   "cell_type": "code",
   "execution_count": null,
   "id": "4ecdb4e6",
   "metadata": {
    "scrolled": true
   },
   "outputs": [],
   "source": [
    "print('4CH View images:')\n",
    "\n",
    "curr = None\n",
    "for k,v in sorted(df[['case','series_descr']].value_counts().iteritems()):\n",
    "    if curr is None or curr!=k[0]: print(k[0])\n",
    "    curr = k[0]\n",
    "    if 'cine_tf2d12' in k[1] and ('2 cv' in k[1] or '2cv' in k[1]):\n",
    "        print('\\t', k[1],v)\n",
    "    if 'cine_tf2d12' in k[1] and ('3 cv' in k[1] or '3cv' in k[1]):\n",
    "        print('\\t', k[1], v)\n",
    "    if 'cine_tf2d12' in k[1] and ('4 cv' in k[1] or '4cv' in k[1]):\n",
    "        print('\\t', k[1], v)\n",
    "print('Several cases have two or more series of LAX')"
   ]
  },
  {
   "cell_type": "code",
   "execution_count": null,
   "id": "566a1e8b",
   "metadata": {
    "scrolled": true
   },
   "outputs": [],
   "source": [
    "print('T1 images:')\n",
    "for k,v in sorted(df[['case','series_descr']].value_counts().iteritems()):\n",
    "    if curr is None or curr!=k[0]: print(k[0])\n",
    "    curr = k[0]\n",
    "    #if curr!='Camaid_011_2': continue\n",
    "    if 'pre_MOLLI' in k[1] and 'T1' in k[1] and 'T1S' not in k[1] and '4cv' not in k[1]:\n",
    "        print('\\t', k[1], v)\n",
    "    #print('\\t', k[1], v)\n",
    "print('T1 fehlt bei Camaid 11')"
   ]
  },
  {
   "cell_type": "code",
   "execution_count": null,
   "id": "faa38f2c",
   "metadata": {
    "scrolled": true
   },
   "outputs": [],
   "source": [
    "print('T2 images:')\n",
    "for k,v in sorted(df[['case','series_descr']].value_counts().iteritems()):\n",
    "    if curr is None or curr!=k[0]: print(k[0])\n",
    "    curr = k[0]\n",
    "    #if curr!='Camaid_011_2': continue\n",
    "    if 'T2' in k[1] and 'MOCO_T2' in k[1] and '4cv' not in k[1]:\n",
    "        print('\\t', k[1], v)\n",
    "    #print('\\t', k[1], v)\n",
    "print('Viele Fälle bereits 3 aus 5 definiert.')"
   ]
  },
  {
   "cell_type": "code",
   "execution_count": null,
   "id": "59557d09",
   "metadata": {},
   "outputs": [],
   "source": [
    "def add_LL_tag(store_path, dcm, tag='Lazy Luna: None'): # Lazy Luna: SAX CS\n",
    "    try:    dcm[0x0b, 0x10].value = tag\n",
    "    except: dcm.private_block(0x000b, tag, create=True)\n",
    "    dcm.save_as(filename=store_path, write_like_original=False)\n",
    "    \n",
    "all_cases = os.listdir(bp_imgs)\n",
    "print('All cases: ', all_cases)\n",
    "\n",
    "columns = ['case', 'series_descr', 'suid']\n",
    "for i_c, c in enumerate(all_cases):\n",
    "    for ip, p in enumerate(Path(os.path.join(bp_imgs, c)).glob('**/*.dcm')):\n",
    "        p = str(p)\n",
    "        dcm = pydicom.dcmread(p, stop_before_pixels=False)\n",
    "        #print(dcm.SeriesDescription)\n",
    "        try:\n",
    "            if 'RV 7 0' in dcm.SeriesDescription: add_LL_tag(p, dcm, tag='Lazy Luna: SAX CINE')\n",
    "            else:                                 add_LL_tag(p, dcm, tag='Lazy Luna: None')\n",
    "        except:\n",
    "            print('Failed at: Case', c)\n",
    "            print(dcm)\n",
    "            continue\n",
    "    print(i_c, 'Done for', c)\n"
   ]
  },
  {
   "cell_type": "code",
   "execution_count": null,
   "id": "78fa8615",
   "metadata": {},
   "outputs": [],
   "source": [
    "for i_c, c in enumerate(all_cases):\n",
    "    for ip, p in enumerate(Path(os.path.join(bp_imgs, c)).glob('**/*.dcm')):\n",
    "        p = str(p)\n",
    "        dcm = pydicom.dcmread(p, stop_before_pixels=False)\n",
    "        name = str(dcm[0x0b, 0x10].value).replace('Lazy Luna: ', '') # LL Tag\n",
    "        print(name)"
   ]
  },
  {
   "cell_type": "code",
   "execution_count": null,
   "id": "845223ab",
   "metadata": {},
   "outputs": [],
   "source": [
    "# 1st: (tool 1)\n",
    "# sort all images for one case\n",
    "# get all annos for each image and offer that as info too\n",
    "# add LL image tags for what we have here\n",
    "#\n",
    "# 2nd: (tool 2)\n",
    "# make cases, AFTER images are defined\n",
    "# created cases: connect annos to images\n",
    "# "
   ]
  },
  {
   "cell_type": "code",
   "execution_count": 3,
   "id": "94d37363",
   "metadata": {},
   "outputs": [
    {
     "name": "stdout",
     "output_type": "stream",
     "text": [
      "Camaid_007_1\n",
      "SAX CINE\n",
      "[]\n",
      "{'SAX CINE': [<LazyLuna.Mini_LL.SAX_LV_ES_Category object at 0x12dc36610>, <LazyLuna.Mini_LL.SAX_LV_ED_Category object at 0x12dc36730>, <LazyLuna.Mini_LL.SAX_RV_ES_Category object at 0x12dc36850>, <LazyLuna.Mini_LL.SAX_RV_ED_Category object at 0x12dc36970>]}\n",
      "dict_keys(['SAX CINE', 'SAX CS', 'SAX T1', 'SAX T2', 'LAX 2CV', 'LAX 3CV', 'LAX 4CV', 'SAX LGE', 'None'])\n",
      "SAX CINE 540, SAX CS 0, SAX T1 0, SAX T2 0, LAX 2CV 0, LAX 3CV 0, LAX 4CV 0, SAX LGE 0, None 2756, LVESV 72.8618646822147, LVEDV 177.005327025968, RVESV 93.30839502980925, RVEDV 202.25544672603158, LVSV 104.1434623437533, LVEF 58.836343568849934, RVSV 108.94705169622233, RVEF 53.866065641366724, LVMYOMASS 100.65314827153077, RVMYOMASS 0.0, LVESP 13, RVESP 13, LVEDP 0, RVEDP 0, LVEDP 18, "
     ]
    }
   ],
   "source": [
    "case_path = '/Users/dietrichhadler/Desktop/Daten/CAMAID/Cases/Gold_Camaid_007_1_LL_case.pickle'\n",
    "case = pickle.load(open(case_path, 'rb'))\n",
    "print(case.case_name)\n",
    "\n",
    "print(case.type)\n",
    "print(case.categories)\n",
    "print(case.other_categories)\n",
    "print(case.all_imgs_sop2filepath.keys())\n",
    "for k in case.all_imgs_sop2filepath.keys():\n",
    "    print(k, len(case.all_imgs_sop2filepath[k]), end=', ')\n",
    "for cr in case.crs:\n",
    "    print(cr.name, cr.get_cr(), end=', ')"
   ]
  },
  {
   "cell_type": "code",
   "execution_count": 4,
   "id": "d0bcfecb",
   "metadata": {},
   "outputs": [
    {
     "name": "stdout",
     "output_type": "stream",
     "text": [
      "Camaid_007_1\n",
      "SAX CINE\n",
      "[<LazyLuna.Mini_LL.SAX_LV_ES_Category object at 0x12dc36610>, <LazyLuna.Mini_LL.SAX_LV_ED_Category object at 0x12dc36730>, <LazyLuna.Mini_LL.SAX_RV_ES_Category object at 0x12dc36850>, <LazyLuna.Mini_LL.SAX_RV_ED_Category object at 0x12dc36970>]\n",
      "{'SAX CINE': [<LazyLuna.Mini_LL.SAX_LV_ES_Category object at 0x12dc36610>, <LazyLuna.Mini_LL.SAX_LV_ED_Category object at 0x12dc36730>, <LazyLuna.Mini_LL.SAX_RV_ES_Category object at 0x12dc36850>, <LazyLuna.Mini_LL.SAX_RV_ED_Category object at 0x12dc36970>]}\n",
      "dict_keys(['SAX CINE', 'SAX CS', 'SAX T1', 'SAX T2', 'LAX 2CV', 'LAX 3CV', 'LAX 4CV', 'SAX LGE', 'None'])\n",
      "SAX CINE 540, SAX CS 0, SAX T1 0, SAX T2 0, LAX 2CV 0, LAX 3CV 0, LAX 4CV 0, SAX LGE 0, None 2756, LVESV 72.8618646822147, LVEDV 177.005327025968, RVESV 93.30839502980925, RVEDV 202.25544672603158, LVSV 104.1434623437533, LVEF 58.836343568849934, RVSV 108.94705169622233, RVEF 53.866065641366724, LVMYOMASS 100.65314827153077, RVMYOMASS 0.0, LVESP 13, RVESP 13, LVEDP 0, RVEDP 0, LVEDP 18, "
     ]
    }
   ],
   "source": [
    "view = SAX_CINE_View()\n",
    "case = view.customize_case(case)\n",
    "print(case.case_name)\n",
    "\n",
    "print(case.type)\n",
    "print(case.categories)\n",
    "print(case.other_categories)\n",
    "print(case.all_imgs_sop2filepath.keys())\n",
    "for k in case.all_imgs_sop2filepath.keys():\n",
    "    print(k, len(case.all_imgs_sop2filepath[k]), end=', ')\n",
    "for cr in case.crs:\n",
    "    print(cr.name, cr.get_cr(), end=', ')"
   ]
  },
  {
   "cell_type": "code",
   "execution_count": null,
   "id": "020ea7fc",
   "metadata": {},
   "outputs": [],
   "source": []
  }
 ],
 "metadata": {
  "kernelspec": {
   "display_name": "Python 3",
   "language": "python",
   "name": "python3"
  },
  "language_info": {
   "codemirror_mode": {
    "name": "ipython",
    "version": 3
   },
   "file_extension": ".py",
   "mimetype": "text/x-python",
   "name": "python",
   "nbconvert_exporter": "python",
   "pygments_lexer": "ipython3",
   "version": "3.8.8"
  }
 },
 "nbformat": 4,
 "nbformat_minor": 5
}
