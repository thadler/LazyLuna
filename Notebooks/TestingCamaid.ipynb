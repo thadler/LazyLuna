{
 "cells": [
  {
   "cell_type": "code",
   "execution_count": 1,
   "id": "3fd81e89",
   "metadata": {},
   "outputs": [],
   "source": [
    "import os\n",
    "from pathlib import Path\n",
    "from operator import itemgetter\n",
    "import pickle\n",
    "import pydicom\n",
    "from time import time\n",
    "import pandas\n",
    "\n",
    "import matplotlib.pyplot as plt\n",
    "import seaborn as sns\n",
    "import numpy as np\n",
    "from shapely.geometry import Polygon, MultiPolygon, LineString, GeometryCollection, Point, MultiPoint\n",
    "from shapely.affinity import translate\n",
    "\n",
    "from catch_converter.parse_contours import parse_cvi42ws\n",
    "from LazyLuna.Mini_LL import *\n",
    "from LazyLuna.utils import *\n",
    "from LazyLuna.Figures import *\n",
    "from LazyLuna.Views import *"
   ]
  },
  {
   "cell_type": "code",
   "execution_count": 2,
   "id": "48aa3bf1",
   "metadata": {},
   "outputs": [],
   "source": [
    "# basepaths\n",
    "bp       = '/Users/dietrichhadler/Desktop/Daten/CAMAID'\n",
    "bp_annos1 = '/Users/dietrichhadler/Desktop/Daten/CAMAID/Gold'\n",
    "bp_annos2 = '/Users/dietrichhadler/Desktop/Daten/CAMAID/Reader2'\n",
    "bp_cases = '/Users/dietrichhadler/Desktop/Daten/CAMAID/Cases'\n",
    "bp_imgs  = '/Users/dietrichhadler/Desktop/Daten/CAMAID/Imgs'"
   ]
  },
  {
   "cell_type": "code",
   "execution_count": null,
   "id": "86f1b76e",
   "metadata": {
    "scrolled": true
   },
   "outputs": [],
   "source": [
    "# unpack the workspaces from ws_path to case_storage_path\n",
    "#cvi42ws_paths     = [f for f in os.listdir(bp_ws) if f.endswith('cvi42ws')]\n",
    "parse_cvi42ws(bp_annos1, bp_annos1, process=True, debug=False)\n",
    "parse_cvi42ws(bp_annos2, bp_annos2, process=True, debug=False)"
   ]
  },
  {
   "cell_type": "code",
   "execution_count": null,
   "id": "243a92ef",
   "metadata": {
    "scrolled": true
   },
   "outputs": [],
   "source": [
    "# get the paths of imgs and annotations via SeriesInstanceUIDs\n",
    "for bp_annopath in [bp_annos1, bp_annos2]:\n",
    "    imgsanno_paths = get_imgs_and_annotation_paths(bp_imgs, bp_annopath)\n",
    "\n",
    "    print('Nr of path tuples: ', len(imgsanno_paths))\n",
    "    case_names = sorted([c[0] for c in imgsanno_paths])\n",
    "    from pprint import pprint\n",
    "    print('Existing Annotations: ', len(sorted([c[0] for c in imgsanno_paths if os.path.exists(c[1])])))\n",
    "    pprint(sorted([c[0] for c in imgsanno_paths if os.path.exists(c[1])]))\n",
    "\n",
    "    cases = []\n",
    "    sax_cine_view = SAX_CINE_View()\n",
    "    lax_cine_view = LAX_CINE_View()\n",
    "    #sax_cs_view   = SAX_CS_View()\n",
    "    for count, (imgp,annop) in enumerate(imgsanno_paths):\n",
    "        #if '001_1' not in imgp: continue\n",
    "        print(count)\n",
    "        print(os.path.basename(imgp), os.path.basename(annop))\n",
    "        #if not os.path.exists(imgp) or not os.path.exists(annop):\n",
    "        #    print(os.path.exists(imgp), os.path.exists(annop))\n",
    "        #    print('Not converting.'); print()\n",
    "        #    continue\n",
    "        st = time()\n",
    "        try:\n",
    "            case = Case(imgp, annop, os.path.basename(imgp), os.path.basename(bp_annopath))\n",
    "            case = sax_cine_view.initialize_case(case)\n",
    "            case = lax_cine_view.initialize_case(case)\n",
    "            #case = sax_cine_view.customize_case(case)\n",
    "            #case = lax_cine_view.customize_case(case)\n",
    "            case.store(bp_cases)\n",
    "            cases.append(case)\n",
    "            print('Case customization took: ', time()-st, 'Case: ', case.reader_name, case.case_name)\n",
    "        except Exception as e:\n",
    "            print('Case customization failed: ', e)\n",
    "        print()"
   ]
  },
  {
   "cell_type": "code",
   "execution_count": 3,
   "id": "8b6fd2c9",
   "metadata": {},
   "outputs": [],
   "source": [
    "cases  = [pickle.load(open(os.path.join(bp_cases, p), 'rb')) for p in os.listdir(bp_cases)]\n",
    "cases1 = sorted([c for c in cases if c.reader_name=='Gold'],     key=lambda c: c.case_name)\n",
    "cases2 = sorted([c for c in cases if c.reader_name=='Reader2'],  key=lambda c: c.case_name)"
   ]
  },
  {
   "cell_type": "code",
   "execution_count": 4,
   "id": "6d2377e3",
   "metadata": {
    "scrolled": true
   },
   "outputs": [
    {
     "name": "stdout",
     "output_type": "stream",
     "text": [
      "4CV_RAESAREA 21.314966098734867\n",
      "4CV_RAEDAREA 21.314966098734867\n",
      "4CV_RAESV 63.39668874867388\n",
      "4CV_RAEDV 63.39668874867388\n",
      "4CV_LAESAREA 23.641375437082374\n",
      "4CV_LAEDAREA 23.641375437082374\n",
      "4CV_LAESV 94.82654543751511\n",
      "4CV_LAEDV 94.82654543751511\n",
      "2CV_LAESAREA 17.001211293593457\n",
      "2CV_LAEDAREA 17.001211293593457\n",
      "2CV_LAESV 41.99846672952914\n",
      "2CV_LAEDV 41.99846672952914\n",
      "BIPLANE_LAESV 68.19256940084766\n",
      "BIPLANE_LAEDV 68.19256940084766\n",
      "LAESP_4CV 14\n",
      "LAEDP_4CV 14\n",
      "LAESP_2CV 14\n",
      "LAEDP_2CV 14\n",
      "RAESP_4CV 14\n",
      "RAEDP_4CV 14\n",
      "\n",
      "starting customize:  Camaid_011_1\n",
      "ending customize:  Camaid_011_1\n",
      "LVESV 70.91592258099152\n",
      "LVEDV 183.76856833154022\n",
      "RVESV 87.4285823047571\n",
      "RVEDV 187.58847581161632\n",
      "LVSV 112.8526457505487\n",
      "LVEF 61.41020021842641\n",
      "RVSV 100.15989350685922\n",
      "RVEF 53.393415066664204\n",
      "LVM 95.63637072232714\n",
      "RVM 0.0\n",
      "LVESP 12\n",
      "RVESP 12\n",
      "LVEDP 29\n",
      "RVEDP 29\n",
      "NrSlices 18\n"
     ]
    },
    {
     "name": "stderr",
     "output_type": "stream",
     "text": [
      "/Users/dietrichhadler/Documents/GitHub/LazyLuna/src/LazyLuna/Mini_LL.py:118: ShapelyDeprecationWarning: Iteration over multi-part geometries is deprecated and will be removed in Shapely 2.0. Use the `geoms` property to access the constituent parts of a multi-part geometry.\n",
      "  ra_ext1, ra_ext2, ceil = scale(extent, xfact=pw, yfact=ph)\n",
      "/Users/dietrichhadler/Documents/GitHub/LazyLuna/src/LazyLuna/Mini_LL.py:109: ShapelyDeprecationWarning: Iteration over multi-part geometries is deprecated and will be removed in Shapely 2.0. Use the `geoms` property to access the constituent parts of a multi-part geometry.\n",
      "  la_ext1, la_ext2, ceil = scale(extent, xfact=pw, yfact=ph)\n"
     ]
    }
   ],
   "source": [
    "sax_cine_view = SAX_CINE_View()\n",
    "lax_cine_view = LAX_CINE_View()\n",
    "case = lax_cine_view.customize_case(cases[0])\n",
    "for cr in case.crs:\n",
    "    print(cr.name, cr.get_val())\n",
    "print()\n",
    "case = sax_cine_view.customize_case(cases[0])\n",
    "for cr in case.crs:\n",
    "    print(cr.name, cr.get_val())"
   ]
  },
  {
   "cell_type": "code",
   "execution_count": 5,
   "id": "19591427",
   "metadata": {
    "collapsed": true
   },
   "outputs": [
    {
     "name": "stdout",
     "output_type": "stream",
     "text": [
      "starting customize:  CAMAID_001_1\n",
      "ending customize:  CAMAID_001_1\n",
      "starting customize:  CAMAID_001_1\n",
      "ending customize:  CAMAID_001_1\n",
      "starting customize:  CAMAID_002_1\n",
      "ending customize:  CAMAID_002_1\n",
      "starting customize:  CAMAID_002_1\n",
      "ending customize:  CAMAID_002_1\n",
      "starting customize:  CAMAID_003_1\n",
      "ending customize:  CAMAID_003_1\n",
      "starting customize:  CAMAID_003_1\n",
      "ending customize:  CAMAID_003_1\n",
      "starting customize:  Camaid_004_1\n",
      "ending customize:  Camaid_004_1\n",
      "starting customize:  Camaid_004_1\n",
      "ending customize:  Camaid_004_1\n",
      "starting customize:  Camaid_005_1\n",
      "starting customize:  Camaid_006_1\n",
      "ending customize:  Camaid_006_1\n",
      "starting customize:  Camaid_006_1\n",
      "ending customize:  Camaid_006_1\n",
      "starting customize:  Camaid_007_1\n",
      "ending customize:  Camaid_007_1\n",
      "starting customize:  Camaid_007_1\n",
      "ending customize:  Camaid_007_1\n",
      "starting customize:  Camaid_008_1\n",
      "ending customize:  Camaid_008_1\n",
      "starting customize:  Camaid_008_1\n",
      "ending customize:  Camaid_008_1\n",
      "starting customize:  Camaid_009_1\n",
      "ending customize:  Camaid_009_1\n",
      "starting customize:  Camaid_009_1\n",
      "ending customize:  Camaid_009_1\n",
      "starting customize:  Camaid_010_1\n",
      "ending customize:  Camaid_010_1\n",
      "starting customize:  Camaid_010_1\n",
      "ending customize:  Camaid_010_1\n",
      "starting customize:  Camaid_011_1\n",
      "ending customize:  Camaid_011_1\n",
      "starting customize:  Camaid_011_1\n",
      "ending customize:  Camaid_011_1\n",
      "starting customize:  Camaid_014_1\n",
      "ending customize:  Camaid_014_1\n",
      "starting customize:  Camaid_014_1\n",
      "ending customize:  Camaid_014_1\n",
      "starting customize:  Camaid_015_1\n",
      "starting customize:  Camaid_016_1\n",
      "ending customize:  Camaid_016_1\n",
      "starting customize:  Camaid_016_1\n",
      "ending customize:  Camaid_016_1\n",
      "starting customize:  Camaid_017_1\n",
      "ending customize:  Camaid_017_1\n",
      "starting customize:  Camaid_017_1\n",
      "ending customize:  Camaid_017_1\n"
     ]
    }
   ],
   "source": [
    "cases  = [pickle.load(open(os.path.join(bp_cases, p), 'rb')) for p in os.listdir(bp_cases)]\n",
    "cases1 = sorted([c for c in cases if c.reader_name=='Gold'],     key=lambda c: c.case_name)\n",
    "cases2 = sorted([c for c in cases if c.reader_name=='Reader2'],  key=lambda c: c.case_name)\n",
    "sax_cine_view = SAX_CINE_View()\n",
    "lax_cine_view = LAX_CINE_View()\n",
    "ccs = []\n",
    "for c1,c2 in zip(cases1,cases2):\n",
    "    try:\n",
    "        cc = Case_Comparison(sax_cine_view.customize_case(c1), sax_cine_view.customize_case(c2))\n",
    "        ccs.append(cc)\n",
    "    except: continue\n",
    "\n",
    "#for cr in ccs[0].case1.crs:\n",
    "#    print(cr.name, cr.get_val())\n",
    "#for cr in ccs[0].case2.crs:\n",
    "#    print(cr.name, cr.get_val())\n",
    "##table = CC_Metrics_Table()\n",
    "#table.calculate(ccs[0])\n",
    "#table.present_contour_df('lv_endo')\n",
    "#display(table.df)"
   ]
  },
  {
   "cell_type": "code",
   "execution_count": 126,
   "id": "55c991af",
   "metadata": {
    "scrolled": true
   },
   "outputs": [
    {
     "data": {
      "image/png": "[encoded data removed]",
      "text/plain": [
       "<Figure size 1080x1080 with 9 Axes>"
      ]
     },
     "metadata": {
      "needs_background": "light"
     },
     "output_type": "display_data"
    },
    {
     "name": "stdout",
     "output_type": "stream",
     "text": [
      "None\n"
     ]
    }
   ],
   "source": [
    "from matplotlib.patches import Rectangle\n",
    "\n",
    "# make figure\n",
    "def tol_ranges_saxcine(ccs, with_swarmplot=True):\n",
    "    vals = {cr.name:[] for cr in ccs[0].case1.crs}\n",
    "    for cc in ccs:\n",
    "        c1,  c2  = cc.case1, cc.case2\n",
    "        for name in [cr.name for cr in c1.crs]:\n",
    "            cr1, cr2 = [cr for cr in c1.crs if cr.name==name][0], [cr for cr in c2.crs if cr.name==name][0]\n",
    "            vals[cr1.name].append(cr1.get_val_diff(cr2))\n",
    "    \n",
    "    fig, axes = plt.subplots(3,3, figsize=(15,15))\n",
    "    for i, ax_ in enumerate(axes):\n",
    "        for j, ax in enumerate(ax_):\n",
    "            cr = ccs[0].case1.crs[i*3+j]\n",
    "            name = cr.name\n",
    "            ax.set_title(name)\n",
    "            ax.axhspan(-cr.tol_range, cr.tol_range, facecolor='0.6', alpha=0.5)\n",
    "            alpha = 0.5 if with_swarmplot else 0.0\n",
    "            sns.swarmplot(ax=ax, y=vals[name], palette=sns.color_palette(\"Blues\")[4:], dodge=True, size=5, alpha=alpha)\n",
    "            ci = 1.96 * np.std(vals[name]) / np.sqrt(len(vals[name]))\n",
    "            ax.errorbar([name], [np.mean(vals[name])], yerr=ci, fmt ='o', c='r')\n",
    "            maxx = np.max([np.abs(np.min(vals[name])), np.abs(np.max(vals[name])),\n",
    "                           np.abs(np.mean(vals[name])-ci), np.abs(np.mean(vals[name])+ci), cr.tol_range])\n",
    "            ax.set_ylim(ymin=-maxx-2, ymax=maxx+2)\n",
    "            ax.set_ylabel(name + ' ' + cr.unit)\n",
    "            ax.set_xlabel(name)\n",
    "    \n",
    "    fig.tight_layout()\n",
    "    plt.show()\n",
    "\n",
    "print(tol_ranges_saxcine(ccs, True))"
   ]
  },
  {
   "cell_type": "code",
   "execution_count": 29,
   "id": "d6dbc064",
   "metadata": {},
   "outputs": [
    {
     "name": "stdout",
     "output_type": "stream",
     "text": [
      "15\n",
      "15\n"
     ]
    }
   ],
   "source": [
    "cases  = [pickle.load(open(os.path.join(bp_cases, p), 'rb')) for p in os.listdir(bp_cases)]\n",
    "cases1 = sorted([c for c in cases if c.reader_name=='Gold'],     key=lambda c: c.case_name)\n",
    "cases2 = sorted([c for c in cases if c.reader_name=='Reader2'],  key=lambda c: c.case_name)\n",
    "print(len(cases1))\n",
    "print(len(cases2))\n",
    "t1_view = SAX_T1_View()\n",
    "t1_ccs = []\n",
    "for c1,c2 in zip(cases1,cases2):\n",
    "    try:\n",
    "        cc = Case_Comparison(t1_view.customize_case(c1), t1_view.customize_case(c2))\n",
    "        t1_ccs.append(cc)\n",
    "    except: continue"
   ]
  },
  {
   "cell_type": "code",
   "execution_count": 31,
   "id": "778d27e6",
   "metadata": {},
   "outputs": [
    {
     "name": "stdout",
     "output_type": "stream",
     "text": [
      "[23.63152173913045, -21.239940387481397, -21.381890687309465, -23.56276118835956, 0.0, -11.894949494949515, 4.633272861654177, -5.334532374100718, -5.310309843150776, 5.788746081504769, 0.0, 0.0]\n",
      "-5.4670843293062035 12.99365552789535\n",
      "0.3233187699670263 5.409778319487604\n",
      "78.05911080338272 14.484003135856227\n",
      "1.273636919235483 14.484003135856227\n"
     ]
    }
   ],
   "source": [
    "m = T1AvgDiffMetric()\n",
    "dices, hds = [], []\n",
    "t_globals = []\n",
    "api_tdiffs = []\n",
    "for cc in t1_ccs:\n",
    "    c1,     c2 = cc.case1, cc.case2\n",
    "    cr1,   cr2 = [cr for cr in c1.crs if 'global' in cr.name.lower()][0], [cr for cr in c2.crs if 'global' in cr.name.lower()][0]\n",
    "    t_globals.append(cr1.get_val_diff(cr2))\n",
    "    cat1, cat2 = c1.categories[0], c2.categories[0]\n",
    "    for d in range(cat1.nr_slices):\n",
    "        if d!=cat1.nr_slices-1: continue\n",
    "        img1,  img2  = cat1.get_img(d,0),  cat2.get_img(d,0)\n",
    "        anno1, anno2 = cat1.get_anno(d,0), cat2.get_anno(d,0)\n",
    "        myo1,  myo2  = anno1.get_contour('lv_myo'), anno2.get_contour('lv_myo')\n",
    "        dices.append(dice(myo1, myo2))\n",
    "        hds.append(hausdorff(myo1, myo2))\n",
    "        api_tdiffs.append(m.get_val(myo1, myo2, img1, img2))\n",
    "#print(t_globals)\n",
    "print(api_tdiffs)\n",
    "print(np.mean(api_tdiffs[:-2]), np.std(api_tdiffs))\n",
    "print(np.mean(t_globals), np.std(t_globals))\n",
    "print(np.mean(dices), np.std(dices))\n",
    "print(np.mean(hds), np.std(dices))"
   ]
  },
  {
   "cell_type": "code",
   "execution_count": null,
   "id": "6bb74ced",
   "metadata": {
    "scrolled": true
   },
   "outputs": [],
   "source": [
    "st = time()\n",
    "#metrics_table = LAX_CC_Metrics_Table()\n",
    "metrics_table.calculate(Case_Comparison(lax_cine_view.customize_case(cases1[0]), lax_cine_view.customize_case(cases2[0])))\n",
    "metrics_table.present_contour_df('lv_lax_endo')\n",
    "display(metrics_table.df)\n",
    "print('took : ', time()-st)"
   ]
  },
  {
   "cell_type": "code",
   "execution_count": null,
   "id": "40ca8399",
   "metadata": {
    "scrolled": true
   },
   "outputs": [],
   "source": [
    "#metrics_table.store('/Users/dietrichhadler/Desktop/Export_comparison_Gold_Reader2/fdsfdsf.csv')\n",
    "\n",
    "        \n",
    "class SAX_Cine_CCs_pretty_averageCRs_averageMetrics_Table(Table):\n",
    "    def calculate(self, case_comparisons, view):\n",
    "        cr_table = CC_ClinicalResultsTable()\n",
    "        cr_table.calculate(case_comparisons, with_dices=True)\n",
    "        means_cr_table = cr_table.df[['LVEF difference', 'LVEDV difference', 'LVESV difference', 'lv_endo avg dice', \n",
    "                             'lv_endo avg dice cont by both', 'lv_endo avg HD', 'LVM difference', 'lv_myo avg dice', \n",
    "                            'lv_myo avg dice cont by both', 'lv_myo avg HD', 'RVEF difference', 'RVEDV difference', \n",
    "                            'RVESV difference', 'rv_endo avg dice', 'rv_endo avg dice cont by both', 'rv_endo avg HD', \n",
    "                            'avg dice', 'avg dice cont by both', 'avg HD']].mean(axis=0)\n",
    "        std_cr_table = cr_table.df[['LVEF difference', 'LVEDV difference', 'LVESV difference', 'lv_endo avg dice', \n",
    "                             'lv_endo avg dice cont by both', 'lv_endo avg HD', 'LVM difference', 'lv_myo avg dice', \n",
    "                            'lv_myo avg dice cont by both', 'lv_myo avg HD', 'RVEF difference', 'RVEDV difference', \n",
    "                            'RVESV difference', 'rv_endo avg dice', 'rv_endo avg dice cont by both', 'rv_endo avg HD', \n",
    "                            'avg dice', 'avg dice cont by both', 'avg HD']].std(axis=0)\n",
    "        cr_table = pandas.concat([means_cr_table, std_cr_table], axis=1).reset_index()\n",
    "        cr_table.columns = ['Name', 'Mean', 'Std']\n",
    "        names = cr_table['Name']\n",
    "        new_names = []\n",
    "        for i, n in names.iteritems():\n",
    "            n = n.replace(' difference', '').replace('avg HD','HD').replace('avg dice', 'Dice').replace('lv_endo', '').replace('rv_endo', '').replace('lv_myo','')\n",
    "            if 'cont by both' in n: n = n.replace('cont by both', '(slices contoured by both)')\n",
    "            elif 'Dice' in n:       n = n + ' (all slices)'\n",
    "            if i>15:                     n = n + ' (all contours)'\n",
    "            n = n.replace(') (', ', ')\n",
    "            if 'HD' in n:                n = n + ' [mm]'\n",
    "            if 'EF' in n or 'Dice' in n: n = n + ' [%]'\n",
    "            if 'ESV' in n or 'EDV' in n: n = n + ' [ml]'\n",
    "            if 'LVM' in n:               n = n + ' [g]'\n",
    "            new_names.append(n)\n",
    "        cr_table['Name'] = new_names\n",
    "        self.cr_table = cr_table\n",
    "        #display(cr_table)\n",
    "        \n",
    "        metrics_table = CCs_MetricsTable()\n",
    "        metrics_table.calculate(case_comparisons, view)\n",
    "        metrics_table = metrics_table.df\n",
    "        \n",
    "        rows = []\n",
    "        for position in ['basal', 'midv', 'apical']:\n",
    "            # Precision = tp / tp + fp\n",
    "            # Recall    = tp / tp + fn\n",
    "            # dice all slices\n",
    "            # dice by both\n",
    "            row1, row2 = [position, 'Dice (all slices) [%]'], [position, 'Dice (slices contoured by both) [%]']\n",
    "            row3, row4 = [position, 'HD [mm]'], [position, 'Abs. ml diff. (per slice) [ml]']\n",
    "            for contname in ['lv_endo', 'lv_myo', 'rv_endo']:\n",
    "                print(position, contname)\n",
    "                subtable = metrics_table[[k for k in metrics_table.columns if contname in k]]\n",
    "                #display(subtable)\n",
    "                dice_ks     = [k for k in subtable.columns if 'DSC' in k]\n",
    "                position_ks = [k for k in subtable.columns if 'position1' in k]\n",
    "                all_dices = []\n",
    "                for ki in range(len(dice_ks)): all_dices.extend([d for d in subtable[subtable[position_ks[ki]]==position][dice_ks[ki]]])\n",
    "                #print('all dices: ', all_dices)\n",
    "                row1.append(np.mean(all_dices))\n",
    "                row2.append(np.mean([d for d in all_dices if 0<d<100]))\n",
    "                hd_ks = [k for k in subtable.columns if 'HD' in k]\n",
    "                hds   = []\n",
    "                for ki in range(len(hd_ks)): hds.extend([d for d in subtable[subtable[position_ks[ki]]==position][hd_ks[ki]]])\n",
    "                #print('hds: ', hds)\n",
    "                row3.append(np.mean(hds))\n",
    "                # abs ml diff\n",
    "                mld_ks = [k for k in subtable.columns if 'abs ml diff' in k]\n",
    "                mlds   = []\n",
    "                for ki in range(len(mld_ks)): mlds.extend([d for d in subtable[subtable[position_ks[ki]]==position][mld_ks[ki]]])\n",
    "                #print('mlds: ', mlds)\n",
    "                row4.append(np.mean(mlds))\n",
    "            rows.extend([row1, row2, row3, row4])\n",
    "        self.metrics_table = pandas.DataFrame(rows, columns=['Position', 'Metric', 'LV Endocardial Contour', 'LV Myocardial Contour', 'RV Endocardial Contour'])\n",
    "        #display(self.metrics_table)\n",
    "        \n",
    "    def present_metrics(self):\n",
    "        self.df = self.metrics_table\n",
    "    \n",
    "    def present_crs(self):\n",
    "        self.df = self.cr_table\n",
    "        \n",
    "table = SAX_Cine_CCs_pretty_averageCRs_averageMetrics_Table()\n",
    "table.calculate(ccs, sax_cine_view)\n",
    "table.present_metrics()\n",
    "display(table.df)\n",
    "table.store('/Users/dietrichhadler/Desktop/metrics_table_by_contour_position.csv')\n",
    "table.present_crs()\n",
    "display(table.df)\n",
    "table.store('/Users/dietrichhadler/Desktop/crvs_and_metrics.csv')"
   ]
  },
  {
   "cell_type": "code",
   "execution_count": null,
   "id": "9e6985e2",
   "metadata": {},
   "outputs": [],
   "source": [
    "def siuids(path, name):\n",
    "    siuidss = set()\n",
    "    img_folders = os.listdir(path)\n",
    "    for i, img_f in enumerate(img_folders):\n",
    "        #print(img_f)\n",
    "        #print(name)\n",
    "        if name not in img_f: continue\n",
    "        case_path = os.path.join(bp_imgs, img_f)\n",
    "        print(case_path)\n",
    "        for p in Path(case_path).glob('**/*.dcm'):\n",
    "            dcm = pydicom.dcmread(str(p), stop_before_pixels=True)\n",
    "            siuidss.add(dcm.StudyInstanceUID)\n",
    "    print(siuidss)\n",
    "            \n",
    "siuids('/Users/dietrichhadler/Desktop/Daten/CAMAID/Imgs', '018_1')"
   ]
  },
  {
   "cell_type": "code",
   "execution_count": null,
   "id": "9230c1b6",
   "metadata": {},
   "outputs": [],
   "source": []
  },
  {
   "cell_type": "code",
   "execution_count": null,
   "id": "655dc1de",
   "metadata": {
    "scrolled": true
   },
   "outputs": [],
   "source": [
    "display(df['annotated'])\n",
    "display(df.loc[df['annotated'].isin([0])])"
   ]
  },
  {
   "cell_type": "code",
   "execution_count": null,
   "id": "59cf766e",
   "metadata": {},
   "outputs": [],
   "source": []
  },
  {
   "cell_type": "code",
   "execution_count": null,
   "id": "c180693a",
   "metadata": {
    "scrolled": false
   },
   "outputs": [],
   "source": [
    "for k, v in df[['case','series_descr', 'annotated']].value_counts().iteritems():\n",
    "    if k[-1]>0:\n",
    "        print(k[-1], l)"
   ]
  },
  {
   "cell_type": "code",
   "execution_count": null,
   "id": "33827be4",
   "metadata": {},
   "outputs": [],
   "source": [
    "print('Cine SAX images:')\n",
    "curr = None\n",
    "for k,v in sorted(df[['case','series_descr']].value_counts().iteritems()):\n",
    "    if curr is None or curr!=k[0]: print(k[0])\n",
    "    curr = k[0]\n",
    "    if 'RV 7 0' in k[1] or k[1]=='SAX CINE':\n",
    "        print('\\t', k[1], v)\n",
    "print('Camaid_005_1 und Camaid_015_1 nicht segmentiert, da Vorhofflimmern')"
   ]
  },
  {
   "cell_type": "code",
   "execution_count": null,
   "id": "4ecdb4e6",
   "metadata": {
    "scrolled": true
   },
   "outputs": [],
   "source": [
    "print('4CH View images:')\n",
    "\n",
    "curr = None\n",
    "for k,v in sorted(df[['case','series_descr']].value_counts().iteritems()):\n",
    "    if curr is None or curr!=k[0]: print(k[0])\n",
    "    curr = k[0]\n",
    "    if 'cine_tf2d12' in k[1] and ('2 cv' in k[1] or '2cv' in k[1]):\n",
    "        print('\\t', k[1],v)\n",
    "    if 'cine_tf2d12' in k[1] and ('3 cv' in k[1] or '3cv' in k[1]):\n",
    "        print('\\t', k[1], v)\n",
    "    if 'cine_tf2d12' in k[1] and ('4 cv' in k[1] or '4cv' in k[1]):\n",
    "        print('\\t', k[1], v)\n",
    "print('Several cases have two or more series of LAX')"
   ]
  },
  {
   "cell_type": "code",
   "execution_count": null,
   "id": "566a1e8b",
   "metadata": {
    "scrolled": true
   },
   "outputs": [],
   "source": [
    "print('T1 images:')\n",
    "for k,v in sorted(df[['case','series_descr']].value_counts().iteritems()):\n",
    "    if curr is None or curr!=k[0]: print(k[0])\n",
    "    curr = k[0]\n",
    "    #if curr!='Camaid_011_2': continue\n",
    "    if 'pre_MOLLI' in k[1] and 'T1' in k[1] and 'T1S' not in k[1] and '4cv' not in k[1]:\n",
    "        print('\\t', k[1], v)\n",
    "    #print('\\t', k[1], v)\n",
    "print('T1 fehlt bei Camaid 11')"
   ]
  },
  {
   "cell_type": "code",
   "execution_count": null,
   "id": "faa38f2c",
   "metadata": {
    "scrolled": true
   },
   "outputs": [],
   "source": [
    "print('T2 images:')\n",
    "for k,v in sorted(df[['case','series_descr']].value_counts().iteritems()):\n",
    "    if curr is None or curr!=k[0]: print(k[0])\n",
    "    curr = k[0]\n",
    "    #if curr!='Camaid_011_2': continue\n",
    "    if 'T2' in k[1] and 'MOCO_T2' in k[1] and '4cv' not in k[1]:\n",
    "        print('\\t', k[1], v)\n",
    "    #print('\\t', k[1], v)\n",
    "print('Viele Fälle bereits 3 aus 5 definiert.')"
   ]
  },
  {
   "cell_type": "code",
   "execution_count": null,
   "id": "59557d09",
   "metadata": {},
   "outputs": [],
   "source": [
    "def add_LL_tag(store_path, dcm, tag='Lazy Luna: None'): # Lazy Luna: SAX CS\n",
    "    try:    dcm[0x0b, 0x10].value = tag\n",
    "    except: dcm.private_block(0x000b, tag, create=True)\n",
    "    dcm.save_as(filename=store_path, write_like_original=False)\n",
    "    \n",
    "all_cases = os.listdir(bp_imgs)\n",
    "print('All cases: ', all_cases)\n",
    "\n",
    "columns = ['case', 'series_descr', 'suid']\n",
    "for i_c, c in enumerate(all_cases):\n",
    "    for ip, p in enumerate(Path(os.path.join(bp_imgs, c)).glob('**/*.dcm')):\n",
    "        p = str(p)\n",
    "        dcm = pydicom.dcmread(p, stop_before_pixels=False)\n",
    "        #print(dcm.SeriesDescription)\n",
    "        try:\n",
    "            if 'RV 7 0' in dcm.SeriesDescription: add_LL_tag(p, dcm, tag='Lazy Luna: SAX CINE')\n",
    "            else:                                 add_LL_tag(p, dcm, tag='Lazy Luna: None')\n",
    "        except:\n",
    "            print('Failed at: Case', c)\n",
    "            print(dcm)\n",
    "            continue\n",
    "    print(i_c, 'Done for', c)\n"
   ]
  },
  {
   "cell_type": "code",
   "execution_count": null,
   "id": "78fa8615",
   "metadata": {},
   "outputs": [],
   "source": [
    "for i_c, c in enumerate(all_cases):\n",
    "    for ip, p in enumerate(Path(os.path.join(bp_imgs, c)).glob('**/*.dcm')):\n",
    "        p = str(p)\n",
    "        dcm = pydicom.dcmread(p, stop_before_pixels=False)\n",
    "        name = str(dcm[0x0b, 0x10].value).replace('Lazy Luna: ', '') # LL Tag\n",
    "        print(name)"
   ]
  },
  {
   "cell_type": "code",
   "execution_count": null,
   "id": "845223ab",
   "metadata": {},
   "outputs": [],
   "source": [
    "# 1st: (tool 1)\n",
    "# sort all images for one case\n",
    "# get all annos for each image and offer that as info too\n",
    "# add LL image tags for what we have here\n",
    "#\n",
    "# 2nd: (tool 2)\n",
    "# make cases, AFTER images are defined\n",
    "# created cases: connect annos to images\n",
    "# "
   ]
  },
  {
   "cell_type": "code",
   "execution_count": null,
   "id": "94d37363",
   "metadata": {},
   "outputs": [],
   "source": [
    "case_path = '/Users/dietrichhadler/Desktop/Daten/CAMAID/Cases/Gold_Camaid_007_1_LL_case.pickle'\n",
    "case = pickle.load(open(case_path, 'rb'))\n",
    "print(case.case_name)\n",
    "\n",
    "print(case.type)\n",
    "print(case.categories)\n",
    "print(case.other_categories)\n",
    "print(case.all_imgs_sop2filepath.keys())\n",
    "for k in case.all_imgs_sop2filepath.keys():\n",
    "    print(k, len(case.all_imgs_sop2filepath[k]), end=', ')\n",
    "for cr in case.crs:\n",
    "    print(cr.name, cr.get_cr(), end=', ')"
   ]
  },
  {
   "cell_type": "code",
   "execution_count": null,
   "id": "d0bcfecb",
   "metadata": {},
   "outputs": [],
   "source": [
    "view = SAX_CINE_View()\n",
    "case = view.customize_case(case)\n",
    "print(case.case_name)\n",
    "\n",
    "print(case.type)\n",
    "print(case.categories)\n",
    "print(case.other_categories)\n",
    "print(case.all_imgs_sop2filepath.keys())\n",
    "for k in case.all_imgs_sop2filepath.keys():\n",
    "    print(k, len(case.all_imgs_sop2filepath[k]), end=', ')\n",
    "for cr in case.crs:\n",
    "    print(cr.name, cr.get_cr(), end=', ')"
   ]
  },
  {
   "cell_type": "code",
   "execution_count": null,
   "id": "020ea7fc",
   "metadata": {},
   "outputs": [],
   "source": [
    "from LazyLuna.loading_functions import *\n",
    "\n",
    "view       = Mini_LL.SAX_CINE_View()\n",
    "case_paths = '/Users/dietrichhadler/Desktop/Daten/CAMAID/Cases'\n",
    "paths      = [str(p) for p in Path(case_paths).glob('**/*.pickle')]\n",
    "all_cases  = [pickle.load(open(p,'rb')) for p in paths]\n",
    "cases1     = sorted([c for c in all_cases if c.reader_name=='Gold'],    key=lambda c:c.case_name)\n",
    "cases2     = sorted([c for c in all_cases if c.reader_name=='Reader2'], key=lambda c:c.case_name)\n",
    "ccs = []\n",
    "for c1,c2 in zip(cases1,cases2):\n",
    "    try:ccs.append(Mini_LL.Case_Comparison(view.customize_case(c1), view.customize_case(c2)))\n",
    "    except: continue\n",
    "print(len(ccs))"
   ]
  },
  {
   "cell_type": "code",
   "execution_count": null,
   "id": "70b3e7b4",
   "metadata": {},
   "outputs": [],
   "source": [
    "ba = BlandAltman()\n",
    "ba.visualize(ccs, 'RVESV')\n",
    "ba.store('/Users/dietrichhadler/Desktop')"
   ]
  },
  {
   "cell_type": "code",
   "execution_count": null,
   "id": "90dd4327",
   "metadata": {},
   "outputs": [],
   "source": [
    "fig, ax = plt.subplots(1,1, figsize=(7,7))\n",
    "h, w = 5,5\n",
    "ax.imshow(np.arange(h*w).reshape(h,w), extent=(0, w, h, 0))\n",
    "plt.show()"
   ]
  },
  {
   "cell_type": "code",
   "execution_count": null,
   "id": "efbac7de",
   "metadata": {},
   "outputs": [],
   "source": []
  }
 ],
 "metadata": {
  "kernelspec": {
   "display_name": "Python 3",
   "language": "python",
   "name": "python3"
  },
  "language_info": {
   "codemirror_mode": {
    "name": "ipython",
    "version": 3
   },
   "file_extension": ".py",
   "mimetype": "text/x-python",
   "name": "python",
   "nbconvert_exporter": "python",
   "pygments_lexer": "ipython3",
   "version": "3.8.8"
  }
 },
 "nbformat": 4,
 "nbformat_minor": 5
}
