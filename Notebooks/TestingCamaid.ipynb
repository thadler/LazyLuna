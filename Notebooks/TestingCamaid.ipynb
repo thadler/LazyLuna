{
 "cells": [
  {
   "cell_type": "code",
   "execution_count": 1,
   "id": "3fd81e89",
   "metadata": {},
   "outputs": [],
   "source": [
    "import os\n",
    "from pathlib import Path\n",
    "from operator import itemgetter\n",
    "import pickle\n",
    "import pydicom\n",
    "from time import time\n",
    "import pandas\n",
    "\n",
    "import matplotlib.pyplot as plt\n",
    "import numpy as np\n",
    "from shapely.geometry import Polygon, MultiPolygon, LineString, GeometryCollection, Point, MultiPoint\n",
    "from shapely.affinity import translate\n",
    "\n",
    "from catch_converter.parse_contours import parse_cvi42ws\n",
    "from LazyLuna.Mini_LL import *\n",
    "from LazyLuna.CATCH_utils import *"
   ]
  },
  {
   "cell_type": "code",
   "execution_count": 2,
   "id": "48aa3bf1",
   "metadata": {},
   "outputs": [],
   "source": [
    "# basepaths\n",
    "bp       = '/Users/dietrichhadler/Desktop/Daten/CAMAID'\n",
    "bp_ws    = '/Users/dietrichhadler/Desktop/Daten/CAMAID/Workspaces'\n",
    "bp_annos = '/Users/dietrichhadler/Desktop/Daten/CAMAID/Gold'\n",
    "bp_cases = '/Users/dietrichhadler/Desktop/Daten/CAMAID/Cases'\n",
    "bp_imgs  = '/Users/dietrichhadler/Desktop/Daten/CAMAID/Imgs'"
   ]
  },
  {
   "cell_type": "code",
   "execution_count": 3,
   "id": "243a92ef",
   "metadata": {
    "scrolled": true
   },
   "outputs": [
    {
     "name": "stdout",
     "output_type": "stream",
     "text": [
      "Nr of path tuples:  21\n",
      "Existing Annotations:  15\n",
      "['/Users/dietrichhadler/Desktop/Daten/CAMAID/Imgs/CAMAID_001_1',\n",
      " '/Users/dietrichhadler/Desktop/Daten/CAMAID/Imgs/CAMAID_002_1',\n",
      " '/Users/dietrichhadler/Desktop/Daten/CAMAID/Imgs/CAMAID_003_1',\n",
      " '/Users/dietrichhadler/Desktop/Daten/CAMAID/Imgs/Camaid_004_1',\n",
      " '/Users/dietrichhadler/Desktop/Daten/CAMAID/Imgs/Camaid_005_1',\n",
      " '/Users/dietrichhadler/Desktop/Daten/CAMAID/Imgs/Camaid_006_1',\n",
      " '/Users/dietrichhadler/Desktop/Daten/CAMAID/Imgs/Camaid_007_1',\n",
      " '/Users/dietrichhadler/Desktop/Daten/CAMAID/Imgs/Camaid_008_1',\n",
      " '/Users/dietrichhadler/Desktop/Daten/CAMAID/Imgs/Camaid_009_1',\n",
      " '/Users/dietrichhadler/Desktop/Daten/CAMAID/Imgs/Camaid_010_1',\n",
      " '/Users/dietrichhadler/Desktop/Daten/CAMAID/Imgs/Camaid_011_1',\n",
      " '/Users/dietrichhadler/Desktop/Daten/CAMAID/Imgs/Camaid_014_1',\n",
      " '/Users/dietrichhadler/Desktop/Daten/CAMAID/Imgs/Camaid_015_1',\n",
      " '/Users/dietrichhadler/Desktop/Daten/CAMAID/Imgs/Camaid_016_1',\n",
      " '/Users/dietrichhadler/Desktop/Daten/CAMAID/Imgs/Camaid_017_1']\n",
      "0\n",
      "CAMAID_001_2 1.3.12.2.1107.5.2.41.69541.30000021061505164768400000004\n",
      "True False\n",
      "Not converting.\n",
      "\n",
      "1\n",
      "Camaid_009_1 1.3.12.2.1107.5.2.41.69541.30000021053106104727700008113\n",
      "Case customization took:  10.938272953033447 Case:  Gold Camaid_009_1\n",
      "\n",
      "2\n",
      "CAMAID_003_1 1.3.12.2.1107.5.2.41.69541.30000021043005072317400000006\n",
      "Case customization took:  10.423624992370605 Case:  Gold CAMAID_003_1\n",
      "\n",
      "3\n",
      "Camaid_007_1 1.3.12.2.1107.5.2.41.69541.30000021052109344403700000005\n",
      "Case customization took:  16.63779592514038 Case:  Gold Camaid_007_1\n",
      "\n",
      "4\n",
      "Camaid_017_1 1.3.12.2.1107.5.2.41.69541.30000021082004540231100000006\n",
      "Case customization took:  15.947693824768066 Case:  Gold Camaid_017_1\n",
      "\n",
      "5\n",
      "Camaid_011_2 1.3.12.2.1107.5.2.41.69541.30000021081705173312100000004\n",
      "True False\n",
      "Not converting.\n",
      "\n",
      "6\n",
      "Camaid_013_1 1.3.12.2.1107.5.2.41.69541.30000021080405581295100001061\n",
      "True False\n",
      "Not converting.\n",
      "\n",
      "7\n",
      "Camaid_004_1 1.3.12.2.1107.5.2.41.69541.30000021050505105444300001485\n",
      "Case customization took:  8.52438473701477 Case:  Gold Camaid_004_1\n",
      "\n",
      "8\n",
      "Camaid_014_1 1.3.12.2.1107.5.2.41.69541.30000021080905580950100001632\n",
      "Case customization took:  8.809366226196289 Case:  Gold Camaid_014_1\n",
      "\n",
      "9\n",
      "Camaid_010_1 1.3.12.2.1107.5.2.41.69541.30000021070604504976100000013\n",
      "Case customization took:  14.58694076538086 Case:  Gold Camaid_010_1\n",
      "\n",
      "10\n",
      "CAMAID_001_1 1.3.12.2.1107.5.2.41.69541.30000021050505105444300004567\n",
      "Case customization took:  14.073119163513184 Case:  Gold CAMAID_001_1\n",
      "\n",
      "11\n",
      "Camaid_005_1 1.3.12.2.1107.5.2.41.69541.30000021051404500593000000005\n",
      "Case customization failed:  (0, 0)\n",
      "\n",
      "12\n",
      "Camaid_015_1 1.3.12.2.1107.5.2.41.69541.30000021082004540231100000003\n",
      "Case customization failed:  (0, 0)\n",
      "\n",
      "13\n",
      "Camaid_011_1 1.3.12.2.1107.5.2.41.69541.30000021080510493242700003446\n",
      "Case customization took:  16.51513171195984 Case:  Gold Camaid_011_1\n",
      "\n",
      "14\n",
      "CAMAID_002_1 1.3.12.2.1107.5.2.41.69541.30000021042705100613600000008\n",
      "Case customization took:  13.137351989746094 Case:  Gold CAMAID_002_1\n",
      "\n",
      "15\n",
      "Camaid_008_1 1.3.12.2.1107.5.2.41.69541.30000021053106104727700006129\n",
      "Case customization took:  14.5607271194458 Case:  Gold Camaid_008_1\n",
      "\n",
      "16\n",
      "Camaid_004_2 1.3.12.2.1107.5.2.41.69541.30000021082705190439000000004\n",
      "True False\n",
      "Not converting.\n",
      "\n",
      "17\n",
      "Camaid_006_1 1.3.12.2.1107.5.2.41.69541.30000021051809522483000003079\n",
      "Case customization took:  14.669021129608154 Case:  Gold Camaid_006_1\n",
      "\n",
      "18\n",
      "Camaid_016_1 1.3.12.2.1107.5.2.41.69541.30000021081305341230700000004\n",
      "Case customization took:  15.146606206893921 Case:  Gold Camaid_016_1\n",
      "\n",
      "19\n",
      "Camaid_012_1 1.3.12.2.1107.5.2.41.69541.30000021080510493242700005949\n",
      "True False\n",
      "Not converting.\n",
      "\n",
      "20\n",
      "Camaid_018_1 1.3.12.2.1107.5.2.41.69541.30000021090605105644700000005\n",
      "True False\n",
      "Not converting.\n",
      "\n"
     ]
    }
   ],
   "source": [
    "# unpack the workspaces from ws_path to case_storage_path\n",
    "#cvi42ws_paths     = [f for f in os.listdir(bp_ws) if f.endswith('cvi42ws')]\n",
    "#parse_cvi42ws(bp_ws, bp_annos, process=True, debug=True)\n",
    "#parse_cvi42ws(bp_ws, bp_annos, process=True, debug=False)\n",
    "\n",
    "# get the paths of imgs and annotations via SeriesInstanceUIDs\n",
    "imgsanno_paths = get_imgs_and_annotation_paths(bp_imgs, bp_annos)\n",
    "\n",
    "print('Nr of path tuples: ', len(imgsanno_paths))\n",
    "case_names = sorted([c[0] for c in imgsanno_paths])\n",
    "from pprint import pprint\n",
    "print('Existing Annotations: ', len(sorted([c[0] for c in imgsanno_paths if os.path.exists(c[1])])))\n",
    "pprint(sorted([c[0] for c in imgsanno_paths if os.path.exists(c[1])]))\n",
    "\n",
    "cases = []\n",
    "sax_cine_view = SAX_CINE_View()\n",
    "#sax_cs_view   = SAX_CS_View()\n",
    "for count, (imgp,annop) in enumerate(imgsanno_paths):\n",
    "    #if '008' not in imgp: continue\n",
    "    print(count)\n",
    "    print(os.path.basename(imgp), os.path.basename(annop))\n",
    "    if not os.path.exists(imgp) or not os.path.exists(annop):\n",
    "        print(os.path.exists(imgp), os.path.exists(annop))\n",
    "        print('Not converting.'); print()\n",
    "        continue\n",
    "    st = time()\n",
    "    try:\n",
    "        case = Case(imgp, annop, os.path.basename(imgp), os.path.basename(bp_annos))\n",
    "        case = sax_cine_view.customize_case(case)\n",
    "        #case = sax_cs_view.customize_case(case)\n",
    "        case.store(bp_cases)\n",
    "        cases.append(case)\n",
    "        print('Case customization took: ', time()-st, 'Case: ', case.reader_name, case.case_name)\n",
    "    except Exception as e:\n",
    "        print('Case customization failed: ', e)\n",
    "    print()\n"
   ]
  },
  {
   "cell_type": "code",
   "execution_count": null,
   "id": "655dc1de",
   "metadata": {
    "scrolled": true
   },
   "outputs": [],
   "source": [
    "display(df['annotated'])\n",
    "display(df.loc[df['annotated'].isin([0])])"
   ]
  },
  {
   "cell_type": "code",
   "execution_count": null,
   "id": "59cf766e",
   "metadata": {},
   "outputs": [],
   "source": []
  },
  {
   "cell_type": "code",
   "execution_count": null,
   "id": "c180693a",
   "metadata": {
    "scrolled": false
   },
   "outputs": [],
   "source": [
    "for k, v in df[['case','series_descr', 'annotated']].value_counts().iteritems():\n",
    "    if k[-1]>0:\n",
    "        print(k[-1], l)"
   ]
  },
  {
   "cell_type": "code",
   "execution_count": null,
   "id": "33827be4",
   "metadata": {},
   "outputs": [],
   "source": [
    "print('Cine SAX images:')\n",
    "curr = None\n",
    "for k,v in sorted(df[['case','series_descr']].value_counts().iteritems()):\n",
    "    if curr is None or curr!=k[0]: print(k[0])\n",
    "    curr = k[0]\n",
    "    if 'RV 7 0' in k[1] or k[1]=='SAX CINE':\n",
    "        print('\\t', k[1], v)\n",
    "print('Camaid_005_1 und Camaid_015_1 nicht segmentiert, da Vorhofflimmern')"
   ]
  },
  {
   "cell_type": "code",
   "execution_count": null,
   "id": "4ecdb4e6",
   "metadata": {
    "scrolled": true
   },
   "outputs": [],
   "source": [
    "print('4CH View images:')\n",
    "\n",
    "curr = None\n",
    "for k,v in sorted(df[['case','series_descr']].value_counts().iteritems()):\n",
    "    if curr is None or curr!=k[0]: print(k[0])\n",
    "    curr = k[0]\n",
    "    if 'cine_tf2d12' in k[1] and ('2 cv' in k[1] or '2cv' in k[1]):\n",
    "        print('\\t', k[1],v)\n",
    "    if 'cine_tf2d12' in k[1] and ('3 cv' in k[1] or '3cv' in k[1]):\n",
    "        print('\\t', k[1], v)\n",
    "    if 'cine_tf2d12' in k[1] and ('4 cv' in k[1] or '4cv' in k[1]):\n",
    "        print('\\t', k[1], v)\n",
    "print('Several cases have two or more series of LAX')"
   ]
  },
  {
   "cell_type": "code",
   "execution_count": null,
   "id": "566a1e8b",
   "metadata": {
    "scrolled": true
   },
   "outputs": [],
   "source": [
    "print('T1 images:')\n",
    "for k,v in sorted(df[['case','series_descr']].value_counts().iteritems()):\n",
    "    if curr is None or curr!=k[0]: print(k[0])\n",
    "    curr = k[0]\n",
    "    #if curr!='Camaid_011_2': continue\n",
    "    if 'pre_MOLLI' in k[1] and 'T1' in k[1] and 'T1S' not in k[1] and '4cv' not in k[1]:\n",
    "        print('\\t', k[1], v)\n",
    "    #print('\\t', k[1], v)\n",
    "print('T1 fehlt bei Camaid 11')"
   ]
  },
  {
   "cell_type": "code",
   "execution_count": null,
   "id": "faa38f2c",
   "metadata": {
    "scrolled": true
   },
   "outputs": [],
   "source": [
    "print('T2 images:')\n",
    "for k,v in sorted(df[['case','series_descr']].value_counts().iteritems()):\n",
    "    if curr is None or curr!=k[0]: print(k[0])\n",
    "    curr = k[0]\n",
    "    #if curr!='Camaid_011_2': continue\n",
    "    if 'T2' in k[1] and 'MOCO_T2' in k[1] and '4cv' not in k[1]:\n",
    "        print('\\t', k[1], v)\n",
    "    #print('\\t', k[1], v)\n",
    "print('Viele Fälle bereits 3 aus 5 definiert.')"
   ]
  },
  {
   "cell_type": "code",
   "execution_count": null,
   "id": "59557d09",
   "metadata": {},
   "outputs": [],
   "source": [
    "def add_LL_tag(store_path, dcm, tag='Lazy Luna: None'): # Lazy Luna: SAX CS\n",
    "    try:    dcm[0x0b, 0x10].value = tag\n",
    "    except: dcm.private_block(0x000b, tag, create=True)\n",
    "    dcm.save_as(filename=store_path, write_like_original=False)\n",
    "    \n",
    "all_cases = os.listdir(bp_imgs)\n",
    "print('All cases: ', all_cases)\n",
    "\n",
    "columns = ['case', 'series_descr', 'suid']\n",
    "for i_c, c in enumerate(all_cases):\n",
    "    for ip, p in enumerate(Path(os.path.join(bp_imgs, c)).glob('**/*.dcm')):\n",
    "        p = str(p)\n",
    "        dcm = pydicom.dcmread(p, stop_before_pixels=False)\n",
    "        #print(dcm.SeriesDescription)\n",
    "        try:\n",
    "            if 'RV 7 0' in dcm.SeriesDescription: add_LL_tag(p, dcm, tag='Lazy Luna: SAX CINE')\n",
    "            else:                                 add_LL_tag(p, dcm, tag='Lazy Luna: None')\n",
    "        except:\n",
    "            print('Failed at: Case', c)\n",
    "            print(dcm)\n",
    "            continue\n",
    "    print(i_c, 'Done for', c)\n"
   ]
  },
  {
   "cell_type": "code",
   "execution_count": null,
   "id": "78fa8615",
   "metadata": {},
   "outputs": [],
   "source": [
    "for i_c, c in enumerate(all_cases):\n",
    "    for ip, p in enumerate(Path(os.path.join(bp_imgs, c)).glob('**/*.dcm')):\n",
    "        p = str(p)\n",
    "        dcm = pydicom.dcmread(p, stop_before_pixels=False)\n",
    "        name = str(dcm[0x0b, 0x10].value).replace('Lazy Luna: ', '') # LL Tag\n",
    "        print(name)"
   ]
  },
  {
   "cell_type": "code",
   "execution_count": null,
   "id": "845223ab",
   "metadata": {},
   "outputs": [],
   "source": [
    "# 1st: (tool 1)\n",
    "# sort all images for one case\n",
    "# get all annos for each image and offer that as info too\n",
    "# add LL image tags for what we have here\n",
    "#\n",
    "# 2nd: (tool 2)\n",
    "# make cases, AFTER images are defined\n",
    "# created cases: connect annos to images\n",
    "# "
   ]
  },
  {
   "cell_type": "code",
   "execution_count": 8,
   "id": "94d37363",
   "metadata": {},
   "outputs": [
    {
     "name": "stdout",
     "output_type": "stream",
     "text": [
      "Camaid_005_1\n",
      "dict_keys(['SAX CINE', 'SAX CS', 'SAX T1', 'SAX T2', 'LAX 2CV', 'LAX 3CV', 'LAX 4CV', 'SAX LGE', 'None'])\n",
      "SAX CINE 0\n",
      "SAX CS 0\n",
      "SAX T1 0\n",
      "SAX T2 0\n",
      "LAX 2CV 30\n",
      "LAX 3CV 30\n",
      "LAX 4CV 30\n",
      "SAX LGE 0\n",
      "None 2734\n"
     ]
    },
    {
     "ename": "AttributeError",
     "evalue": "'Case' object has no attribute 'crs'",
     "output_type": "error",
     "traceback": [
      "\u001b[0;31m---------------------------------------------------------------------------\u001b[0m",
      "\u001b[0;31mAttributeError\u001b[0m                            Traceback (most recent call last)",
      "\u001b[0;32m<ipython-input-8-a8d52bb97863>\u001b[0m in \u001b[0;36m<module>\u001b[0;34m\u001b[0m\n\u001b[1;32m      7\u001b[0m \u001b[0;32mfor\u001b[0m \u001b[0mk\u001b[0m \u001b[0;32min\u001b[0m \u001b[0mcase\u001b[0m\u001b[0;34m.\u001b[0m\u001b[0mall_imgs_sop2filepath\u001b[0m\u001b[0;34m.\u001b[0m\u001b[0mkeys\u001b[0m\u001b[0;34m(\u001b[0m\u001b[0;34m)\u001b[0m\u001b[0;34m:\u001b[0m\u001b[0;34m\u001b[0m\u001b[0;34m\u001b[0m\u001b[0m\n\u001b[1;32m      8\u001b[0m     \u001b[0mprint\u001b[0m\u001b[0;34m(\u001b[0m\u001b[0mk\u001b[0m\u001b[0;34m,\u001b[0m \u001b[0mlen\u001b[0m\u001b[0;34m(\u001b[0m\u001b[0mcase\u001b[0m\u001b[0;34m.\u001b[0m\u001b[0mall_imgs_sop2filepath\u001b[0m\u001b[0;34m[\u001b[0m\u001b[0mk\u001b[0m\u001b[0;34m]\u001b[0m\u001b[0;34m)\u001b[0m\u001b[0;34m)\u001b[0m\u001b[0;34m\u001b[0m\u001b[0;34m\u001b[0m\u001b[0m\n\u001b[0;32m----> 9\u001b[0;31m \u001b[0;32mfor\u001b[0m \u001b[0mcr\u001b[0m \u001b[0;32min\u001b[0m \u001b[0mcase\u001b[0m\u001b[0;34m.\u001b[0m\u001b[0mcrs\u001b[0m\u001b[0;34m:\u001b[0m\u001b[0;34m\u001b[0m\u001b[0;34m\u001b[0m\u001b[0m\n\u001b[0m\u001b[1;32m     10\u001b[0m     \u001b[0mprint\u001b[0m\u001b[0;34m(\u001b[0m\u001b[0mcr\u001b[0m\u001b[0;34m.\u001b[0m\u001b[0mget_cr\u001b[0m\u001b[0;34m(\u001b[0m\u001b[0;34m)\u001b[0m\u001b[0;34m)\u001b[0m\u001b[0;34m\u001b[0m\u001b[0;34m\u001b[0m\u001b[0m\n",
      "\u001b[0;31mAttributeError\u001b[0m: 'Case' object has no attribute 'crs'"
     ]
    }
   ],
   "source": [
    "case_path = '/Users/dietrichhadler/Desktop/Daten/CAMAID/Cases/Gold_Camaid_005_1_LL_case.pickle'\n",
    "case = pickle.load(open(case_path, 'rb'))\n",
    "print(case.case_name)\n",
    "\n",
    "#print(case.type)\n",
    "print(case.all_imgs_sop2filepath.keys())\n",
    "for k in case.all_imgs_sop2filepath.keys():\n",
    "    print(k, len(case.all_imgs_sop2filepath[k]))\n",
    "for cr in case.crs:\n",
    "    print(cr.get_cr())"
   ]
  },
  {
   "cell_type": "code",
   "execution_count": null,
   "id": "d0bcfecb",
   "metadata": {},
   "outputs": [],
   "source": []
  }
 ],
 "metadata": {
  "kernelspec": {
   "display_name": "Python 3",
   "language": "python",
   "name": "python3"
  },
  "language_info": {
   "codemirror_mode": {
    "name": "ipython",
    "version": 3
   },
   "file_extension": ".py",
   "mimetype": "text/x-python",
   "name": "python",
   "nbconvert_exporter": "python",
   "pygments_lexer": "ipython3",
   "version": "3.8.8"
  }
 },
 "nbformat": 4,
 "nbformat_minor": 5
}
