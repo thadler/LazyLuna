{
 "cells": [
  {
   "cell_type": "code",
   "execution_count": 1,
   "id": "3fd81e89",
   "metadata": {},
   "outputs": [],
   "source": [
    "import os\n",
    "from pathlib import Path\n",
    "from operator import itemgetter\n",
    "import pickle\n",
    "import pydicom\n",
    "from time import time\n",
    "import pandas\n",
    "\n",
    "import matplotlib.pyplot as plt\n",
    "import numpy as np\n",
    "from shapely.geometry import Polygon, MultiPolygon, LineString, GeometryCollection, Point, MultiPoint\n",
    "from shapely.affinity import translate\n",
    "\n",
    "from catch_converter.parse_contours import parse_cvi42ws\n",
    "from LazyLuna.Mini_LL import *\n",
    "from LazyLuna.CATCH_utils import *"
   ]
  },
  {
   "cell_type": "code",
   "execution_count": 2,
   "id": "48aa3bf1",
   "metadata": {},
   "outputs": [],
   "source": [
    "# basepaths\n",
    "bp       = '/Users/dietrichhadler/Desktop/Daten/CAMAID_new_LL'\n",
    "bp_ws    = '/Users/dietrichhadler/Desktop/Daten/CAMAID_new_LL/workspaces'\n",
    "bp_annos = '/Users/dietrichhadler/Desktop/Daten/CAMAID_new_LL/Gold'\n",
    "bp_cases = '/Users/dietrichhadler/Desktop/Daten/CAMAID_new_LL/Cases'\n",
    "bp_imgs  = '/Users/dietrichhadler/Desktop/Daten/CAMAID_new_LL/Imgs'"
   ]
  },
  {
   "cell_type": "code",
   "execution_count": 4,
   "id": "243a92ef",
   "metadata": {
    "scrolled": true
   },
   "outputs": [
    {
     "name": "stdout",
     "output_type": "stream",
     "text": [
      "/Users/dietrichhadler/Desktop/Daten/CAMAID_new_LL/Imgs/CAMAID_003_1 /Users/dietrichhadler/Desktop/Daten/CAMAID_new_LL/Gold/1.3.12.2.1107.5.2.41.69541.30000021043005072317400000006\n",
      "nr images here:  480\n"
     ]
    },
    {
     "ename": "AttributeError",
     "evalue": "'FileDataset' object has no attribute 'SliceLocation'",
     "output_type": "error",
     "traceback": [
      "\u001b[0;31m---------------------------------------------------------------------------\u001b[0m",
      "\u001b[0;31mAttributeError\u001b[0m                            Traceback (most recent call last)",
      "\u001b[0;32m<ipython-input-4-9a86ab064104>\u001b[0m in \u001b[0;36m<module>\u001b[0;34m\u001b[0m\n\u001b[1;32m     21\u001b[0m     \u001b[0;31m#try:\u001b[0m\u001b[0;34m\u001b[0m\u001b[0;34m\u001b[0m\u001b[0;34m\u001b[0m\u001b[0m\n\u001b[1;32m     22\u001b[0m     \u001b[0mcase\u001b[0m \u001b[0;34m=\u001b[0m \u001b[0mCase\u001b[0m\u001b[0;34m(\u001b[0m\u001b[0mimgp\u001b[0m\u001b[0;34m,\u001b[0m \u001b[0mannop\u001b[0m\u001b[0;34m,\u001b[0m \u001b[0mos\u001b[0m\u001b[0;34m.\u001b[0m\u001b[0mpath\u001b[0m\u001b[0;34m.\u001b[0m\u001b[0mbasename\u001b[0m\u001b[0;34m(\u001b[0m\u001b[0mimgp\u001b[0m\u001b[0;34m)\u001b[0m\u001b[0;34m,\u001b[0m \u001b[0mos\u001b[0m\u001b[0;34m.\u001b[0m\u001b[0mpath\u001b[0m\u001b[0;34m.\u001b[0m\u001b[0mbasename\u001b[0m\u001b[0;34m(\u001b[0m\u001b[0mbp_annos\u001b[0m\u001b[0;34m)\u001b[0m\u001b[0;34m)\u001b[0m\u001b[0;34m\u001b[0m\u001b[0;34m\u001b[0m\u001b[0m\n\u001b[0;32m---> 23\u001b[0;31m     \u001b[0mcase\u001b[0m \u001b[0;34m=\u001b[0m \u001b[0msax_cine_view\u001b[0m\u001b[0;34m.\u001b[0m\u001b[0mcustomize_case\u001b[0m\u001b[0;34m(\u001b[0m\u001b[0mcase\u001b[0m\u001b[0;34m)\u001b[0m\u001b[0;34m\u001b[0m\u001b[0;34m\u001b[0m\u001b[0m\n\u001b[0m\u001b[1;32m     24\u001b[0m     \u001b[0;31m#case = sax_cs_view.customize_case(case)\u001b[0m\u001b[0;34m\u001b[0m\u001b[0;34m\u001b[0m\u001b[0;34m\u001b[0m\u001b[0m\n\u001b[1;32m     25\u001b[0m     \u001b[0mcase\u001b[0m\u001b[0;34m.\u001b[0m\u001b[0mstore\u001b[0m\u001b[0;34m(\u001b[0m\u001b[0mbp_cases\u001b[0m\u001b[0;34m)\u001b[0m\u001b[0;34m\u001b[0m\u001b[0;34m\u001b[0m\u001b[0m\n",
      "\u001b[0;32m~/Documents/GitHub/LazyLuna/src/LazyLuna/Mini_LL.py\u001b[0m in \u001b[0;36mcustomize_case\u001b[0;34m(self, case, debug)\u001b[0m\n\u001b[1;32m    704\u001b[0m         \u001b[0;32mif\u001b[0m \u001b[0;32mnot\u001b[0m \u001b[0mhasattr\u001b[0m\u001b[0;34m(\u001b[0m\u001b[0mcase\u001b[0m\u001b[0;34m,\u001b[0m \u001b[0;34m'categories'\u001b[0m\u001b[0;34m)\u001b[0m\u001b[0;34m:\u001b[0m\u001b[0;34m\u001b[0m\u001b[0;34m\u001b[0m\u001b[0m\n\u001b[1;32m    705\u001b[0m             \u001b[0mcase\u001b[0m\u001b[0;34m.\u001b[0m\u001b[0mother_categories\u001b[0m \u001b[0;34m=\u001b[0m \u001b[0mdict\u001b[0m\u001b[0;34m(\u001b[0m\u001b[0;34m)\u001b[0m\u001b[0;34m\u001b[0m\u001b[0;34m\u001b[0m\u001b[0m\n\u001b[0;32m--> 706\u001b[0;31m             \u001b[0mcase\u001b[0m\u001b[0;34m.\u001b[0m\u001b[0mattach_categories\u001b[0m\u001b[0;34m(\u001b[0m\u001b[0;34m[\u001b[0m\u001b[0mSAX_LV_ES_Category\u001b[0m\u001b[0;34m,\u001b[0m \u001b[0mSAX_LV_ED_Category\u001b[0m\u001b[0;34m,\u001b[0m \u001b[0mSAX_RV_ES_Category\u001b[0m\u001b[0;34m,\u001b[0m \u001b[0mSAX_RV_ED_Category\u001b[0m\u001b[0;34m]\u001b[0m\u001b[0;34m)\u001b[0m\u001b[0;34m\u001b[0m\u001b[0;34m\u001b[0m\u001b[0m\n\u001b[0m\u001b[1;32m    707\u001b[0m         \u001b[0;32melse\u001b[0m\u001b[0;34m:\u001b[0m\u001b[0;34m\u001b[0m\u001b[0;34m\u001b[0m\u001b[0m\n\u001b[1;32m    708\u001b[0m             \u001b[0mcase\u001b[0m\u001b[0;34m.\u001b[0m\u001b[0mother_categories\u001b[0m\u001b[0;34m[\u001b[0m\u001b[0mcase\u001b[0m\u001b[0;34m.\u001b[0m\u001b[0mtype\u001b[0m\u001b[0;34m]\u001b[0m \u001b[0;34m=\u001b[0m \u001b[0mcase\u001b[0m\u001b[0;34m.\u001b[0m\u001b[0mcategories\u001b[0m\u001b[0;34m\u001b[0m\u001b[0;34m\u001b[0m\u001b[0m\n",
      "\u001b[0;32m~/Documents/GitHub/LazyLuna/src/LazyLuna/Mini_LL.py\u001b[0m in \u001b[0;36mattach_categories\u001b[0;34m(self, categories)\u001b[0m\n\u001b[1;32m    602\u001b[0m     \u001b[0;32mdef\u001b[0m \u001b[0mattach_categories\u001b[0m\u001b[0;34m(\u001b[0m\u001b[0mself\u001b[0m\u001b[0;34m,\u001b[0m \u001b[0mcategories\u001b[0m\u001b[0;34m)\u001b[0m\u001b[0;34m:\u001b[0m\u001b[0;34m\u001b[0m\u001b[0;34m\u001b[0m\u001b[0m\n\u001b[1;32m    603\u001b[0m         \u001b[0mself\u001b[0m\u001b[0;34m.\u001b[0m\u001b[0mcategories\u001b[0m \u001b[0;34m=\u001b[0m \u001b[0;34m[\u001b[0m\u001b[0;34m]\u001b[0m \u001b[0;31m# iteratively adding categories is a speed-up\u001b[0m\u001b[0;34m\u001b[0m\u001b[0;34m\u001b[0m\u001b[0m\n\u001b[0;32m--> 604\u001b[0;31m         \u001b[0;32mfor\u001b[0m \u001b[0mc\u001b[0m \u001b[0;32min\u001b[0m \u001b[0mcategories\u001b[0m\u001b[0;34m:\u001b[0m \u001b[0mself\u001b[0m\u001b[0;34m.\u001b[0m\u001b[0mcategories\u001b[0m\u001b[0;34m.\u001b[0m\u001b[0mappend\u001b[0m\u001b[0;34m(\u001b[0m\u001b[0mc\u001b[0m\u001b[0;34m(\u001b[0m\u001b[0mself\u001b[0m\u001b[0;34m)\u001b[0m\u001b[0;34m)\u001b[0m\u001b[0;34m\u001b[0m\u001b[0;34m\u001b[0m\u001b[0m\n\u001b[0m\u001b[1;32m    605\u001b[0m \u001b[0;34m\u001b[0m\u001b[0m\n\u001b[1;32m    606\u001b[0m     \u001b[0;32mdef\u001b[0m \u001b[0mattach_clinical_results\u001b[0m\u001b[0;34m(\u001b[0m\u001b[0mself\u001b[0m\u001b[0;34m,\u001b[0m \u001b[0mcrs\u001b[0m\u001b[0;34m)\u001b[0m\u001b[0;34m:\u001b[0m\u001b[0;34m\u001b[0m\u001b[0;34m\u001b[0m\u001b[0m\n",
      "\u001b[0;32m~/Documents/GitHub/LazyLuna/src/LazyLuna/Mini_LL.py\u001b[0m in \u001b[0;36m__init__\u001b[0;34m(self, case)\u001b[0m\n\u001b[1;32m    277\u001b[0m \u001b[0;32mclass\u001b[0m \u001b[0mSAX_LV_ES_Category\u001b[0m\u001b[0;34m(\u001b[0m\u001b[0mSAX_slice_phase_Category\u001b[0m\u001b[0;34m)\u001b[0m\u001b[0;34m:\u001b[0m\u001b[0;34m\u001b[0m\u001b[0;34m\u001b[0m\u001b[0m\n\u001b[1;32m    278\u001b[0m     \u001b[0;32mdef\u001b[0m \u001b[0m__init__\u001b[0m\u001b[0;34m(\u001b[0m\u001b[0mself\u001b[0m\u001b[0;34m,\u001b[0m \u001b[0mcase\u001b[0m\u001b[0;34m)\u001b[0m\u001b[0;34m:\u001b[0m\u001b[0;34m\u001b[0m\u001b[0;34m\u001b[0m\u001b[0m\n\u001b[0;32m--> 279\u001b[0;31m         \u001b[0msuper\u001b[0m\u001b[0;34m(\u001b[0m\u001b[0;34m)\u001b[0m\u001b[0;34m.\u001b[0m\u001b[0m__init__\u001b[0m\u001b[0;34m(\u001b[0m\u001b[0mcase\u001b[0m\u001b[0;34m)\u001b[0m\u001b[0;34m\u001b[0m\u001b[0;34m\u001b[0m\u001b[0m\n\u001b[0m\u001b[1;32m    280\u001b[0m         \u001b[0mself\u001b[0m\u001b[0;34m.\u001b[0m\u001b[0mname\u001b[0m  \u001b[0;34m=\u001b[0m \u001b[0;34m'SAX LVES'\u001b[0m\u001b[0;34m\u001b[0m\u001b[0;34m\u001b[0m\u001b[0m\n\u001b[1;32m    281\u001b[0m         \u001b[0mself\u001b[0m\u001b[0;34m.\u001b[0m\u001b[0mphase\u001b[0m \u001b[0;34m=\u001b[0m \u001b[0mself\u001b[0m\u001b[0;34m.\u001b[0m\u001b[0mget_phase\u001b[0m\u001b[0;34m(\u001b[0m\u001b[0;34m)\u001b[0m\u001b[0;34m\u001b[0m\u001b[0;34m\u001b[0m\u001b[0m\n",
      "\u001b[0;32m~/Documents/GitHub/LazyLuna/src/LazyLuna/Mini_LL.py\u001b[0m in \u001b[0;36m__init__\u001b[0;34m(self, case)\u001b[0m\n\u001b[1;32m    145\u001b[0m     \u001b[0;32mdef\u001b[0m \u001b[0m__init__\u001b[0m\u001b[0;34m(\u001b[0m\u001b[0mself\u001b[0m\u001b[0;34m,\u001b[0m \u001b[0mcase\u001b[0m\u001b[0;34m)\u001b[0m\u001b[0;34m:\u001b[0m\u001b[0;34m\u001b[0m\u001b[0;34m\u001b[0m\u001b[0m\n\u001b[1;32m    146\u001b[0m         \u001b[0mself\u001b[0m\u001b[0;34m.\u001b[0m\u001b[0mcase\u001b[0m \u001b[0;34m=\u001b[0m \u001b[0mcase\u001b[0m\u001b[0;34m\u001b[0m\u001b[0;34m\u001b[0m\u001b[0m\n\u001b[0;32m--> 147\u001b[0;31m         \u001b[0mself\u001b[0m\u001b[0;34m.\u001b[0m\u001b[0msop2depthandtime\u001b[0m \u001b[0;34m=\u001b[0m \u001b[0mself\u001b[0m\u001b[0;34m.\u001b[0m\u001b[0mget_sop2depthandtime\u001b[0m\u001b[0;34m(\u001b[0m\u001b[0mcase\u001b[0m\u001b[0;34m.\u001b[0m\u001b[0mimgs_sop2filepath\u001b[0m\u001b[0;34m)\u001b[0m\u001b[0;34m\u001b[0m\u001b[0;34m\u001b[0m\u001b[0m\n\u001b[0m\u001b[1;32m    148\u001b[0m         \u001b[0mself\u001b[0m\u001b[0;34m.\u001b[0m\u001b[0mdepthandtime2sop\u001b[0m \u001b[0;34m=\u001b[0m \u001b[0;34m{\u001b[0m\u001b[0mv\u001b[0m\u001b[0;34m:\u001b[0m\u001b[0mk\u001b[0m \u001b[0;32mfor\u001b[0m \u001b[0mk\u001b[0m\u001b[0;34m,\u001b[0m\u001b[0mv\u001b[0m \u001b[0;32min\u001b[0m \u001b[0mself\u001b[0m\u001b[0;34m.\u001b[0m\u001b[0msop2depthandtime\u001b[0m\u001b[0;34m.\u001b[0m\u001b[0mitems\u001b[0m\u001b[0;34m(\u001b[0m\u001b[0;34m)\u001b[0m\u001b[0;34m}\u001b[0m\u001b[0;34m\u001b[0m\u001b[0;34m\u001b[0m\u001b[0m\n\u001b[1;32m    149\u001b[0m         \u001b[0mself\u001b[0m\u001b[0;34m.\u001b[0m\u001b[0mset_nr_slices_phases\u001b[0m\u001b[0;34m(\u001b[0m\u001b[0;34m)\u001b[0m\u001b[0;34m\u001b[0m\u001b[0;34m\u001b[0m\u001b[0m\n",
      "\u001b[0;32m~/Documents/GitHub/LazyLuna/src/LazyLuna/Mini_LL.py\u001b[0m in \u001b[0;36mget_sop2depthandtime\u001b[0;34m(self, sop2filepath, debug)\u001b[0m\n\u001b[1;32m    162\u001b[0m         \u001b[0mimgs\u001b[0m \u001b[0;34m=\u001b[0m \u001b[0;34m{\u001b[0m\u001b[0mk\u001b[0m\u001b[0;34m:\u001b[0m\u001b[0mpydicom\u001b[0m\u001b[0;34m.\u001b[0m\u001b[0mdcmread\u001b[0m\u001b[0;34m(\u001b[0m\u001b[0msop2filepath\u001b[0m\u001b[0;34m[\u001b[0m\u001b[0mk\u001b[0m\u001b[0;34m]\u001b[0m\u001b[0;34m)\u001b[0m \u001b[0;32mfor\u001b[0m \u001b[0mk\u001b[0m \u001b[0;32min\u001b[0m \u001b[0msop2filepath\u001b[0m\u001b[0;34m.\u001b[0m\u001b[0mkeys\u001b[0m\u001b[0;34m(\u001b[0m\u001b[0;34m)\u001b[0m\u001b[0;34m}\u001b[0m\u001b[0;34m\u001b[0m\u001b[0;34m\u001b[0m\u001b[0m\n\u001b[1;32m    163\u001b[0m         \u001b[0mprint\u001b[0m\u001b[0;34m(\u001b[0m\u001b[0;34m'nr images here: '\u001b[0m\u001b[0;34m,\u001b[0m \u001b[0mlen\u001b[0m\u001b[0;34m(\u001b[0m\u001b[0mimgs\u001b[0m\u001b[0;34m)\u001b[0m\u001b[0;34m)\u001b[0m\u001b[0;34m\u001b[0m\u001b[0;34m\u001b[0m\u001b[0m\n\u001b[0;32m--> 164\u001b[0;31m         \u001b[0msortable_slice_location_and_instance_number\u001b[0m \u001b[0;34m=\u001b[0m \u001b[0;34m[\u001b[0m\u001b[0;34m[\u001b[0m\u001b[0mfloat\u001b[0m\u001b[0;34m(\u001b[0m\u001b[0mv\u001b[0m\u001b[0;34m.\u001b[0m\u001b[0mSliceLocation\u001b[0m\u001b[0;34m)\u001b[0m\u001b[0;34m,\u001b[0m \u001b[0mfloat\u001b[0m\u001b[0;34m(\u001b[0m\u001b[0mv\u001b[0m\u001b[0;34m.\u001b[0m\u001b[0mInstanceNumber\u001b[0m\u001b[0;34m)\u001b[0m\u001b[0;34m]\u001b[0m \u001b[0;32mfor\u001b[0m \u001b[0msopinstanceuid\u001b[0m\u001b[0;34m,\u001b[0m \u001b[0mv\u001b[0m \u001b[0;32min\u001b[0m \u001b[0mimgs\u001b[0m\u001b[0;34m.\u001b[0m\u001b[0mitems\u001b[0m\u001b[0;34m(\u001b[0m\u001b[0;34m)\u001b[0m\u001b[0;34m]\u001b[0m\u001b[0;34m\u001b[0m\u001b[0;34m\u001b[0m\u001b[0m\n\u001b[0m\u001b[1;32m    165\u001b[0m         \u001b[0msl_len\u001b[0m \u001b[0;34m=\u001b[0m \u001b[0mlen\u001b[0m\u001b[0;34m(\u001b[0m\u001b[0mset\u001b[0m\u001b[0;34m(\u001b[0m\u001b[0;34m[\u001b[0m\u001b[0melem\u001b[0m\u001b[0;34m[\u001b[0m\u001b[0;36m0\u001b[0m\u001b[0;34m]\u001b[0m \u001b[0;32mfor\u001b[0m \u001b[0melem\u001b[0m \u001b[0;32min\u001b[0m \u001b[0msortable_slice_location_and_instance_number\u001b[0m\u001b[0;34m]\u001b[0m\u001b[0;34m)\u001b[0m\u001b[0;34m)\u001b[0m\u001b[0;34m\u001b[0m\u001b[0;34m\u001b[0m\u001b[0m\n\u001b[1;32m    166\u001b[0m         \u001b[0min_len\u001b[0m \u001b[0;34m=\u001b[0m \u001b[0mlen\u001b[0m\u001b[0;34m(\u001b[0m\u001b[0mset\u001b[0m\u001b[0;34m(\u001b[0m\u001b[0;34m[\u001b[0m\u001b[0melem\u001b[0m\u001b[0;34m[\u001b[0m\u001b[0;36m1\u001b[0m\u001b[0;34m]\u001b[0m \u001b[0;32mfor\u001b[0m \u001b[0melem\u001b[0m \u001b[0;32min\u001b[0m \u001b[0msortable_slice_location_and_instance_number\u001b[0m\u001b[0;34m]\u001b[0m\u001b[0;34m)\u001b[0m\u001b[0;34m)\u001b[0m\u001b[0;34m\u001b[0m\u001b[0;34m\u001b[0m\u001b[0m\n",
      "\u001b[0;32m~/Documents/GitHub/LazyLuna/src/LazyLuna/Mini_LL.py\u001b[0m in \u001b[0;36m<listcomp>\u001b[0;34m(.0)\u001b[0m\n\u001b[1;32m    162\u001b[0m         \u001b[0mimgs\u001b[0m \u001b[0;34m=\u001b[0m \u001b[0;34m{\u001b[0m\u001b[0mk\u001b[0m\u001b[0;34m:\u001b[0m\u001b[0mpydicom\u001b[0m\u001b[0;34m.\u001b[0m\u001b[0mdcmread\u001b[0m\u001b[0;34m(\u001b[0m\u001b[0msop2filepath\u001b[0m\u001b[0;34m[\u001b[0m\u001b[0mk\u001b[0m\u001b[0;34m]\u001b[0m\u001b[0;34m)\u001b[0m \u001b[0;32mfor\u001b[0m \u001b[0mk\u001b[0m \u001b[0;32min\u001b[0m \u001b[0msop2filepath\u001b[0m\u001b[0;34m.\u001b[0m\u001b[0mkeys\u001b[0m\u001b[0;34m(\u001b[0m\u001b[0;34m)\u001b[0m\u001b[0;34m}\u001b[0m\u001b[0;34m\u001b[0m\u001b[0;34m\u001b[0m\u001b[0m\n\u001b[1;32m    163\u001b[0m         \u001b[0mprint\u001b[0m\u001b[0;34m(\u001b[0m\u001b[0;34m'nr images here: '\u001b[0m\u001b[0;34m,\u001b[0m \u001b[0mlen\u001b[0m\u001b[0;34m(\u001b[0m\u001b[0mimgs\u001b[0m\u001b[0;34m)\u001b[0m\u001b[0;34m)\u001b[0m\u001b[0;34m\u001b[0m\u001b[0;34m\u001b[0m\u001b[0m\n\u001b[0;32m--> 164\u001b[0;31m         \u001b[0msortable_slice_location_and_instance_number\u001b[0m \u001b[0;34m=\u001b[0m \u001b[0;34m[\u001b[0m\u001b[0;34m[\u001b[0m\u001b[0mfloat\u001b[0m\u001b[0;34m(\u001b[0m\u001b[0mv\u001b[0m\u001b[0;34m.\u001b[0m\u001b[0mSliceLocation\u001b[0m\u001b[0;34m)\u001b[0m\u001b[0;34m,\u001b[0m \u001b[0mfloat\u001b[0m\u001b[0;34m(\u001b[0m\u001b[0mv\u001b[0m\u001b[0;34m.\u001b[0m\u001b[0mInstanceNumber\u001b[0m\u001b[0;34m)\u001b[0m\u001b[0;34m]\u001b[0m \u001b[0;32mfor\u001b[0m \u001b[0msopinstanceuid\u001b[0m\u001b[0;34m,\u001b[0m \u001b[0mv\u001b[0m \u001b[0;32min\u001b[0m \u001b[0mimgs\u001b[0m\u001b[0;34m.\u001b[0m\u001b[0mitems\u001b[0m\u001b[0;34m(\u001b[0m\u001b[0;34m)\u001b[0m\u001b[0;34m]\u001b[0m\u001b[0;34m\u001b[0m\u001b[0;34m\u001b[0m\u001b[0m\n\u001b[0m\u001b[1;32m    165\u001b[0m         \u001b[0msl_len\u001b[0m \u001b[0;34m=\u001b[0m \u001b[0mlen\u001b[0m\u001b[0;34m(\u001b[0m\u001b[0mset\u001b[0m\u001b[0;34m(\u001b[0m\u001b[0;34m[\u001b[0m\u001b[0melem\u001b[0m\u001b[0;34m[\u001b[0m\u001b[0;36m0\u001b[0m\u001b[0;34m]\u001b[0m \u001b[0;32mfor\u001b[0m \u001b[0melem\u001b[0m \u001b[0;32min\u001b[0m \u001b[0msortable_slice_location_and_instance_number\u001b[0m\u001b[0;34m]\u001b[0m\u001b[0;34m)\u001b[0m\u001b[0;34m)\u001b[0m\u001b[0;34m\u001b[0m\u001b[0;34m\u001b[0m\u001b[0m\n\u001b[1;32m    166\u001b[0m         \u001b[0min_len\u001b[0m \u001b[0;34m=\u001b[0m \u001b[0mlen\u001b[0m\u001b[0;34m(\u001b[0m\u001b[0mset\u001b[0m\u001b[0;34m(\u001b[0m\u001b[0;34m[\u001b[0m\u001b[0melem\u001b[0m\u001b[0;34m[\u001b[0m\u001b[0;36m1\u001b[0m\u001b[0;34m]\u001b[0m \u001b[0;32mfor\u001b[0m \u001b[0melem\u001b[0m \u001b[0;32min\u001b[0m \u001b[0msortable_slice_location_and_instance_number\u001b[0m\u001b[0;34m]\u001b[0m\u001b[0;34m)\u001b[0m\u001b[0;34m)\u001b[0m\u001b[0;34m\u001b[0m\u001b[0;34m\u001b[0m\u001b[0m\n",
      "\u001b[0;32m~/opt/anaconda3/lib/python3.8/site-packages/pydicom/dataset.py\u001b[0m in \u001b[0;36m__getattr__\u001b[0;34m(self, name)\u001b[0m\n\u001b[1;32m    834\u001b[0m             \u001b[0;32mreturn\u001b[0m \u001b[0;34m{\u001b[0m\u001b[0;34m}\u001b[0m\u001b[0;34m\u001b[0m\u001b[0;34m\u001b[0m\u001b[0m\n\u001b[1;32m    835\u001b[0m         \u001b[0;31m# Try the base class attribute getter (fix for issue 332)\u001b[0m\u001b[0;34m\u001b[0m\u001b[0;34m\u001b[0m\u001b[0;34m\u001b[0m\u001b[0m\n\u001b[0;32m--> 836\u001b[0;31m         \u001b[0;32mreturn\u001b[0m \u001b[0mobject\u001b[0m\u001b[0;34m.\u001b[0m\u001b[0m__getattribute__\u001b[0m\u001b[0;34m(\u001b[0m\u001b[0mself\u001b[0m\u001b[0;34m,\u001b[0m \u001b[0mname\u001b[0m\u001b[0;34m)\u001b[0m\u001b[0;34m\u001b[0m\u001b[0;34m\u001b[0m\u001b[0m\n\u001b[0m\u001b[1;32m    837\u001b[0m \u001b[0;34m\u001b[0m\u001b[0m\n\u001b[1;32m    838\u001b[0m     \u001b[0;34m@\u001b[0m\u001b[0mproperty\u001b[0m\u001b[0;34m\u001b[0m\u001b[0;34m\u001b[0m\u001b[0m\n",
      "\u001b[0;31mAttributeError\u001b[0m: 'FileDataset' object has no attribute 'SliceLocation'"
     ]
    }
   ],
   "source": [
    "# unpack the workspaces from ws_path to case_storage_path\n",
    "#cvi42ws_paths     = [f for f in os.listdir(bp_ws) if f.endswith('cvi42ws')]\n",
    "#parse_cvi42ws(bp_ws, bp_annos, process=True, debug=True)\n",
    "\n",
    "#parse_cvi42ws(bp_ws, bp_annos, process=True, debug=False)\n",
    "\n",
    "\n",
    "# get the paths of imgs and annotations via SeriesInstanceUIDs\n",
    "imgsanno_paths = get_imgs_and_annotation_paths(bp_imgs, bp_annos)\n",
    "\n",
    "cases = []\n",
    "sax_cine_view = SAX_CINE_View()\n",
    "#sax_cs_view   = SAX_CS_View()\n",
    "for count, (imgp,annop) in enumerate(imgsanno_paths):\n",
    "    if count < 2: continue\n",
    "    print(imgp, annop)\n",
    "    if not os.path.exists(imgp) or not os.path.exists(annop):\n",
    "        print(os.path.exists(imgp), os.path.exists(annop))\n",
    "        continue\n",
    "    st = time()\n",
    "    #try:\n",
    "    case = Case(imgp, annop, os.path.basename(imgp), os.path.basename(bp_annos))\n",
    "    case = sax_cine_view.customize_case(case)\n",
    "    #case = sax_cs_view.customize_case(case)\n",
    "    case.store(bp_cases)\n",
    "    cases.append(case)\n",
    "    print('Case customization took: ', time()-st, 'Case: ', case.reader_name, case.case_name)\n",
    "    #except Exception as e:\n",
    "    #    print('Case customization failed: ', e)\n",
    "    "
   ]
  },
  {
   "cell_type": "code",
   "execution_count": null,
   "id": "24faafff",
   "metadata": {
    "scrolled": true
   },
   "outputs": [],
   "source": [
    "all_cases = os.listdir(bp_imgs)\n",
    "print('All cases: ', all_cases)\n",
    "\n",
    "row_dict = {}\n",
    "row_counter = 0\n",
    "columns = ['case', 'sd', 'suid']\n",
    "for i_c, c in enumerate(all_cases):\n",
    "    for ip, p in enumerate(Path(os.path.join(bp_imgs, c)).glob('**/*.dcm')):\n",
    "        p = str(p)\n",
    "        dcm = pydicom.dcmread(p, stop_before_pixels=False)\n",
    "        #match = CS_SAX.match(dcm.SeriesDescription)\n",
    "        #print(dcm.SeriesDescription, bool(match))\n",
    "        #if not match: add_LL_tag(p, dcm, tag='Lazy Luna: None')\n",
    "        #else:         add_LL_tag(p, dcm, tag='Lazy Luna: SAX CS')\n",
    "        try:\n",
    "            row = [c, dcm.SeriesDescription, dcm.SeriesInstanceUID]\n",
    "            row_dict['row_'+str(row_counter).zfill(6)] = row\n",
    "            row_counter += 1\n",
    "        except: continue\n",
    "    print(i_c, 'Done for', c)\n",
    "    #if i_c==1: break\n",
    "\n",
    "df = pandas.DataFrame.from_dict(row_dict, orient='index', columns=columns)\n",
    "display(df)"
   ]
  },
  {
   "cell_type": "code",
   "execution_count": null,
   "id": "33827be4",
   "metadata": {},
   "outputs": [],
   "source": [
    "print('Cine SAX images:')\n",
    "for k,v in sorted(df[['case','sd']].value_counts().iteritems()):\n",
    "    if curr is None or curr!=k[0]: print(k[0])\n",
    "    curr = k[0]\n",
    "    if 'RV 7 0' in k[1]:\n",
    "        print('\\t', k[1], v)"
   ]
  },
  {
   "cell_type": "code",
   "execution_count": null,
   "id": "7348d8e0",
   "metadata": {},
   "outputs": [],
   "source": [
    "print('Cine SAX images:')\n",
    "for k,v in sorted(df[['case','sd']].value_counts().iteritems()):\n",
    "    if curr is None or curr!=k[0]: print(k[0])\n",
    "    curr = k[0]\n",
    "    if 'RV 7 0' in k[1]:\n",
    "        print('\\t', k[1], v)\n",
    "print('CASE 003 1 is OFF BY 1')"
   ]
  },
  {
   "cell_type": "code",
   "execution_count": null,
   "id": "4ecdb4e6",
   "metadata": {
    "scrolled": true
   },
   "outputs": [],
   "source": [
    "print('4CH View images:')\n",
    "\n",
    "curr = None\n",
    "for k,v in sorted(df[['case','sd']].value_counts().iteritems()):\n",
    "    if curr is None or curr!=k[0]: print(k[0])\n",
    "    curr = k[0]\n",
    "    if 'cine_tf2d12' in k[1] and ('2 cv' in k[1] or '2cv' in k[1]):\n",
    "        print('\\t', k[1],v)\n",
    "    if 'cine_tf2d12' in k[1] and ('3 cv' in k[1] or '3cv' in k[1]):\n",
    "        print('\\t', k[1], v)\n",
    "    if 'cine_tf2d12' in k[1] and ('4 cv' in k[1] or '4cv' in k[1]):\n",
    "        print('\\t', k[1], v)\n",
    "print('Several cases have two series of 4cv')"
   ]
  },
  {
   "cell_type": "code",
   "execution_count": null,
   "id": "566a1e8b",
   "metadata": {
    "scrolled": true
   },
   "outputs": [],
   "source": [
    "print('T1 images:')\n",
    "for k,v in sorted(df[['case','sd']].value_counts().iteritems()):\n",
    "    if curr is None or curr!=k[0]: print(k[0])\n",
    "    curr = k[0]\n",
    "    #if curr!='Camaid_011_2': continue\n",
    "    if 'pre_MOLLI' in k[1] and 'T1' in k[1] and 'T1S' not in k[1] and '4cv' not in k[1]:\n",
    "        print('\\t', k[1], v)\n",
    "    #print('\\t', k[1], v)\n",
    "print('T1 fehlt bei Camaid 11')"
   ]
  },
  {
   "cell_type": "code",
   "execution_count": null,
   "id": "faa38f2c",
   "metadata": {
    "scrolled": true
   },
   "outputs": [],
   "source": [
    "print('T2 images:')\n",
    "for k,v in sorted(df[['case','sd']].value_counts().iteritems()):\n",
    "    if curr is None or curr!=k[0]: print(k[0])\n",
    "    curr = k[0]\n",
    "    #if curr!='Camaid_011_2': continue\n",
    "    if 'T2' in k[1] and 'MOCO_T2' in k[1] and '4cv' not in k[1]:\n",
    "        print('\\t', k[1], v)\n",
    "    #print('\\t', k[1], v)\n",
    "print('Viele Fälle bereits 3 aus 5 definiert.')"
   ]
  },
  {
   "cell_type": "code",
   "execution_count": null,
   "id": "5d62dbfb",
   "metadata": {
    "scrolled": true
   },
   "outputs": [],
   "source": [
    "print('LGE images:')\n",
    "for k,v in sorted(df[['case','sd']].value_counts().iteritems()):\n",
    "    if curr is None or curr!=k[0]: print(k[0])\n",
    "    curr = k[0]\n",
    "    #if curr!='Camaid_011_2': continue\n",
    "    if 'LGE' in k[1]:\n",
    "        print('\\t', k[1], v)\n",
    "    #print('\\t', k[1], v)\n",
    "print('')"
   ]
  },
  {
   "cell_type": "code",
   "execution_count": null,
   "id": "59557d09",
   "metadata": {},
   "outputs": [],
   "source": [
    "def add_LL_tag(store_path, dcm, tag='Lazy Luna: None'): # Lazy Luna: SAX CS\n",
    "    try:    dcm[0x0b, 0x10].value = tag\n",
    "    except: dcm.private_block(0x000b, tag, create=True)\n",
    "    dcm.save_as(filename=store_path, write_like_original=False)\n",
    "    \n",
    "all_cases = os.listdir(bp_imgs)\n",
    "print('All cases: ', all_cases)\n",
    "\n",
    "columns = ['case', 'sd', 'suid']\n",
    "for i_c, c in enumerate(all_cases):\n",
    "    for ip, p in enumerate(Path(os.path.join(bp_imgs, c)).glob('**/*.dcm')):\n",
    "        p = str(p)\n",
    "        dcm = pydicom.dcmread(p, stop_before_pixels=False)\n",
    "        #print(dcm.SeriesDescription)\n",
    "        try:\n",
    "            if 'RV 7 0' in dcm.SeriesDescription: add_LL_tag(p, dcm, tag='Lazy Luna: SAX CINE')\n",
    "            else:                                 add_LL_tag(p, dcm, tag='Lazy Luna: None')\n",
    "        except: \n",
    "            continue\n",
    "    print(i_c, 'Done for', c)\n"
   ]
  },
  {
   "cell_type": "code",
   "execution_count": null,
   "id": "78fa8615",
   "metadata": {},
   "outputs": [],
   "source": [
    "for i_c, c in enumerate(all_cases):\n",
    "    for ip, p in enumerate(Path(os.path.join(bp_imgs, c)).glob('**/*.dcm')):\n",
    "        p = str(p)\n",
    "        dcm = pydicom.dcmread(p, stop_before_pixels=False)\n",
    "        name = str(dcm[0x0b, 0x10].value).replace('Lazy Luna: ', '') # LL Tag\n",
    "        print(name)"
   ]
  },
  {
   "cell_type": "code",
   "execution_count": null,
   "id": "845223ab",
   "metadata": {},
   "outputs": [],
   "source": []
  }
 ],
 "metadata": {
  "kernelspec": {
   "display_name": "Python 3",
   "language": "python",
   "name": "python3"
  },
  "language_info": {
   "codemirror_mode": {
    "name": "ipython",
    "version": 3
   },
   "file_extension": ".py",
   "mimetype": "text/x-python",
   "name": "python",
   "nbconvert_exporter": "python",
   "pygments_lexer": "ipython3",
   "version": "3.8.8"
  }
 },
 "nbformat": 4,
 "nbformat_minor": 5
}
