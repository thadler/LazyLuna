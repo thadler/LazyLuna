{
 "cells": [
  {
   "cell_type": "code",
   "execution_count": 5,
   "id": "3fd81e89",
   "metadata": {},
   "outputs": [],
   "source": [
    "import os\n",
    "from pathlib import Path\n",
    "from operator import itemgetter\n",
    "import pickle\n",
    "import pydicom\n",
    "from time import time\n",
    "import pandas\n",
    "\n",
    "import matplotlib.pyplot as plt\n",
    "import numpy as np\n",
    "from shapely.geometry import Polygon, MultiPolygon, LineString, GeometryCollection, Point, MultiPoint\n",
    "from shapely.affinity import translate\n",
    "\n",
    "from catch_converter.parse_contours import parse_cvi42ws\n",
    "from LazyLuna.Mini_LL import *\n",
    "from LazyLuna.CATCH_utils import *\n",
    "from LazyLuna.Figures import *"
   ]
  },
  {
   "cell_type": "code",
   "execution_count": 6,
   "id": "48aa3bf1",
   "metadata": {},
   "outputs": [],
   "source": [
    "# basepaths\n",
    "bp       = '/Users/dietrichhadler/Desktop/Daten/CAMAID'\n",
    "bp_annos1 = '/Users/dietrichhadler/Desktop/Daten/CAMAID/Gold'\n",
    "bp_annos2 = '/Users/dietrichhadler/Desktop/Daten/CAMAID/Reader2'\n",
    "bp_cases = '/Users/dietrichhadler/Desktop/Daten/CAMAID/Cases'\n",
    "bp_imgs  = '/Users/dietrichhadler/Desktop/Daten/CAMAID/Imgs'"
   ]
  },
  {
   "cell_type": "code",
   "execution_count": null,
   "id": "86f1b76e",
   "metadata": {
    "scrolled": true
   },
   "outputs": [],
   "source": [
    "# unpack the workspaces from ws_path to case_storage_path\n",
    "#cvi42ws_paths     = [f for f in os.listdir(bp_ws) if f.endswith('cvi42ws')]\n",
    "parse_cvi42ws(bp_annos1, bp_annos1, process=True, debug=False)\n",
    "parse_cvi42ws(bp_annos2, bp_annos2, process=True, debug=False)"
   ]
  },
  {
   "cell_type": "code",
   "execution_count": null,
   "id": "243a92ef",
   "metadata": {},
   "outputs": [],
   "source": [
    "# get the paths of imgs and annotations via SeriesInstanceUIDs\n",
    "imgsanno_paths = get_imgs_and_annotation_paths(bp_imgs, bp_annos2)\n",
    "\n",
    "print('Nr of path tuples: ', len(imgsanno_paths))\n",
    "case_names = sorted([c[0] for c in imgsanno_paths])\n",
    "from pprint import pprint\n",
    "print('Existing Annotations: ', len(sorted([c[0] for c in imgsanno_paths if os.path.exists(c[1])])))\n",
    "pprint(sorted([c[0] for c in imgsanno_paths if os.path.exists(c[1])]))\n",
    "\n",
    "cases = []\n",
    "sax_cine_view = SAX_CINE_View()\n",
    "#sax_cs_view   = SAX_CS_View()\n",
    "for count, (imgp,annop) in enumerate(imgsanno_paths):\n",
    "    if '013' not in imgp: continue\n",
    "    print(count)\n",
    "    print(os.path.basename(imgp), os.path.basename(annop))\n",
    "    if not os.path.exists(imgp) or not os.path.exists(annop):\n",
    "        print(os.path.exists(imgp), os.path.exists(annop))\n",
    "        print('Not converting.'); print()\n",
    "        continue\n",
    "    st = time()\n",
    "    try:\n",
    "        case = Case(imgp, annop, os.path.basename(imgp), os.path.basename(bp_annos))\n",
    "        case = sax_cine_view.customize_case(case)\n",
    "        #case = sax_cs_view.customize_case(case)\n",
    "        case.store(bp_cases)\n",
    "        cases.append(case)\n",
    "        print('Case customization took: ', time()-st, 'Case: ', case.reader_name, case.case_name)\n",
    "    except Exception as e:\n",
    "        print('Case customization failed: ', e)\n",
    "    print()\n"
   ]
  },
  {
   "cell_type": "code",
   "execution_count": 7,
   "id": "19591427",
   "metadata": {
    "scrolled": true
   },
   "outputs": [],
   "source": [
    "cases  = [pickle.load(open(os.path.join(bp_cases, p), 'rb')) for p in os.listdir(bp_cases)]\n",
    "cases1 = sorted([c for c in cases if c.reader_name=='Gold'],     key=lambda c: c.case_name)\n",
    "cases2 = sorted([c for c in cases if c.reader_name=='Reader2'],  key=lambda c: c.case_name)\n",
    "sax_cine_view = SAX_CINE_View()\n",
    "ccs = []\n",
    "for c1,c2 in zip(cases1,cases2):\n",
    "    try:\n",
    "        cc = Case_Comparison(sax_cine_view.customize_case(c1), sax_cine_view.customize_case(c2))\n",
    "        ccs.append(cc)\n",
    "    except: continue\n",
    "\n",
    "##table = CC_Metrics_Table()\n",
    "#table.calculate(ccs[0])\n",
    "#table.present_contour_df('lv_endo')\n",
    "#display(table.df)"
   ]
  },
  {
   "cell_type": "code",
   "execution_count": 4,
   "id": "6bb74ced",
   "metadata": {
    "scrolled": true
   },
   "outputs": [
    {
     "name": "stdout",
     "output_type": "stream",
     "text": [
      "took :  3.1090359687805176\n"
     ]
    }
   ],
   "source": [
    "st = time()\n",
    "metrics_table = CCs_MetricsTable()\n",
    "metrics_table.calculate(ccs[0:2], sax_cine_view)\n",
    "print('took : ', time()-st)"
   ]
  },
  {
   "cell_type": "code",
   "execution_count": null,
   "id": "40ca8399",
   "metadata": {},
   "outputs": [],
   "source": [
    "metrics_table.store('/Users/dietrichhadler/Desktop/Export_comparison_Gold_Reader2/fdsfdsf.csv')"
   ]
  },
  {
   "cell_type": "code",
   "execution_count": null,
   "id": "9e6985e2",
   "metadata": {},
   "outputs": [],
   "source": [
    "def siuids(path, name):\n",
    "    siuidss = set()\n",
    "    img_folders = os.listdir(path)\n",
    "    for i, img_f in enumerate(img_folders):\n",
    "        #print(img_f)\n",
    "        #print(name)\n",
    "        if name not in img_f: continue\n",
    "        case_path = os.path.join(bp_imgs, img_f)\n",
    "        print(case_path)\n",
    "        for p in Path(case_path).glob('**/*.dcm'):\n",
    "            dcm = pydicom.dcmread(str(p), stop_before_pixels=True)\n",
    "            siuidss.add(dcm.StudyInstanceUID)\n",
    "    print(siuidss)\n",
    "            \n",
    "siuids('/Users/dietrichhadler/Desktop/Daten/CAMAID/Imgs', '018_1')"
   ]
  },
  {
   "cell_type": "code",
   "execution_count": null,
   "id": "9230c1b6",
   "metadata": {},
   "outputs": [],
   "source": []
  },
  {
   "cell_type": "code",
   "execution_count": null,
   "id": "655dc1de",
   "metadata": {
    "scrolled": true
   },
   "outputs": [],
   "source": [
    "display(df['annotated'])\n",
    "display(df.loc[df['annotated'].isin([0])])"
   ]
  },
  {
   "cell_type": "code",
   "execution_count": null,
   "id": "59cf766e",
   "metadata": {},
   "outputs": [],
   "source": []
  },
  {
   "cell_type": "code",
   "execution_count": null,
   "id": "c180693a",
   "metadata": {
    "scrolled": false
   },
   "outputs": [],
   "source": [
    "for k, v in df[['case','series_descr', 'annotated']].value_counts().iteritems():\n",
    "    if k[-1]>0:\n",
    "        print(k[-1], l)"
   ]
  },
  {
   "cell_type": "code",
   "execution_count": null,
   "id": "33827be4",
   "metadata": {},
   "outputs": [],
   "source": [
    "print('Cine SAX images:')\n",
    "curr = None\n",
    "for k,v in sorted(df[['case','series_descr']].value_counts().iteritems()):\n",
    "    if curr is None or curr!=k[0]: print(k[0])\n",
    "    curr = k[0]\n",
    "    if 'RV 7 0' in k[1] or k[1]=='SAX CINE':\n",
    "        print('\\t', k[1], v)\n",
    "print('Camaid_005_1 und Camaid_015_1 nicht segmentiert, da Vorhofflimmern')"
   ]
  },
  {
   "cell_type": "code",
   "execution_count": null,
   "id": "4ecdb4e6",
   "metadata": {
    "scrolled": true
   },
   "outputs": [],
   "source": [
    "print('4CH View images:')\n",
    "\n",
    "curr = None\n",
    "for k,v in sorted(df[['case','series_descr']].value_counts().iteritems()):\n",
    "    if curr is None or curr!=k[0]: print(k[0])\n",
    "    curr = k[0]\n",
    "    if 'cine_tf2d12' in k[1] and ('2 cv' in k[1] or '2cv' in k[1]):\n",
    "        print('\\t', k[1],v)\n",
    "    if 'cine_tf2d12' in k[1] and ('3 cv' in k[1] or '3cv' in k[1]):\n",
    "        print('\\t', k[1], v)\n",
    "    if 'cine_tf2d12' in k[1] and ('4 cv' in k[1] or '4cv' in k[1]):\n",
    "        print('\\t', k[1], v)\n",
    "print('Several cases have two or more series of LAX')"
   ]
  },
  {
   "cell_type": "code",
   "execution_count": null,
   "id": "566a1e8b",
   "metadata": {
    "scrolled": true
   },
   "outputs": [],
   "source": [
    "print('T1 images:')\n",
    "for k,v in sorted(df[['case','series_descr']].value_counts().iteritems()):\n",
    "    if curr is None or curr!=k[0]: print(k[0])\n",
    "    curr = k[0]\n",
    "    #if curr!='Camaid_011_2': continue\n",
    "    if 'pre_MOLLI' in k[1] and 'T1' in k[1] and 'T1S' not in k[1] and '4cv' not in k[1]:\n",
    "        print('\\t', k[1], v)\n",
    "    #print('\\t', k[1], v)\n",
    "print('T1 fehlt bei Camaid 11')"
   ]
  },
  {
   "cell_type": "code",
   "execution_count": null,
   "id": "faa38f2c",
   "metadata": {
    "scrolled": true
   },
   "outputs": [],
   "source": [
    "print('T2 images:')\n",
    "for k,v in sorted(df[['case','series_descr']].value_counts().iteritems()):\n",
    "    if curr is None or curr!=k[0]: print(k[0])\n",
    "    curr = k[0]\n",
    "    #if curr!='Camaid_011_2': continue\n",
    "    if 'T2' in k[1] and 'MOCO_T2' in k[1] and '4cv' not in k[1]:\n",
    "        print('\\t', k[1], v)\n",
    "    #print('\\t', k[1], v)\n",
    "print('Viele Fälle bereits 3 aus 5 definiert.')"
   ]
  },
  {
   "cell_type": "code",
   "execution_count": null,
   "id": "59557d09",
   "metadata": {},
   "outputs": [],
   "source": [
    "def add_LL_tag(store_path, dcm, tag='Lazy Luna: None'): # Lazy Luna: SAX CS\n",
    "    try:    dcm[0x0b, 0x10].value = tag\n",
    "    except: dcm.private_block(0x000b, tag, create=True)\n",
    "    dcm.save_as(filename=store_path, write_like_original=False)\n",
    "    \n",
    "all_cases = os.listdir(bp_imgs)\n",
    "print('All cases: ', all_cases)\n",
    "\n",
    "columns = ['case', 'series_descr', 'suid']\n",
    "for i_c, c in enumerate(all_cases):\n",
    "    for ip, p in enumerate(Path(os.path.join(bp_imgs, c)).glob('**/*.dcm')):\n",
    "        p = str(p)\n",
    "        dcm = pydicom.dcmread(p, stop_before_pixels=False)\n",
    "        #print(dcm.SeriesDescription)\n",
    "        try:\n",
    "            if 'RV 7 0' in dcm.SeriesDescription: add_LL_tag(p, dcm, tag='Lazy Luna: SAX CINE')\n",
    "            else:                                 add_LL_tag(p, dcm, tag='Lazy Luna: None')\n",
    "        except:\n",
    "            print('Failed at: Case', c)\n",
    "            print(dcm)\n",
    "            continue\n",
    "    print(i_c, 'Done for', c)\n"
   ]
  },
  {
   "cell_type": "code",
   "execution_count": null,
   "id": "78fa8615",
   "metadata": {},
   "outputs": [],
   "source": [
    "for i_c, c in enumerate(all_cases):\n",
    "    for ip, p in enumerate(Path(os.path.join(bp_imgs, c)).glob('**/*.dcm')):\n",
    "        p = str(p)\n",
    "        dcm = pydicom.dcmread(p, stop_before_pixels=False)\n",
    "        name = str(dcm[0x0b, 0x10].value).replace('Lazy Luna: ', '') # LL Tag\n",
    "        print(name)"
   ]
  },
  {
   "cell_type": "code",
   "execution_count": null,
   "id": "845223ab",
   "metadata": {},
   "outputs": [],
   "source": [
    "# 1st: (tool 1)\n",
    "# sort all images for one case\n",
    "# get all annos for each image and offer that as info too\n",
    "# add LL image tags for what we have here\n",
    "#\n",
    "# 2nd: (tool 2)\n",
    "# make cases, AFTER images are defined\n",
    "# created cases: connect annos to images\n",
    "# "
   ]
  },
  {
   "cell_type": "code",
   "execution_count": null,
   "id": "94d37363",
   "metadata": {},
   "outputs": [],
   "source": [
    "case_path = '/Users/dietrichhadler/Desktop/Daten/CAMAID/Cases/Gold_Camaid_007_1_LL_case.pickle'\n",
    "case = pickle.load(open(case_path, 'rb'))\n",
    "print(case.case_name)\n",
    "\n",
    "print(case.type)\n",
    "print(case.categories)\n",
    "print(case.other_categories)\n",
    "print(case.all_imgs_sop2filepath.keys())\n",
    "for k in case.all_imgs_sop2filepath.keys():\n",
    "    print(k, len(case.all_imgs_sop2filepath[k]), end=', ')\n",
    "for cr in case.crs:\n",
    "    print(cr.name, cr.get_cr(), end=', ')"
   ]
  },
  {
   "cell_type": "code",
   "execution_count": null,
   "id": "d0bcfecb",
   "metadata": {},
   "outputs": [],
   "source": [
    "view = SAX_CINE_View()\n",
    "case = view.customize_case(case)\n",
    "print(case.case_name)\n",
    "\n",
    "print(case.type)\n",
    "print(case.categories)\n",
    "print(case.other_categories)\n",
    "print(case.all_imgs_sop2filepath.keys())\n",
    "for k in case.all_imgs_sop2filepath.keys():\n",
    "    print(k, len(case.all_imgs_sop2filepath[k]), end=', ')\n",
    "for cr in case.crs:\n",
    "    print(cr.name, cr.get_cr(), end=', ')"
   ]
  },
  {
   "cell_type": "code",
   "execution_count": null,
   "id": "020ea7fc",
   "metadata": {},
   "outputs": [],
   "source": [
    "from LazyLuna.loading_functions import *\n",
    "\n",
    "view       = Mini_LL.SAX_CINE_View()\n",
    "case_paths = '/Users/dietrichhadler/Desktop/Daten/CAMAID/Cases'\n",
    "paths      = [str(p) for p in Path(case_paths).glob('**/*.pickle')]\n",
    "all_cases  = [pickle.load(open(p,'rb')) for p in paths]\n",
    "cases1     = sorted([c for c in all_cases if c.reader_name=='Gold'],    key=lambda c:c.case_name)\n",
    "cases2     = sorted([c for c in all_cases if c.reader_name=='Reader2'], key=lambda c:c.case_name)\n",
    "ccs = []\n",
    "for c1,c2 in zip(cases1,cases2):\n",
    "    try:ccs.append(Mini_LL.Case_Comparison(view.customize_case(c1), view.customize_case(c2)))\n",
    "    except: continue\n",
    "print(len(ccs))"
   ]
  },
  {
   "cell_type": "code",
   "execution_count": null,
   "id": "70b3e7b4",
   "metadata": {},
   "outputs": [],
   "source": [
    "ba = BlandAltman()\n",
    "ba.visualize(ccs, 'RVESV')\n",
    "ba.store('/Users/dietrichhadler/Desktop')"
   ]
  },
  {
   "cell_type": "code",
   "execution_count": null,
   "id": "90dd4327",
   "metadata": {},
   "outputs": [],
   "source": [
    "fig, ax = plt.subplots(1,1, figsize=(7,7))\n",
    "h, w = 5,5\n",
    "ax.imshow(np.arange(h*w).reshape(h,w), extent=(0, w, h, 0))\n",
    "plt.show()"
   ]
  },
  {
   "cell_type": "code",
   "execution_count": null,
   "id": "efbac7de",
   "metadata": {},
   "outputs": [],
   "source": []
  }
 ],
 "metadata": {
  "kernelspec": {
   "display_name": "Python 3",
   "language": "python",
   "name": "python3"
  },
  "language_info": {
   "codemirror_mode": {
    "name": "ipython",
    "version": 3
   },
   "file_extension": ".py",
   "mimetype": "text/x-python",
   "name": "python",
   "nbconvert_exporter": "python",
   "pygments_lexer": "ipython3",
   "version": "3.8.8"
  }
 },
 "nbformat": 4,
 "nbformat_minor": 5
}
