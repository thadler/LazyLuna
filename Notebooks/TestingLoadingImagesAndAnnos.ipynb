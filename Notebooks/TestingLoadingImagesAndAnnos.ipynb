{
 "cells": [
  {
   "cell_type": "code",
   "execution_count": null,
   "id": "4d5bc8c9",
   "metadata": {},
   "outputs": [],
   "source": [
    "import os\n",
    "from pathlib import Path\n",
    "from operator import itemgetter\n",
    "import pickle\n",
    "import pydicom\n",
    "from time import time\n",
    "import pandas\n",
    "\n",
    "from LazyLuna.loading_functions import *"
   ]
  },
  {
   "cell_type": "code",
   "execution_count": null,
   "id": "6185b7e2",
   "metadata": {},
   "outputs": [],
   "source": [
    "# basepaths\n",
    "bp       = '/Users/dietrichhadler/Desktop/Daten/CAMAID'\n",
    "bp_ws    = '/Users/dietrichhadler/Desktop/Daten/CAMAID/Workspaces'\n",
    "bp_annos = '/Users/dietrichhadler/Desktop/Daten/CAMAID/Gold'\n",
    "bp_cases = '/Users/dietrichhadler/Desktop/Daten/CAMAID/Cases'\n",
    "bp_imgs  = '/Users/dietrichhadler/Desktop/Daten/CAMAID/Imgs'"
   ]
  },
  {
   "cell_type": "code",
   "execution_count": null,
   "id": "f303bc08",
   "metadata": {},
   "outputs": [],
   "source": [
    "all_cases = os.listdir(bp_imgs)\n",
    "case = all_cases[7]\n",
    "\n",
    "# get imgs data frame\n",
    "imgs_df = dicom_images_to_table(os.path.join(bp_imgs, case))\n",
    "display(imgs_df)\n",
    "print(imgs_df.to_string())"
   ]
  },
  {
   "cell_type": "code",
   "execution_count": null,
   "id": "8c9f56f0",
   "metadata": {
    "scrolled": true
   },
   "outputs": [],
   "source": [
    "study_uid = get_study_uid(os.path.join(bp_imgs, case))\n",
    "annos_df  = annos_to_table(os.path.join(bp_annos, study_uid))\n",
    "display(annos_df)"
   ]
  },
  {
   "cell_type": "code",
   "execution_count": null,
   "id": "e34afe65",
   "metadata": {},
   "outputs": [],
   "source": [
    "display(present_nrimages_nr_annos_table(imgs_df, annos_df, by_series=True))"
   ]
  },
  {
   "cell_type": "code",
   "execution_count": null,
   "id": "65547cb3",
   "metadata": {},
   "outputs": [],
   "source": [
    "sd      = 'tf2d14 _retro_iPAT_ sax + RV 7 0'\n",
    "ser_uid = '1.3.12.2.1107.5.2.41.69541.30000021080905580950100000759'\n",
    "dcm_paths, anno_paths = get_paths_for_series_descr(imgs_df, annos_df, \n",
    "                                                   sd, ser_uid)\n",
    "#dcm_paths, anno_paths = get_paths_for_series_descr(imgs_df, annos_df, \n",
    "#                                                   sd, None)\n",
    "print(len(dcm_paths))\n",
    "print(len(anno_paths))"
   ]
  },
  {
   "cell_type": "code",
   "execution_count": null,
   "id": "cdf4250a",
   "metadata": {},
   "outputs": [],
   "source": [
    "import matplotlib.pyplot as plt\n",
    "for i, dcm_p in enumerate(dcm_paths):\n",
    "    plt.imshow(pydicom.dcmread(dcm_p).pixel_array)\n",
    "    plt.show()"
   ]
  },
  {
   "cell_type": "code",
   "execution_count": null,
   "id": "4320e361",
   "metadata": {},
   "outputs": [],
   "source": [
    "key2LLtag = {'tf2d14 _retro_iPAT_ sax + RV 7 0':'Lazy Luna: SAX CINE'}\n",
    "add_and_store_LL_tags(imgs_df, key2LLtag)"
   ]
  },
  {
   "cell_type": "code",
   "execution_count": null,
   "id": "19d147c7",
   "metadata": {},
   "outputs": [],
   "source": []
  }
 ],
 "metadata": {
  "kernelspec": {
   "display_name": "Python 3",
   "language": "python",
   "name": "python3"
  },
  "language_info": {
   "codemirror_mode": {
    "name": "ipython",
    "version": 3
   },
   "file_extension": ".py",
   "mimetype": "text/x-python",
   "name": "python",
   "nbconvert_exporter": "python",
   "pygments_lexer": "ipython3",
   "version": "3.8.8"
  }
 },
 "nbformat": 4,
 "nbformat_minor": 5
}
