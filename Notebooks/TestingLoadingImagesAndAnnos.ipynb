{
 "cells": [
  {
   "cell_type": "code",
   "execution_count": 1,
   "id": "4d5bc8c9",
   "metadata": {},
   "outputs": [],
   "source": [
    "import os\n",
    "from pathlib import Path\n",
    "from operator import itemgetter\n",
    "import pickle\n",
    "import pydicom\n",
    "from time import time\n",
    "import pandas\n",
    "\n",
    "from LazyLuna.loading_functions import *"
   ]
  },
  {
   "cell_type": "code",
   "execution_count": 6,
   "id": "6185b7e2",
   "metadata": {},
   "outputs": [],
   "source": [
    "# basepaths\n",
    "bp       = '/Users/dietrichhadler/Desktop/Daten/CAMAID'\n",
    "bp_ws    = '/Users/dietrichhadler/Desktop/Daten/CAMAID/Workspaces'\n",
    "bp_annos = '/Users/dietrichhadler/Desktop/Daten/CAMAID/Gold'\n",
    "bp_cases = '/Users/dietrichhadler/Desktop/Daten/CAMAID/Cases'\n",
    "bp_imgs  = '/Users/dietrichhadler/Desktop/Daten/CAMAID/Imgs'"
   ]
  },
  {
   "cell_type": "code",
   "execution_count": null,
   "id": "f303bc08",
   "metadata": {},
   "outputs": [],
   "source": [
    "all_cases = os.listdir(bp_imgs)\n",
    "case = all_cases[7]\n",
    "\n",
    "# get imgs data frame\n",
    "imgs_df = dicom_images_to_table(os.path.join(bp_imgs, case))\n",
    "display(imgs_df)\n",
    "print(imgs_df.to_string())"
   ]
  },
  {
   "cell_type": "code",
   "execution_count": null,
   "id": "8c9f56f0",
   "metadata": {
    "scrolled": true
   },
   "outputs": [],
   "source": [
    "study_uid = get_study_uid(os.path.join(bp_imgs, case))\n",
    "annos_df  = annos_to_table(os.path.join(bp_annos, study_uid))\n",
    "display(annos_df)"
   ]
  },
  {
   "cell_type": "code",
   "execution_count": null,
   "id": "e34afe65",
   "metadata": {},
   "outputs": [],
   "source": [
    "display(present_nrimages_nr_annos_table(imgs_df, annos_df, by_series=True))"
   ]
  },
  {
   "cell_type": "code",
   "execution_count": null,
   "id": "65547cb3",
   "metadata": {},
   "outputs": [],
   "source": [
    "sd      = 'tf2d14 _retro_iPAT_ sax + RV 7 0'\n",
    "ser_uid = '1.3.12.2.1107.5.2.41.69541.30000021080905580950100000759'\n",
    "dcm_paths, anno_paths = get_paths_for_series_descr(imgs_df, annos_df, \n",
    "                                                   sd, ser_uid)\n",
    "#dcm_paths, anno_paths = get_paths_for_series_descr(imgs_df, annos_df, \n",
    "#                                                   sd, None)\n",
    "print(len(dcm_paths))\n",
    "print(len(anno_paths))"
   ]
  },
  {
   "cell_type": "code",
   "execution_count": null,
   "id": "cdf4250a",
   "metadata": {},
   "outputs": [],
   "source": [
    "import matplotlib.pyplot as plt\n",
    "for i, dcm_p in enumerate(dcm_paths):\n",
    "    plt.imshow(pydicom.dcmread(dcm_p).pixel_array)\n",
    "    plt.show()"
   ]
  },
  {
   "cell_type": "code",
   "execution_count": null,
   "id": "4320e361",
   "metadata": {},
   "outputs": [],
   "source": [
    "key2LLtag = {'tf2d14 _retro_iPAT_ sax + RV 7 0':'Lazy Luna: SAX CINE'}\n",
    "add_and_store_LL_tags(imgs_df, key2LLtag)"
   ]
  },
  {
   "cell_type": "code",
   "execution_count": null,
   "id": "19d147c7",
   "metadata": {},
   "outputs": [],
   "source": []
  },
  {
   "cell_type": "code",
   "execution_count": null,
   "id": "49065048",
   "metadata": {},
   "outputs": [],
   "source": [
    "df = present_nrimages_nr_annos_table(imgs_df, annos_df, by_series=True)\n",
    "display(df)\n",
    "#df.sort_values(by='series_descr', key=lambda x: x.str.lower(), inplace=True)\n",
    "#display(df)"
   ]
  },
  {
   "cell_type": "code",
   "execution_count": 7,
   "id": "376a10aa",
   "metadata": {},
   "outputs": [
    {
     "name": "stdout",
     "output_type": "stream",
     "text": [
      "/Users/dietrichhadler/Desktop/Daten/CAMAID/Cases\n"
     ]
    },
    {
     "ename": "NameError",
     "evalue": "name 'bp_cases' is not defined",
     "output_type": "error",
     "traceback": [
      "\u001b[0;31m---------------------------------------------------------------------------\u001b[0m",
      "\u001b[0;31mNameError\u001b[0m                                 Traceback (most recent call last)",
      "\u001b[0;32m<ipython-input-7-54c91cbf06d7>\u001b[0m in \u001b[0;36m<module>\u001b[0;34m\u001b[0m\n\u001b[1;32m      1\u001b[0m \u001b[0mprint\u001b[0m\u001b[0;34m(\u001b[0m\u001b[0mbp_cases\u001b[0m\u001b[0;34m)\u001b[0m\u001b[0;34m\u001b[0m\u001b[0;34m\u001b[0m\u001b[0m\n\u001b[0;32m----> 2\u001b[0;31m \u001b[0mdf\u001b[0m \u001b[0;34m=\u001b[0m \u001b[0mget_cases_table\u001b[0m\u001b[0;34m(\u001b[0m\u001b[0mbp_cases\u001b[0m\u001b[0;34m)\u001b[0m\u001b[0;34m\u001b[0m\u001b[0;34m\u001b[0m\u001b[0m\n\u001b[0m\u001b[1;32m      3\u001b[0m \u001b[0mdf\u001b[0m \u001b[0;34m=\u001b[0m \u001b[0mget_comparison_table\u001b[0m\u001b[0;34m(\u001b[0m\u001b[0mdf\u001b[0m\u001b[0;34m,\u001b[0m \u001b[0;34m'Gold'\u001b[0m\u001b[0;34m,\u001b[0m \u001b[0;34m'Gold'\u001b[0m\u001b[0;34m)\u001b[0m\u001b[0;34m\u001b[0m\u001b[0;34m\u001b[0m\u001b[0m\n\u001b[1;32m      4\u001b[0m \u001b[0mdisplay\u001b[0m\u001b[0;34m(\u001b[0m\u001b[0mdf\u001b[0m\u001b[0;34m)\u001b[0m\u001b[0;34m\u001b[0m\u001b[0;34m\u001b[0m\u001b[0m\n",
      "\u001b[0;32m~/Documents/GitHub/LazyLuna/src/LazyLuna/loading_functions.py\u001b[0m in \u001b[0;36mget_cases_table\u001b[0;34m(cases_path, debug)\u001b[0m\n\u001b[1;32m    126\u001b[0m \u001b[0;32mdef\u001b[0m \u001b[0mget_cases_table\u001b[0m\u001b[0;34m(\u001b[0m\u001b[0mcases_path\u001b[0m\u001b[0;34m,\u001b[0m \u001b[0mdebug\u001b[0m\u001b[0;34m=\u001b[0m\u001b[0;32mFalse\u001b[0m\u001b[0;34m)\u001b[0m\u001b[0;34m:\u001b[0m\u001b[0;34m\u001b[0m\u001b[0;34m\u001b[0m\u001b[0m\n\u001b[1;32m    127\u001b[0m     \u001b[0;32mif\u001b[0m \u001b[0mdebug\u001b[0m\u001b[0;34m:\u001b[0m \u001b[0mst\u001b[0m \u001b[0;34m=\u001b[0m \u001b[0mtime\u001b[0m\u001b[0;34m(\u001b[0m\u001b[0;34m)\u001b[0m\u001b[0;34m\u001b[0m\u001b[0;34m\u001b[0m\u001b[0m\n\u001b[0;32m--> 128\u001b[0;31m     \u001b[0mpaths\u001b[0m   \u001b[0;34m=\u001b[0m \u001b[0;34m[\u001b[0m\u001b[0mstr\u001b[0m\u001b[0;34m(\u001b[0m\u001b[0mp\u001b[0m\u001b[0;34m)\u001b[0m \u001b[0;32mfor\u001b[0m \u001b[0mp\u001b[0m \u001b[0;32min\u001b[0m \u001b[0mPath\u001b[0m\u001b[0;34m(\u001b[0m\u001b[0mbp_cases\u001b[0m\u001b[0;34m)\u001b[0m\u001b[0;34m.\u001b[0m\u001b[0mglob\u001b[0m\u001b[0;34m(\u001b[0m\u001b[0;34m'**/*.pickle'\u001b[0m\u001b[0;34m)\u001b[0m\u001b[0;34m]\u001b[0m\u001b[0;34m\u001b[0m\u001b[0;34m\u001b[0m\u001b[0m\n\u001b[0m\u001b[1;32m    129\u001b[0m     \u001b[0mcases\u001b[0m   \u001b[0;34m=\u001b[0m \u001b[0;34m[\u001b[0m\u001b[0mpickle\u001b[0m\u001b[0;34m.\u001b[0m\u001b[0mload\u001b[0m\u001b[0;34m(\u001b[0m\u001b[0mopen\u001b[0m\u001b[0;34m(\u001b[0m\u001b[0mp\u001b[0m\u001b[0;34m,\u001b[0m\u001b[0;34m'rb'\u001b[0m\u001b[0;34m)\u001b[0m\u001b[0;34m)\u001b[0m \u001b[0;32mfor\u001b[0m \u001b[0mp\u001b[0m \u001b[0;32min\u001b[0m \u001b[0mpaths\u001b[0m\u001b[0;34m]\u001b[0m\u001b[0;34m\u001b[0m\u001b[0;34m\u001b[0m\u001b[0m\n\u001b[1;32m    130\u001b[0m     \u001b[0mcolumns\u001b[0m \u001b[0;34m=\u001b[0m \u001b[0;34m[\u001b[0m\u001b[0;34m'Case Name'\u001b[0m\u001b[0;34m,\u001b[0m \u001b[0;34m'Reader'\u001b[0m\u001b[0;34m,\u001b[0m \u001b[0;34m'Path'\u001b[0m\u001b[0;34m]\u001b[0m\u001b[0;34m\u001b[0m\u001b[0;34m\u001b[0m\u001b[0m\n",
      "\u001b[0;31mNameError\u001b[0m: name 'bp_cases' is not defined"
     ]
    }
   ],
   "source": [
    "print(bp_cases)\n",
    "df = get_cases_table(bp_cases)\n",
    "df = get_comparison_table(df, 'Gold', 'Gold')\n",
    "display(df)"
   ]
  },
  {
   "cell_type": "code",
   "execution_count": null,
   "id": "e5bfd0ea",
   "metadata": {},
   "outputs": [],
   "source": []
  }
 ],
 "metadata": {
  "kernelspec": {
   "display_name": "Python 3",
   "language": "python",
   "name": "python3"
  },
  "language_info": {
   "codemirror_mode": {
    "name": "ipython",
    "version": 3
   },
   "file_extension": ".py",
   "mimetype": "text/x-python",
   "name": "python",
   "nbconvert_exporter": "python",
   "pygments_lexer": "ipython3",
   "version": "3.8.8"
  }
 },
 "nbformat": 4,
 "nbformat_minor": 5
}
