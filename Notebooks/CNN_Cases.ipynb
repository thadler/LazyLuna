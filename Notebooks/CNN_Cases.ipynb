{
 "cells": [
  {
   "cell_type": "code",
   "execution_count": 1,
   "id": "92b21db9",
   "metadata": {},
   "outputs": [],
   "source": [
    "import os\n",
    "from pathlib import Path\n",
    "from operator import itemgetter\n",
    "import pickle\n",
    "import pydicom\n",
    "from time import time\n",
    "\n",
    "import matplotlib.pyplot as plt\n",
    "import numpy as np\n",
    "from shapely.geometry import Polygon, MultiPolygon, LineString, GeometryCollection, Point, MultiPoint\n",
    "from shapely.affinity import translate\n",
    "\n",
    "from catch_converter.parse_contours import parse_cvi42ws\n",
    "from LazyLuna.Mini_LL import *\n",
    "from LazyLuna.CATCH_utils import *"
   ]
  },
  {
   "cell_type": "code",
   "execution_count": 2,
   "id": "6ec3c241",
   "metadata": {},
   "outputs": [
    {
     "name": "stdout",
     "output_type": "stream",
     "text": [
      "/Users/dietrichhadler/Desktop/Daten/CS_ESED_Cases/Imgs/ECSPRESS-012 /Users/dietrichhadler/Desktop/Daten/CS_ESED_Cases/Preds/MRUNet/1.2.276.0.7230010.3.1.2.0.458.1575883615.363792\n",
      "Case customization took:  10.585137844085693 Case:  MRUNet ECSPRESS-012\n",
      "/Users/dietrichhadler/Desktop/Daten/CS_ESED_Cases/Imgs/ECSPRESS-003 /Users/dietrichhadler/Desktop/Daten/CS_ESED_Cases/Preds/MRUNet/1.2.276.0.7230010.3.1.2.0.458.1575883432.347603\n",
      "Case customization took:  10.76145315170288 Case:  MRUNet ECSPRESS-003\n",
      "/Users/dietrichhadler/Desktop/Daten/CS_ESED_Cases/Imgs/ECSPRESS-056 /Users/dietrichhadler/Desktop/Daten/CS_ESED_Cases/Preds/MRUNet/1.2.276.0.7230010.3.1.2.0.458.1575884610.449611\n",
      "Case customization took:  11.820950031280518 Case:  MRUNet ECSPRESS-056\n"
     ]
    }
   ],
   "source": [
    "# basepaths\n",
    "bp       = '/Users/dietrichhadler/Desktop/Daten/CS_ESED_Cases'\n",
    "bp_annos = '/Users/dietrichhadler/Desktop/Daten/CS_ESED_Cases/Preds/MRUNet'\n",
    "bp_cases = '/Users/dietrichhadler/Desktop/Daten/CS_ESED_Cases/Cases'\n",
    "bp_imgs  = '/Users/dietrichhadler/Desktop/Daten/CS_ESED_Cases/Imgs'\n",
    "\n",
    "imgsanno_paths = get_imgs_and_annotation_paths(bp_imgs, bp_annos)\n",
    "\n",
    "cases = []\n",
    "sax_cs_view   = SAX_CS_View()\n",
    "for imgp, annop in imgsanno_paths:\n",
    "    print(imgp, annop)\n",
    "    st = time()\n",
    "    case = Case(imgp, annop, os.path.basename(imgp), os.path.basename(bp_annos))\n",
    "    case = sax_cs_view.customize_case(case)\n",
    "    case.store(bp_cases)\n",
    "    cases.append(case)\n",
    "    print('Case customization took: ', time()-st, 'Case: ', case.reader_name, case.case_name)"
   ]
  },
  {
   "cell_type": "code",
   "execution_count": 3,
   "id": "d8aa70e6",
   "metadata": {},
   "outputs": [
    {
     "name": "stdout",
     "output_type": "stream",
     "text": [
      "CS data:\n",
      "LV endo volume curve:  [123.32962374880924, 120.64196955597905, 103.46172346161754, 92.27900794546878, 78.46913206076574, 71.57283609331074, 61.52221928861136, 58.91234286985023, 57.27036763950378, 61.859256309577226, 65.96419438544328, 70.67407070406853, 75.49629269634907, 85.43456382739316, 91.00863763567443, 96.11604479954144, 99.60740265775172, 102.21727907651288, 104.16172342823891, 105.42345176313664, 107.39382203955238, 113.45184644204103, 119.05184617501197, 125.18764835156966, 123.4419694224645]\n",
      "[9, 24, 8, 23]\n",
      "LVESV 70.94197192586189\n",
      "LVEDV 149.5493755849726\n",
      "RVESV 57.27036763950378\n",
      "RVEDV 125.18764835156966\n",
      "LVSV 78.60740365911072\n",
      "LVEF 52.56284310924526\n",
      "RVSV 67.91728071206589\n",
      "RVEF 54.25238161019563\n",
      "LVMYOMASS 102.97800723932173\n",
      "RVMYOMASS 0.0\n",
      "LVESP 9\n",
      "RVESP 8\n",
      "LVEDP 24\n",
      "RVEDP 23\n",
      "LVEDP 16\n",
      "['70.94', '149.55', '57.27', '125.19', '78.61', '52.56', '67.92', '54.25', '102.98', '0.00', '9', '8', '24', '23', '16']\n"
     ]
    }
   ],
   "source": [
    "sax_cs_view   = SAX_CS_View()\n",
    "case = cases[0]\n",
    "print('CS data:')\n",
    "case = sax_cs_view.customize_case(case)\n",
    "cat = [cat for cat in case.categories][0]\n",
    "print('LV endo volume curve: ', cat.get_volume_curve('rv_endo'))\n",
    "print([cat.phase for cat in case.categories])\n",
    "for cr in case.crs: print(cr.name, cr.get_cr())\n",
    "print([cr.get_cr(string=True) for cr in case.crs])"
   ]
  },
  {
   "cell_type": "code",
   "execution_count": 4,
   "id": "6f455b6d",
   "metadata": {},
   "outputs": [],
   "source": [
    "case_paths = [p for p in os.listdir(bp_cases) if 'Annos' in p and p.endswith('.pickle')]\n",
    "cases1 = sorted([pickle.load(open(os.path.join(bp_cases, p), 'rb')) for p in case_paths], key=lambda c:c.case_name)\n",
    "case_paths = [p for p in os.listdir(bp_cases) if 'UNet' in p and p.endswith('.pickle')]\n",
    "cases2 = sorted([pickle.load(open(os.path.join(bp_cases, p), 'rb')) for p in case_paths], key=lambda c:c.case_name)"
   ]
  },
  {
   "cell_type": "code",
   "execution_count": 6,
   "id": "632fa987",
   "metadata": {},
   "outputs": [
    {
     "name": "stdout",
     "output_type": "stream",
     "text": [
      "ECSPRESS-003 ECSPRESS-003\n",
      "LVESV True 44.67 43.62 1.05\n",
      "LVEDV True 142.08 137.69 4.39\n",
      "RVESV True 78.06 62.91 15.15\n",
      "RVEDV True 156.56 141.02 15.54\n",
      "LVSV True 97.41 94.07 3.34\n",
      "LVEF True 68.56 68.32 0.24\n",
      "RVSV True 78.50 78.11 0.39\n",
      "RVEF True 50.14 55.39 -5.25\n",
      "LVMYOMASS True 90.11 83.44 6.67\n",
      "RVMYOMASS True 0.00 0.00 0.00\n",
      "LVESP True 10 10 0.00\n",
      "RVESP True 10 11 1.00\n",
      "LVEDP True 24 24 0.00\n",
      "RVEDP True 24 24 0.00\n",
      "LVEDP True 16 16 0.00\n",
      "\n",
      "ECSPRESS-012 ECSPRESS-003\n",
      "LVESV True 78.55 49.39 29.16\n",
      "LVEDV True 157.61 143.16 14.45\n",
      "RVESV True 76.38 65.60 10.78\n",
      "RVEDV True 149.84 143.54 6.30\n",
      "LVSV True 79.06 93.77 -14.71\n",
      "LVEF True 50.16 65.50 -15.34\n",
      "RVSV True 73.46 77.94 -4.48\n",
      "RVEF True 49.02 54.30 -5.27\n",
      "LVMYOMASS True 122.17 90.61 31.57\n",
      "RVMYOMASS True 0.00 0.00 0.00\n",
      "LVESP True 8 10 2.00\n",
      "RVESP True 8 9 1.00\n",
      "LVEDP True 24 24 0.00\n",
      "RVEDP True 24 24 0.00\n",
      "LVEDP True 16 16 0.00\n",
      "\n",
      "ECSPRESS-056 ECSPRESS-012\n",
      "LVESV True 135.39 70.94 64.45\n",
      "LVEDV True 244.77 149.55 95.22\n",
      "RVESV True 86.95 57.27 29.68\n",
      "RVEDV True 185.49 125.19 60.30\n",
      "LVSV True 109.37 78.61 30.76\n",
      "LVEF True 44.68 52.56 -7.88\n",
      "RVSV True 98.53 67.92 30.62\n",
      "RVEF True 53.12 54.25 -1.13\n",
      "LVMYOMASS True 107.36 102.98 4.38\n",
      "RVMYOMASS True 0.00 0.00 0.00\n",
      "LVESP True 9 9 0.00\n",
      "RVESP True 9 8 1.00\n",
      "LVEDP True 24 24 0.00\n",
      "RVEDP True 24 23 1.00\n",
      "LVEDP True 17 16 1.00\n",
      "\n"
     ]
    }
   ],
   "source": [
    "for c1,c2 in zip(cases1, cases2):\n",
    "    print(c1.case_name, c2.case_name)\n",
    "    for cr1, cr2 in zip(c1.crs, c2.crs):\n",
    "        #print(cr1.name, cr1.get_cr_diff(cr2, True))\n",
    "        print(cr1.name, cr1.name==cr2.name, cr1.get_cr(True), cr2.get_cr(True), cr1.get_cr_diff(cr2, True))\n",
    "    print()"
   ]
  },
  {
   "cell_type": "code",
   "execution_count": null,
   "id": "656baa11",
   "metadata": {},
   "outputs": [],
   "source": []
  }
 ],
 "metadata": {
  "kernelspec": {
   "display_name": "Python 3",
   "language": "python",
   "name": "python3"
  },
  "language_info": {
   "codemirror_mode": {
    "name": "ipython",
    "version": 3
   },
   "file_extension": ".py",
   "mimetype": "text/x-python",
   "name": "python",
   "nbconvert_exporter": "python",
   "pygments_lexer": "ipython3",
   "version": "3.8.8"
  }
 },
 "nbformat": 4,
 "nbformat_minor": 5
}
