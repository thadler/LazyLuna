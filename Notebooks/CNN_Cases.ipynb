{
 "cells": [
  {
   "cell_type": "code",
   "execution_count": 1,
   "id": "8f5b8cdb",
   "metadata": {},
   "outputs": [],
   "source": [
    "import os\n",
    "from pathlib import Path\n",
    "from operator import itemgetter\n",
    "import pickle\n",
    "import pydicom\n",
    "import pandas\n",
    "from time import time\n",
    "\n",
    "import matplotlib.pyplot as plt\n",
    "import numpy as np\n",
    "from shapely.geometry import Polygon, MultiPolygon, LineString, GeometryCollection, Point, MultiPoint\n",
    "from shapely.affinity import translate\n",
    "\n",
    "from catch_converter.parse_contours import parse_cvi42ws\n",
    "from LazyLuna.Mini_LL import *\n",
    "from LazyLuna.CATCH_utils import *\n",
    "from LazyLuna.network_comparison_utils import *"
   ]
  },
  {
   "cell_type": "code",
   "execution_count": 2,
   "id": "84fa29d4",
   "metadata": {},
   "outputs": [],
   "source": [
    "# basepaths\n",
    "\"\"\"\n",
    "bp       = '/media/omega/Daten1/CATCH/CS'\n",
    "bp_annos = '/media/omega/Daten1/CATCH/CS/Preds/FCN'\n",
    "bp_cases = '/media/omega/Daten1/CATCH/CS/Cases'\n",
    "bp_imgs  = '/media/omega/Daten1/CATCH/CS/Imgs'\n",
    "\"\"\"\n",
    "bp       = '/Users/dietrichhadler/Desktop/Daten/CS_ESED_Cases'\n",
    "bp_annos = '/Users/dietrichhadler/Desktop/Daten/CS_ESED_Cases/Annos'\n",
    "bp_cases = '/Users/dietrichhadler/Desktop/Daten/CS_ESED_Cases/Cases'\n",
    "bp_imgs  = '/Users/dietrichhadler/Desktop/Daten/CS_ESED_Cases/Imgs'"
   ]
  },
  {
   "cell_type": "code",
   "execution_count": 3,
   "id": "584fecd7",
   "metadata": {
    "tags": []
   },
   "outputs": [
    {
     "data": {
      "text/plain": [
       "\"\\nimgsanno_paths = get_imgs_and_annotation_paths(bp_imgs, bp_annos)\\nimgsanno_paths = [p for p in imgsanno_paths if os.path.exists(p[1])]\\n\\ncases = []\\nsax_cs_view   = SAX_CS_View()\\nfor imgp, annop in imgsanno_paths:\\n    print(imgp, annop)\\n    st = time()\\n    case = Case(imgp, annop, os.path.basename(imgp), os.path.basename(bp_annos))\\n    case = sax_cs_view.customize_case(case)\\n    case.store(bp_cases)\\n    cases.append(case)\\n    print('Case customization took: ', time()-st, 'Case: ', case.reader_name, case.case_name)\\n\""
      ]
     },
     "execution_count": 3,
     "metadata": {},
     "output_type": "execute_result"
    }
   ],
   "source": [
    "\"\"\"\n",
    "imgsanno_paths = get_imgs_and_annotation_paths(bp_imgs, bp_annos)\n",
    "imgsanno_paths = [p for p in imgsanno_paths if os.path.exists(p[1])]\n",
    "\n",
    "cases = []\n",
    "sax_cs_view   = SAX_CS_View()\n",
    "for imgp, annop in imgsanno_paths:\n",
    "    print(imgp, annop)\n",
    "    st = time()\n",
    "    case = Case(imgp, annop, os.path.basename(imgp), os.path.basename(bp_annos))\n",
    "    case = sax_cs_view.customize_case(case)\n",
    "    case.store(bp_cases)\n",
    "    cases.append(case)\n",
    "    print('Case customization took: ', time()-st, 'Case: ', case.reader_name, case.case_name)\n",
    "\"\"\""
   ]
  },
  {
   "cell_type": "code",
   "execution_count": 4,
   "id": "17daf12d",
   "metadata": {},
   "outputs": [],
   "source": [
    "case_paths = [p for p in os.listdir(bp_cases) if 'Annos' in p and p.endswith('.pickle')]\n",
    "cases1 = sorted([pickle.load(open(os.path.join(bp_cases, p), 'rb')) for p in case_paths], key=lambda c:c.case_name)\n",
    "case_paths = [p for p in os.listdir(bp_cases) if 'FCN' in p and p.endswith('.pickle')]\n",
    "cases2 = sorted([pickle.load(open(os.path.join(bp_cases, p), 'rb')) for p in case_paths], key=lambda c:c.case_name)\n",
    "case_paths = [p for p in os.listdir(bp_cases) if 'MRUNet' in p and p.endswith('.pickle')]\n",
    "cases3 = sorted([pickle.load(open(os.path.join(bp_cases, p), 'rb')) for p in case_paths], key=lambda c:c.case_name)\n",
    "case_paths = [p for p in os.listdir(bp_cases) if 'UNet' in p and 'MRUNet' not in p and p.endswith('.pickle')]\n",
    "cases4 = sorted([pickle.load(open(os.path.join(bp_cases, p), 'rb')) for p in case_paths], key=lambda c:c.case_name)"
   ]
  },
  {
   "cell_type": "code",
   "execution_count": 5,
   "id": "0cffc1b9-acc6-445e-b458-a0cbe9059d67",
   "metadata": {},
   "outputs": [
    {
     "name": "stdout",
     "output_type": "stream",
     "text": [
      "3\n"
     ]
    }
   ],
   "source": [
    "case_names = set([c.case_name for c in cases2])\n",
    "cases1 = [c for c in cases1 if c.case_name in case_names]\n",
    "print(len(cases1))"
   ]
  },
  {
   "cell_type": "code",
   "execution_count": null,
   "id": "c4f13841",
   "metadata": {
    "tags": []
   },
   "outputs": [],
   "source": [
    "# get table of CRs, CR means and stdevs & wilcoxon test result diffs\n",
    "df, stats, wilcox_tests = clinical_result_pandas_table(cases1, cases4, with_dices=True)\n",
    "display(df)\n",
    "print(stats['LVESV difference'])\n",
    "print('Mean: ', stats['LVESV difference'].mean())\n",
    "print(wilcox_tests['RVESV difference'])\n",
    "pandas.DataFrame.to_csv(df, os.path.join(bp, 'UNet_cr_table.csv'), sep=';', decimal=',')"
   ]
  },
  {
   "cell_type": "code",
   "execution_count": null,
   "id": "fa26bc1f",
   "metadata": {
    "scrolled": true
   },
   "outputs": [],
   "source": [
    "SAX_candlelight_plot(cases1, {'UNet':cases4, 'FCN':cases2, 'MRUnet':cases3}, bp)"
   ]
  },
  {
   "cell_type": "markdown",
   "id": "bd258235",
   "metadata": {},
   "source": [
    "## Some random image comparisons"
   ]
  },
  {
   "cell_type": "code",
   "execution_count": null,
   "id": "1143ae20",
   "metadata": {
    "scrolled": true,
    "tags": []
   },
   "outputs": [],
   "source": [
    "# Just showing some images\n",
    "for c1,c2 in zip(cases1, cases4):\n",
    "    print(c1.case_name, c2.case_name)\n",
    "    lves1, lved1 = [c for c in c1.categories if 'ES' in c.name][0], [c for c in c1.categories if 'ED' in c.name][0]\n",
    "    cat2 = [c for c in c2.categories][0]\n",
    "    esp, edp = lves1.phase, lved1.phase\n",
    "    for d in range(lves1.nr_slices):\n",
    "        for p in [esp, edp]:\n",
    "            print('Slice: ', d, ',  Phase: ', p)\n",
    "            img1, anno1 = lves1.get_img(d, p), lves1.get_anno(d, p)\n",
    "            img2, anno2 = cat2 .get_img(d, p), cat2 .get_anno(d, p)\n",
    "            #fig, axes = plt.subplots(1,5, figsize=(20,10))\n",
    "            fig, axes = plt.subplots(1,3, figsize=(20,10))\n",
    "            #for i in range(5): axes[i].imshow(img1,cmap='gray'); axes[i].axis('off')\n",
    "            for i in range(3): axes[i].imshow(img1,cmap='gray'); axes[i].axis('off')\n",
    "            anno1.plot_all_contour_outlines(axes[0])\n",
    "            anno2.plot_all_contour_outlines(axes[1])\n",
    "            #anno1.plot_cont_comparison(axes[2], anno2, 'lv_endo')\n",
    "            #anno1.plot_cont_comparison(axes[3], anno2, 'lv_myo' )\n",
    "            #anno1.plot_cont_comparison(axes[4], anno2, 'rv_endo')\n",
    "            anno1.plot_cont_comparison(axes[2], anno2, 'lv_myo' )\n",
    "            anno1.plot_cont_comparison(axes[2], anno2, 'rv_endo')\n",
    "            fig.tight_layout()\n",
    "            plt.show()\n",
    "    break"
   ]
  },
  {
   "cell_type": "markdown",
   "id": "e4b68608",
   "metadata": {},
   "source": [
    "## Find terrible segmentations"
   ]
  },
  {
   "cell_type": "code",
   "execution_count": null,
   "id": "7e5dbf55",
   "metadata": {},
   "outputs": [],
   "source": [
    "metric = DiceMetric()\n",
    "for c1,c2 in zip(cases1, cases4):\n",
    "    cc = Case_Comparison(c1, c2)\n",
    "    metric.set_case_comparison(cc)\n",
    "    dice_dict = metric.calculate_all_vals(True)\n",
    "    for sop, c in dice_dict.keys():\n",
    "        if 0 < np.abs(dice_dict[(sop,c)]) < 65:\n",
    "            print(c, 'dice: ', dice_dict[(sop,c)])\n",
    "            img   = c1.get_img(sop)\n",
    "            anno1 = c1.load_anno(sop)\n",
    "            anno2 = c2.load_anno(sop)\n",
    "            if not anno1.has_contour(c) or not anno2.has_contour(c): continue\n",
    "            fig, ax = plt.subplots(1,1,figsize=(10,10))\n",
    "            ax.imshow(img, interpolation='none', cmap='gray')\n",
    "            anno1.plot_cont_comparison(ax, anno2, c)\n",
    "            ax.axis('off')\n",
    "            plt.show()"
   ]
  },
  {
   "cell_type": "markdown",
   "id": "2b01a858",
   "metadata": {},
   "source": [
    "## Making metric by phase slice table"
   ]
  },
  {
   "cell_type": "code",
   "execution_count": 11,
   "id": "6a32ae5e",
   "metadata": {},
   "outputs": [
    {
     "name": "stdout",
     "output_type": "stream",
     "text": [
      "46\n",
      "['case name', 'reader1', 'reader2', 'slice', 'lv_endo ES dice', 'lv_endo ES hd', 'lv_endo ES ml diff', 'lv_endo ES by reader1', 'lv_endo ES by reader2', 'lv_endo ES position1', 'lv_endo ES position2', 'lv_endo ED dice', 'lv_endo ED hd', 'lv_endo ED ml diff', 'lv_endo ED by reader1', 'lv_endo ED by reader2', 'lv_endo ED position1', 'lv_endo ED position2', 'lv_myo ES dice', 'lv_myo ES hd', 'lv_myo ES ml diff', 'lv_myo ES by reader1', 'lv_myo ES by reader2', 'lv_myo ES position1', 'lv_myo ES position2', 'lv_myo ED dice', 'lv_myo ED hd', 'lv_myo ED ml diff', 'lv_myo ED by reader1', 'lv_myo ED by reader2', 'lv_myo ED position1', 'lv_myo ED position2', 'rv_endo ES dice', 'rv_endo ES hd', 'rv_endo ES ml diff', 'rv_endo ES by reader1', 'rv_endo ES by reader2', 'rv_endo ES position1', 'rv_endo ES position2', 'rv_endo ED dice', 'rv_endo ED hd', 'rv_endo ED ml diff', 'rv_endo ED by reader1', 'rv_endo ED by reader2', 'rv_endo ED position1', 'rv_endo ED position2']\n"
     ]
    }
   ],
   "source": [
    "metric_names  = ['dice', 'hd', 'ml diff', 'by reader1', 'by reader2', 'position1', 'position2']\n",
    "contour_names = ['lv_endo', 'lv_myo', 'rv_endo']\n",
    "ph_names      = ['ES', 'ED']\n",
    "\n",
    "column_names  = ['case name', 'reader1', 'reader2', 'slice']\n",
    "column_names += [cn+' '+p+' '+mn for cn in contour_names for p in ph_names for mn in metric_names]\n",
    "print(len(column_names))\n",
    "print(column_names)"
   ]
  },
  {
   "cell_type": "code",
   "execution_count": 12,
   "id": "b10ec594",
   "metadata": {},
   "outputs": [],
   "source": [
    "def get_position(case, d, p, cont_name):\n",
    "    cat  = case.categories[0]\n",
    "    anno = cat.get_anno(d, p)\n",
    "    has_cont = anno.has_contour(cont_name)\n",
    "    if not has_cont:                    return 'outside'\n",
    "    if has_cont and d==0:               return 'basal'\n",
    "    if has_cont and d==cat.nr_slices-1: return 'apical'\n",
    "    prev_has_cont = cat.get_anno(d-1, p).has_contour(cont_name)\n",
    "    next_has_cont = cat.get_anno(d+1, p).has_contour(cont_name)\n",
    "    if prev_has_cont and next_has_cont: return 'midv'\n",
    "    if prev_has_cont and not next_has_cont: return 'apical'\n",
    "    if not prev_has_cont and next_has_cont: return 'basal'\n",
    "\n",
    "    \n",
    "def metrics_phase_slice_table(cases1, cases2, fixed_phase_first_reader=False):\n",
    "    dsc, hd, mld = DiceMetric(), HausdorffMetric(), mlDiffMetric()\n",
    "    metrics = [dsc.get_val, hd.get_val, mld.get_val, lambda g1,g2,_: not g1.is_empty, lambda g1,g2,_: not g2.is_empty]\n",
    "    view = SAX_CINE_View()\n",
    "    row_dict = {}\n",
    "    row_counter = 0\n",
    "    for c1,c2 in zip(cases1, cases2):\n",
    "        cc = Case_Comparison(c1,c2)\n",
    "        nr_slices = c1.categories[0].nr_slices\n",
    "        for sl_nr in range(nr_slices):\n",
    "            row = [c1.case_name if sl_nr==0 else '', c1.reader_name, c2.reader_name,  sl_nr]\n",
    "            for cont in contour_names:\n",
    "                cat_es1, cat_ed1 = view.get_categories(c1, cont)\n",
    "                cat_es2, cat_ed2 = view.get_categories(c2, cont)\n",
    "                p_es1, p_ed1 = cat_es1.phase, cat_ed1.phase \n",
    "                p_es2, p_ed2 = (p_es1, p_ed1) if fixed_phase_first_reader else (cat_es2.phase, cat_ed2.phase)\n",
    "                for cat1, cat2 in zip([cat_es1, cat_ed1],[cat_es2, cat_ed2]):\n",
    "                    p1, p2 = cat1.phase, cat1.phase if fixed_phase_first_reader else cat2.phase\n",
    "                    dcm = cat1.get_dcm(sl_nr, p1)\n",
    "                    cont1, cont2 = cat1.get_anno(sl_nr, p1).get_contour(cont), cat2.get_anno(sl_nr, p2).get_contour(cont)\n",
    "                    for m in metrics: \n",
    "                        if p1 is None or p2 is None: row.append('')\n",
    "                        else: row.append(m(cont1, cont2, dcm))\n",
    "                    row.extend([get_position(c1, sl_nr, p1, cont), get_position(c2, sl_nr, p2, cont)])\n",
    "            row_dict['row_'+str(row_counter).zfill(5)] = row\n",
    "            row_counter +=1 \n",
    "    df = pandas.DataFrame.from_dict(row_dict, orient='index', columns=column_names)\n",
    "    return df\n",
    "table = metrics_phase_slice_table(cases1, cases2, fixed_phase_first_reader=True)"
   ]
  },
  {
   "cell_type": "code",
   "execution_count": 17,
   "id": "4c23483f",
   "metadata": {},
   "outputs": [
    {
     "name": "stdout",
     "output_type": "stream",
     "text": [
      "/Users/dietrichhadler/Desktop/metrics_slicephase_table.csv\n"
     ]
    }
   ],
   "source": [
    "#display(table)\n",
    "print(os.path.join('/Users/dietrichhadler/Desktop', 'metrics_slicephase_table.csv'))\n",
    "pandas.DataFrame.to_csv(table, os.path.join('/Users/dietrichhadler/Desktop', 'metrics_slicephase_table.csv'), sep=';', decimal=',')"
   ]
  },
  {
   "cell_type": "markdown",
   "id": "6c2e9cb8",
   "metadata": {},
   "source": [
    "## Metric Plots"
   ]
  },
  {
   "cell_type": "code",
   "execution_count": null,
   "id": "ab128e2f",
   "metadata": {},
   "outputs": [],
   "source": []
  }
 ],
 "metadata": {
  "kernelspec": {
   "display_name": "Python 3",
   "language": "python",
   "name": "python3"
  },
  "language_info": {
   "codemirror_mode": {
    "name": "ipython",
    "version": 3
   },
   "file_extension": ".py",
   "mimetype": "text/x-python",
   "name": "python",
   "nbconvert_exporter": "python",
   "pygments_lexer": "ipython3",
   "version": "3.8.8"
  }
 },
 "nbformat": 4,
 "nbformat_minor": 5
}
