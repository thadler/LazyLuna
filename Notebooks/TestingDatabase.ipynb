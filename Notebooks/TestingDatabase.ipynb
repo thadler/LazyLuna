{
 "cells": [
  {
   "cell_type": "code",
   "execution_count": 1,
   "id": "13ae8909",
   "metadata": {},
   "outputs": [],
   "source": [
    "import sqlite3"
   ]
  },
  {
   "cell_type": "code",
   "execution_count": 12,
   "id": "a880e348",
   "metadata": {},
   "outputs": [],
   "source": [
    "conn = sqlite3.connect('/Users/dietrichhadler/Desktop/Daten/testDB.db')"
   ]
  },
  {
   "cell_type": "code",
   "execution_count": 13,
   "id": "099d9587",
   "metadata": {},
   "outputs": [
    {
     "name": "stdout",
     "output_type": "stream",
     "text": [
      "[('TableName',), ('TableNameBlabla',)]\n"
     ]
    }
   ],
   "source": [
    "conn.execute('CREATE TABLE IF NOT EXISTS TableNameBlabla (id INTEGER PRIMARY KEY, quantity INTEGER)')\n",
    "\n",
    "cursor = conn.cursor()\n",
    "cursor.execute(\"SELECT name FROM sqlite_master WHERE type='table';\")\n",
    "print(cursor.fetchall())\n",
    "\n",
    "conn.close()\n",
    "\n",
    "#display(conn)"
   ]
  },
  {
   "cell_type": "code",
   "execution_count": null,
   "id": "2144e7f4",
   "metadata": {},
   "outputs": [],
   "source": []
  },
  {
   "cell_type": "code",
   "execution_count": null,
   "id": "cbf421f8",
   "metadata": {},
   "outputs": [],
   "source": []
  }
 ],
 "metadata": {
  "kernelspec": {
   "display_name": "Python 3",
   "language": "python",
   "name": "python3"
  },
  "language_info": {
   "codemirror_mode": {
    "name": "ipython",
    "version": 3
   },
   "file_extension": ".py",
   "mimetype": "text/x-python",
   "name": "python",
   "nbconvert_exporter": "python",
   "pygments_lexer": "ipython3",
   "version": "3.8.8"
  }
 },
 "nbformat": 4,
 "nbformat_minor": 5
}
